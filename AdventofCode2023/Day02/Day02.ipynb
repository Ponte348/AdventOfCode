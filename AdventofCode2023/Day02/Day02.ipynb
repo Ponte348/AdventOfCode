{
 "cells": [
  {
   "cell_type": "code",
   "execution_count": 62,
   "metadata": {},
   "outputs": [],
   "source": [
    "import sys\n",
    "sys.path.append('..')\n",
    "\n",
    "from scanf import scanf\n"
   ]
  },
  {
   "cell_type": "markdown",
   "metadata": {},
   "source": [
    "## Part 1"
   ]
  },
  {
   "cell_type": "code",
   "execution_count": 63,
   "metadata": {},
   "outputs": [
    {
     "name": "stdout",
     "output_type": "stream",
     "text": [
      "2720\n"
     ]
    }
   ],
   "source": [
    "with open('input.txt', 'r') as f:\n",
    "    data = f.read().split('\\n')\n",
    "\n",
    "    # Look at this well made code, parsing is my passion\n",
    "    games = []\n",
    "    for line in data:\n",
    "        # remove everything that isn't necessary\n",
    "        line = line[line.find(': ')+1:]\n",
    "        # separte by semicolon\n",
    "        line = line.split(';')\n",
    "        for i in range(len(line)):\n",
    "            # split by comma\n",
    "            line[i] = line[i].split(',')\n",
    "\n",
    "        # add to games\n",
    "        games.append(line)\n",
    "        \n",
    "    maxRed, maxGreen, maxBlue, possible = 12,13,14,0\n",
    "    \n",
    "    for game in games:\n",
    "        red, green, blue = 0,0,0\n",
    "        for i in range(len(game)):\n",
    "            for j in range(len(game[i])):\n",
    "                game[i][j] = scanf(' %d %s', game[i][j])\n",
    "                if game[i][j][1] == 'red' and game[i][j][0] > red:\n",
    "                    red = game[i][j][0]\n",
    "                elif game[i][j][1] == 'green' and game[i][j][0] > green:\n",
    "                    green = game[i][j][0]\n",
    "                elif game[i][j][1] == 'blue' and game[i][j][0] > blue:\n",
    "                    blue = game[i][j][0]\n",
    "        \n",
    "        if red <= maxRed and green <= maxGreen and blue <= maxBlue:\n",
    "            possible += games.index(game)+1\n",
    "\n",
    "    print(possible)"
   ]
  },
  {
   "cell_type": "markdown",
   "metadata": {},
   "source": [
    "## Part 2"
   ]
  },
  {
   "cell_type": "code",
   "execution_count": 64,
   "metadata": {},
   "outputs": [
    {
     "name": "stdout",
     "output_type": "stream",
     "text": [
      "71535\n"
     ]
    }
   ],
   "source": [
    "with open('input.txt', 'r') as f:\n",
    "    data = f.read().split('\\n')\n",
    "\n",
    "    # Look at this well made code, parsing is my passion\n",
    "    games = []\n",
    "    for line in data:\n",
    "        # remove everything that isn't necessary\n",
    "        line = line[line.find(': ')+1:]\n",
    "        # separte by semicolon\n",
    "        line = line.split(';')\n",
    "        for i in range(len(line)):\n",
    "            # split by comma\n",
    "            line[i] = line[i].split(',')\n",
    "\n",
    "        # add to games\n",
    "        games.append(line)\n",
    "    \n",
    "    power_sum = 0\n",
    "    for game in games:\n",
    "        red, green, blue = 0,0,0\n",
    "        for i in range(len(game)):\n",
    "            for j in range(len(game[i])):\n",
    "                game[i][j] = scanf(' %d %s', game[i][j])\n",
    "                if game[i][j][1] == 'red' and game[i][j][0] > red:\n",
    "                    red = game[i][j][0]\n",
    "                elif game[i][j][1] == 'green' and game[i][j][0] > green:\n",
    "                    green = game[i][j][0]\n",
    "                elif game[i][j][1] == 'blue' and game[i][j][0] > blue:\n",
    "                    blue = game[i][j][0]\n",
    "\n",
    "        power_sum += red*green*blue\n",
    "        \n",
    "    print(power_sum)"
   ]
  }
 ],
 "metadata": {
  "kernelspec": {
   "display_name": "advenv",
   "language": "python",
   "name": "python3"
  },
  "language_info": {
   "codemirror_mode": {
    "name": "ipython",
    "version": 3
   },
   "file_extension": ".py",
   "mimetype": "text/x-python",
   "name": "python",
   "nbconvert_exporter": "python",
   "pygments_lexer": "ipython3",
   "version": "3.11.6"
  }
 },
 "nbformat": 4,
 "nbformat_minor": 2
}
