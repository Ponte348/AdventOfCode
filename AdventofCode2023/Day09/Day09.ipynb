{
 "cells": [
  {
   "cell_type": "code",
   "execution_count": 88,
   "metadata": {},
   "outputs": [],
   "source": [
    "import time\n",
    "from functools import reduce\n",
    "with open('input.txt') as f:\n",
    "    # I LOVE UNREADABLE CODE THAT I WON'T UNDERSTAND IN 2 DAYS BUT LOOKS SO COOL (this case is actually simple but ok)\n",
    "    readings = [[int(num) for num in line.split()] for line in f.read().splitlines()]"
   ]
  },
  {
   "cell_type": "markdown",
   "metadata": {},
   "source": [
    "## Part 1"
   ]
  },
  {
   "cell_type": "code",
   "execution_count": 89,
   "metadata": {},
   "outputs": [
    {
     "name": "stdout",
     "output_type": "stream",
     "text": [
      "Sum of extrapolated values: 2008960228\n",
      "Time taken: 3.217 ms\n"
     ]
    }
   ],
   "source": [
    "start, total = time.perf_counter_ns(), 0\n",
    "for r in readings:\n",
    "    last, current = [], r\n",
    "    while any(current):\n",
    "        last.append(current[-1])\n",
    "        current = [current[i+1] - current[i] for i in range(len(current)-1)]\n",
    "    total+=sum(last)\n",
    "print(\"Sum of extrapolated values:\", total)\n",
    "print(\"Time taken:\", round((time.perf_counter_ns()-start)/1000000, 3), \"ms\")"
   ]
  },
  {
   "cell_type": "markdown",
   "metadata": {},
   "source": [
    "## Part 2"
   ]
  },
  {
   "cell_type": "code",
   "execution_count": 91,
   "metadata": {},
   "outputs": [
    {
     "name": "stdout",
     "output_type": "stream",
     "text": [
      "Sum of extrapolated values: 1097\n",
      "Time taken: 2.16 ms\n"
     ]
    }
   ],
   "source": [
    "start, total = time.perf_counter_ns(), 0\n",
    "for r in readings:\n",
    "    first, current = [], r\n",
    "    while any(current):\n",
    "        first.append(current[0])\n",
    "        current = [current[i+1] - current[i] for i in range(len(current)-1)]\n",
    "    first.append(0)\n",
    "    total += reduce(lambda x, y: y - x, first[::-1])\n",
    "print(\"Sum of extrapolated values:\", total)\n",
    "print(\"Time taken:\", round((time.perf_counter_ns()-start)/1000000, 3), \"ms\")"
   ]
  }
 ],
 "metadata": {
  "kernelspec": {
   "display_name": "advenv",
   "language": "python",
   "name": "python3"
  },
  "language_info": {
   "codemirror_mode": {
    "name": "ipython",
    "version": 3
   },
   "file_extension": ".py",
   "mimetype": "text/x-python",
   "name": "python",
   "nbconvert_exporter": "python",
   "pygments_lexer": "ipython3",
   "version": "3.11.7"
  }
 },
 "nbformat": 4,
 "nbformat_minor": 2
}
