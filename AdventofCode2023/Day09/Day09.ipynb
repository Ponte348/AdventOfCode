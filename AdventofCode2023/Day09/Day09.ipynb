{
 "cells": [
  {
   "cell_type": "code",
   "execution_count": 85,
   "metadata": {},
   "outputs": [],
   "source": [
    "import time\n",
    "from functools import reduce\n",
    "with open('input.txt') as f:\n",
    "    # I LOVE UNREADABLE CODE THAT I WON'T UNDERSTAND IN 2 DAYS BUT LOOKS SO COOL (this case is actually simple but ok)\n",
    "    readings = [[int(num) for num in line.split()] for line in f.read().splitlines()]"
   ]
  },
  {
   "cell_type": "markdown",
   "metadata": {},
   "source": [
    "## Part 1"
   ]
  },
  {
   "cell_type": "code",
   "execution_count": 86,
   "metadata": {},
   "outputs": [
    {
     "name": "stdout",
     "output_type": "stream",
     "text": [
      "Sum of extrapolated values: 114\n",
      "Time taken: 0.166 ms\n"
     ]
    }
   ],
   "source": [
    "start, total = time.perf_counter_ns(), 0\n",
    "for r in readings:\n",
    "    last, current = [], r\n",
    "    while any(current):\n",
    "        last.append(current[-1])\n",
    "        current = [current[i+1] - current[i] for i in range(len(current)-1)]\n",
    "    total+=sum(last)\n",
    "print(\"Sum of extrapolated values:\", total)\n",
    "print(\"Time taken:\", round((time.perf_counter_ns()-start)/1000000, 3), \"ms\")"
   ]
  },
  {
   "cell_type": "markdown",
   "metadata": {},
   "source": [
    "## Part 2"
   ]
  },
  {
   "cell_type": "code",
   "execution_count": 87,
   "metadata": {},
   "outputs": [
    {
     "name": "stdout",
     "output_type": "stream",
     "text": [
      "Sum of extrapolated values: 2\n",
      "Time taken: 0.192 ms\n"
     ]
    }
   ],
   "source": [
    "start, total = time.perf_counter_ns(), 0\n",
    "for r in readings:\n",
    "    first, current = [], r\n",
    "    while any(current):\n",
    "        first.append(current[0])\n",
    "        current = [current[i+1] - current[i] for i in range(len(current)-1)]\n",
    "    first.append(0)\n",
    "    first.reverse()\n",
    "    total+=reduce(lambda x, y: y - x, first)\n",
    "print(\"Sum of extrapolated values:\", total)\n",
    "print(\"Time taken:\", round((time.perf_counter_ns()-start)/1000000, 3), \"ms\")"
   ]
  }
 ],
 "metadata": {
  "kernelspec": {
   "display_name": "advenv",
   "language": "python",
   "name": "python3"
  },
  "language_info": {
   "codemirror_mode": {
    "name": "ipython",
    "version": 3
   },
   "file_extension": ".py",
   "mimetype": "text/x-python",
   "name": "python",
   "nbconvert_exporter": "python",
   "pygments_lexer": "ipython3",
   "version": "3.11.7"
  }
 },
 "nbformat": 4,
 "nbformat_minor": 2
}
