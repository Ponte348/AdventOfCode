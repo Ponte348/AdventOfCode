{
 "cells": [
  {
   "cell_type": "markdown",
   "metadata": {},
   "source": [
    "Super important imports"
   ]
  },
  {
   "cell_type": "code",
   "execution_count": 79,
   "metadata": {},
   "outputs": [],
   "source": [
    "import os, sys, math, time\n",
    "sys.path.append(os.path.abspath(os.path.join(os.getcwd(), '..')))\n",
    "from scanf import scanf\n",
    "from collections import deque"
   ]
  },
  {
   "cell_type": "markdown",
   "metadata": {},
   "source": [
    "## Part 1"
   ]
  },
  {
   "cell_type": "code",
   "execution_count": 80,
   "metadata": {},
   "outputs": [
    {
     "name": "stdout",
     "output_type": "stream",
     "text": [
      "Steps needed: 23147 \n",
      "Time taken: 6.022947 ms\n"
     ]
    }
   ],
   "source": [
    "with open('input.txt', 'r') as f:\n",
    "    lines = f.readlines()\n",
    "start, instructions = time.perf_counter_ns(), deque(lines[0].strip())\n",
    "directions = {scanf(\"%s = \\(%s, %s\\)\", line)[0]: scanf(\"%s = \\(%s, %s\\)\", line)[1:] for line in lines[2:]}\n",
    "\n",
    "steps, pos, end = 0, 'AAA', 'ZZZ'\n",
    "while pos != end:\n",
    "    pos = directions[pos][0] if instructions[0] == 'L' else directions[pos][1]\n",
    "    instructions.rotate(-1)\n",
    "    steps += 1\n",
    "\n",
    "print(\"Steps needed:\", steps, \"\\nTime taken:\", (time.perf_counter_ns() - start)/1000000, \"ms\")"
   ]
  },
  {
   "cell_type": "markdown",
   "metadata": {},
   "source": [
    "## Part 2"
   ]
  },
  {
   "cell_type": "code",
   "execution_count": 81,
   "metadata": {},
   "outputs": [
    {
     "name": "stdout",
     "output_type": "stream",
     "text": [
      "Steps needed: 22289513667691 \n",
      "Time taken: 35.325092 ms\n"
     ]
    }
   ],
   "source": [
    "with open('input.txt', 'r') as f:\n",
    "    lines = f.readlines()\n",
    "start, instructions = time.perf_counter_ns(), deque(lines[0].strip())\n",
    "directions = {scanf(\"%s = \\(%s, %s\\)\", line)[0]: scanf(\"%s = \\(%s, %s\\)\", line)[1:] for line in lines[2:]}\n",
    "\n",
    "paths = {key: {'end': '', 'steps': 0} for key in directions if key[2] == 'A'}\n",
    "\n",
    "for key in paths:\n",
    "    ins, pos = instructions.copy(), key\n",
    "    while pos[2] != 'Z':\n",
    "        pos = directions[pos][0] if ins[0] == 'L' else directions[pos][1]\n",
    "        ins.rotate(-1)\n",
    "        paths[key]['end'], paths[key]['steps'] = pos, paths[key]['steps'] + 1\n",
    "\n",
    "print(\"Steps needed:\", math.lcm(*[paths[key]['steps'] for key in paths]), \"\\nTime taken:\", (time.perf_counter_ns() - start)/1000000, \"ms\")"
   ]
  }
 ],
 "metadata": {
  "kernelspec": {
   "display_name": "advenv",
   "language": "python",
   "name": "python3"
  },
  "language_info": {
   "codemirror_mode": {
    "name": "ipython",
    "version": 3
   },
   "file_extension": ".py",
   "mimetype": "text/x-python",
   "name": "python",
   "nbconvert_exporter": "python",
   "pygments_lexer": "ipython3",
   "version": "3.11.7"
  }
 },
 "nbformat": 4,
 "nbformat_minor": 2
}
