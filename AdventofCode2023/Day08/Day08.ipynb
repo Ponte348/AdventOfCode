{
 "cells": [
  {
   "cell_type": "markdown",
   "metadata": {},
   "source": [
    "## Part 1"
   ]
  },
  {
   "cell_type": "code",
   "execution_count": 26,
   "metadata": {},
   "outputs": [
    {
     "name": "stdout",
     "output_type": "stream",
     "text": [
      "23147\n"
     ]
    }
   ],
   "source": [
    "import os, sys\n",
    "from collections import deque\n",
    "sys.path.append(os.path.abspath(os.path.join(os.getcwd(), '..')))\n",
    "from scanf import scanf\n",
    "\n",
    "with open('input.txt', 'r') as f:\n",
    "    lines = f.readlines()\n",
    "    instructions = deque(lines[0].strip())\n",
    "    directions = {scanf(\"%s = \\(%s, %s\\)\", line)[0]: scanf(\"%s = \\(%s, %s\\)\", line)[1:] for line in lines[2:]}\n",
    "\n",
    "steps, pos, end = 0, 'AAA', 'ZZZ'\n",
    "while pos != end:\n",
    "    pos = directions[pos][0] if instructions[0] == 'L' else directions[pos][1]\n",
    "    instructions.rotate(-1)\n",
    "    steps += 1\n",
    "\n",
    "print(steps)"
   ]
  },
  {
   "cell_type": "markdown",
   "metadata": {},
   "source": [
    "## Part 2"
   ]
  },
  {
   "cell_type": "code",
   "execution_count": null,
   "metadata": {},
   "outputs": [],
   "source": [
    "import os, sys\n",
    "from collections import deque\n",
    "sys.path.append(os.path.abspath(os.path.join(os.getcwd(), '..')))\n",
    "from scanf import scanf\n",
    "\n",
    "with open('input.txt', 'r') as f:\n",
    "    lines = f.readlines()\n",
    "    instructions = deque(lines[0].strip())\n",
    "    directions = {scanf(\"%s = \\(%s, %s\\)\", line)[0]: scanf(\"%s = \\(%s, %s\\)\", line)[1:] for line in lines[2:]}\n",
    "\n",
    "steps = 0\n",
    "start = []\n",
    "for key in directions:\n",
    "    if key[2] == 'A':\n",
    "        start.append(key)\n",
    "\n",
    "end = ['AAAAAA']\n",
    "while not all([pos[2] == 'Z' for pos in end]):\n",
    "    end = []\n",
    "    for pos in start:\n",
    "        end.append(directions[pos][0] if instructions[0] == 'L' else directions[pos][1])\n",
    "    instructions.rotate(-1)\n",
    "    start = end\n",
    "    steps += 1\n",
    "    \n",
    "print(steps)    "
   ]
  }
 ],
 "metadata": {
  "kernelspec": {
   "display_name": "advenv",
   "language": "python",
   "name": "python3"
  },
  "language_info": {
   "codemirror_mode": {
    "name": "ipython",
    "version": 3
   },
   "file_extension": ".py",
   "mimetype": "text/x-python",
   "name": "python",
   "nbconvert_exporter": "python",
   "pygments_lexer": "ipython3",
   "version": "3.11.7"
  }
 },
 "nbformat": 4,
 "nbformat_minor": 2
}
