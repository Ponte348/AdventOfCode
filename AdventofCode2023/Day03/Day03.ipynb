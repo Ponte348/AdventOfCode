{
 "cells": [
  {
   "cell_type": "markdown",
   "metadata": {},
   "source": [
    "## Part 1"
   ]
  },
  {
   "cell_type": "code",
   "execution_count": 27,
   "metadata": {},
   "outputs": [
    {
     "name": "stdout",
     "output_type": "stream",
     "text": [
      "540131\n"
     ]
    }
   ],
   "source": [
    "import re\n",
    "\n",
    "with open('input.txt', 'r') as f:\n",
    "    data = f.read().splitlines()\n",
    "    # add a '.' to the end of each line to make sure we get the last number\n",
    "    data = [line + '.' for line in data]\n",
    "    total = []\n",
    "    number = \"\"\n",
    "    coor = []\n",
    "    found = False\n",
    "\n",
    "    for i in range(len(data)):\n",
    "        for j in range(len(data[i])):\n",
    "            if data[i][j].isdigit():\n",
    "                number += data[i][j]\n",
    "                coor.append([i, j])\n",
    "            elif len(number) > 0:\n",
    "                for pos in coor:\n",
    "                    for x in range(max(0, pos[0]-1), min(len(data), pos[0]+2)):\n",
    "                        for y in range(max(0, pos[1]-1), min(len(data[i]), pos[1]+2)):\n",
    "                            if re.match(r'[^\\w\\s.]', data[x][y]) and found == False:\n",
    "                                total.append(int(number))\n",
    "                                found = True\n",
    "                number = \"\"\n",
    "                coor = []\n",
    "                found = False\n",
    "\n",
    "\n",
    "print(sum(total))"
   ]
  },
  {
   "cell_type": "markdown",
   "metadata": {},
   "source": [
    "## Part 2"
   ]
  },
  {
   "cell_type": "code",
   "execution_count": 28,
   "metadata": {},
   "outputs": [
    {
     "name": "stdout",
     "output_type": "stream",
     "text": [
      "664\n"
     ]
    }
   ],
   "source": [
    "with open('input.txt', 'r') as f:\n",
    "    data = f.read().split('\\n')"
   ]
  }
 ],
 "metadata": {
  "kernelspec": {
   "display_name": "advenv",
   "language": "python",
   "name": "python3"
  },
  "language_info": {
   "codemirror_mode": {
    "name": "ipython",
    "version": 3
   },
   "file_extension": ".py",
   "mimetype": "text/x-python",
   "name": "python",
   "nbconvert_exporter": "python",
   "pygments_lexer": "ipython3",
   "version": "3.11.6"
  }
 },
 "nbformat": 4,
 "nbformat_minor": 2
}
