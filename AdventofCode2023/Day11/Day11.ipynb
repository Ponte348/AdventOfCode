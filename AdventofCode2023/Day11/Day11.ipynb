{
 "cells": [
  {
   "cell_type": "code",
   "execution_count": 38,
   "metadata": {},
   "outputs": [],
   "source": [
    "import time\n",
    "import pandas as pd\n",
    "with open('input.txt') as f:\n",
    "    lines = f.read().splitlines()"
   ]
  },
  {
   "cell_type": "markdown",
   "metadata": {},
   "source": [
    "## Part 1"
   ]
  },
  {
   "cell_type": "code",
   "execution_count": 39,
   "metadata": {},
   "outputs": [
    {
     "name": "stdout",
     "output_type": "stream",
     "text": [
      "Length total:  9599070\n",
      "Time taken:  465.128 ms\n"
     ]
    }
   ],
   "source": [
    "pd.set_option('display.max_rows', 1000)\n",
    "starttime = time.perf_counter_ns()\n",
    "# create matrix with all points\n",
    "df = pd.DataFrame([list(line) for line in lines])\n",
    "\n",
    "# first let's expand the universe\n",
    "# rows containing only '.' are duplicated\n",
    "# columns containing only '.' are duplicated\n",
    "\n",
    "# Duplicate rows\n",
    "# This could be cahnged to be faster by just checking where the '#' are and only then\n",
    "# duplicate all rows and columns we need\n",
    "new_rows = []\n",
    "for i in range(len(df)):\n",
    "    new_rows.append(df.iloc[i])\n",
    "    if not df.iloc[i].str.contains('#').any():\n",
    "        # duplicate row\n",
    "        new_rows.append(df.iloc[i])\n",
    "# create new DataFrame\n",
    "df = pd.DataFrame(new_rows).reset_index(drop=True)\n",
    "# Duplicate columns\n",
    "new_cols = pd.DataFrame()\n",
    "for col in df.columns:\n",
    "    new_cols = pd.concat([new_cols, df[col]], axis=1)\n",
    "    if not df[col].str.contains('#').any():\n",
    "        # duplicate column\n",
    "        new_cols = pd.concat([new_cols, df[col]], axis=1)\n",
    "\n",
    "# Reset column names\n",
    "new_cols.columns = range(new_cols.shape[1])\n",
    "\n",
    "# Identify the galaxies\n",
    "galaxies = [(i, j) for i in range(len(new_cols)) for j in range(len(new_cols.columns)) if new_cols.iloc[i, j] == '#']\n",
    "\n",
    "# now we need to find the shortest path between all pairs of nodes\n",
    "total_weight = 0\n",
    "visited = set()\n",
    "for galaxy1 in galaxies:\n",
    "    for galaxy2 in galaxies:\n",
    "        if galaxy1 != galaxy2 and (galaxy1, galaxy2) not in visited:\n",
    "            visited.add((galaxy1, galaxy2))\n",
    "            visited.add((galaxy2, galaxy1))\n",
    "            #path = nx.shortest_path(universe, galaxy1, galaxy2)\n",
    "            # calcualte the length by subtracting the coordinates\n",
    "            path = abs(galaxy1[0] - galaxy2[0]) + abs(galaxy1[1] - galaxy2[1])\n",
    "            total_weight += path\n",
    "print(\"Length total: \", total_weight)\n",
    "print(\"Time taken: \", round((time.perf_counter_ns() - starttime)/1000000, 3), \"ms\")"
   ]
  },
  {
   "cell_type": "markdown",
   "metadata": {},
   "source": [
    "## Part 2"
   ]
  },
  {
   "cell_type": "code",
   "execution_count": 40,
   "metadata": {},
   "outputs": [
    {
     "name": "stdout",
     "output_type": "stream",
     "text": [
      "Length total:  842645913794\n",
      "Time taken:  511.075 ms\n"
     ]
    }
   ],
   "source": [
    "pd.set_option('display.max_rows', 1000)\n",
    "starttime = time.perf_counter_ns()\n",
    "# create matrix with all points\n",
    "df = pd.DataFrame([list(line) for line in lines])\n",
    "mrows, mcols = [], []\n",
    "\n",
    "# Replace rows\n",
    "for i in range(len(df)):\n",
    "    if not df.iloc[i].str.contains('#').any():\n",
    "        # Replace row with a row full of '0'\n",
    "        df.iloc[i] = ['0'] * len(df.columns)\n",
    "        mrows.append(i)\n",
    "# Replace columns\n",
    "for col in df.columns:\n",
    "    if not df[col].str.contains('#').any():\n",
    "        # Replace column with a column full of '0'\n",
    "        df[col] = ['0'] * len(df)\n",
    "        mcols.append(col)\n",
    "\n",
    "# Identify the galaxies\n",
    "galaxies = [(i, j) for i in range(len(df)) for j in range(len(df.columns)) if df.iloc[i, j] == '#']\n",
    "\n",
    "# now we need to find the shortest path between all pairs of nodes\n",
    "total_length = 0\n",
    "visited = set()\n",
    "for galaxy1 in galaxies:\n",
    "    for galaxy2 in galaxies:\n",
    "        if galaxy1 != galaxy2 and (galaxy1, galaxy2) not in visited:\n",
    "            visited.add((galaxy1, galaxy2))\n",
    "            visited.add((galaxy2, galaxy1))\n",
    "            #path = nx.shortest_path(universe, galaxy1, galaxy2)\n",
    "            # calcualte the length by subtracting the coordinates\n",
    "            path = abs(galaxy1[0] - galaxy2[0]) + abs(galaxy1[1] - galaxy2[1])\n",
    "            \n",
    "            \"\"\"\n",
    "            Instead of checking all columns and rows for '0', we can save all rows and columns' indexes when we create them\n",
    "            and then check if the path has any row with that index\n",
    "            \"\"\"\n",
    "            \n",
    "            for i in mrows:\n",
    "                if galaxy1[0] < i < galaxy2[0] or galaxy2[0] < i < galaxy1[0]:\n",
    "                    path += 1000000-1\n",
    "            for i in mcols:\n",
    "                if galaxy1[1] < i < galaxy2[1] or galaxy2[1] < i < galaxy1[1]:\n",
    "                    path += 1000000-1\n",
    "            \n",
    "            total_length += path\n",
    "print(\"Length total: \", total_length)\n",
    "print(\"Time taken: \", round((time.perf_counter_ns() - starttime)/1000000, 3), \"ms\")"
   ]
  }
 ],
 "metadata": {
  "kernelspec": {
   "display_name": "advenv",
   "language": "python",
   "name": "python3"
  },
  "language_info": {
   "codemirror_mode": {
    "name": "ipython",
    "version": 3
   },
   "file_extension": ".py",
   "mimetype": "text/x-python",
   "name": "python",
   "nbconvert_exporter": "python",
   "pygments_lexer": "ipython3",
   "version": "3.11.7"
  }
 },
 "nbformat": 4,
 "nbformat_minor": 2
}
