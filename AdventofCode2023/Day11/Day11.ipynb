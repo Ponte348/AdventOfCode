{
 "cells": [
  {
   "cell_type": "code",
   "execution_count": 31,
   "metadata": {},
   "outputs": [],
   "source": [
    "import time\n",
    "import networkx as nx\n",
    "import pandas as pd\n",
    "import numpy as np\n",
    "with open('input.txt') as f:\n",
    "    lines = f.read().splitlines()"
   ]
  },
  {
   "cell_type": "markdown",
   "metadata": {},
   "source": [
    "## Part 1"
   ]
  },
  {
   "cell_type": "code",
   "execution_count": 37,
   "metadata": {},
   "outputs": [
    {
     "name": "stdout",
     "output_type": "stream",
     "text": [
      "Length total:  374\n",
      "Time taken:  13.072 ms\n"
     ]
    }
   ],
   "source": [
    "starttime = time.perf_counter_ns()\n",
    "# create matrix with all points\n",
    "matrix = []\n",
    "for line in lines:\n",
    "    matrix.append(list(line))\n",
    "\n",
    "pd.set_option('display.max_rows', 1000)\n",
    "# create a dataframe with this matrix\n",
    "df = pd.DataFrame(matrix)\n",
    "\n",
    "for i in range(0, len(df)):\n",
    "    if not df.iloc[i].str.contains('#').any():\n",
    "        pass\n",
    "\n",
    "# first let's expand the universe\n",
    "# rows containing only '.' are duplicated\n",
    "# columns containing only '.' are duplicated\n",
    "\n",
    "# Duplicate rows\n",
    "new_rows = []\n",
    "for i in range(len(df)):\n",
    "    new_rows.append(df.iloc[i])\n",
    "    if not df.iloc[i].str.contains('#').any():\n",
    "        # duplicate row\n",
    "        new_rows.append(df.iloc[i])\n",
    "\n",
    "# create new DataFrame\n",
    "df = pd.DataFrame(new_rows).reset_index(drop=True)\n",
    "\n",
    "# Duplicate columns\n",
    "new_cols = pd.DataFrame()\n",
    "for col in df.columns:\n",
    "    new_cols = pd.concat([new_cols, df[col]], axis=1)\n",
    "    if not df[col].str.contains('#').any():\n",
    "        # duplicate column\n",
    "        new_cols = pd.concat([new_cols, df[col]], axis=1)\n",
    "\n",
    "# Reset column names\n",
    "new_cols.columns = range(new_cols.shape[1])\n",
    "\n",
    "# now we need to create a graph, where every point is a node, every node needs to be connected to all other nodes\n",
    "# nodes with values '#' are added to a list of nodes\n",
    "# Create a grid graph\n",
    "universe = nx.grid_2d_graph(len(new_cols), len(new_cols.columns))\n",
    "\n",
    "# Identify the galaxies\n",
    "galaxies = [(i, j) for i in range(len(new_cols)) for j in range(len(new_cols.columns)) if new_cols.iloc[i, j] == '#']\n",
    "\n",
    "# now we need to find the shortest path between all pairs of nodes\n",
    "# we can use the Floyd-Warshall algorithm for this\n",
    "total_weight = 0\n",
    "visited = set()\n",
    "for galaxy1 in galaxies:\n",
    "    for galaxy2 in galaxies:\n",
    "        if galaxy1 != galaxy2 and (galaxy1, galaxy2) not in visited:\n",
    "            visited.add((galaxy1, galaxy2))\n",
    "            visited.add((galaxy2, galaxy1))\n",
    "            #path = nx.shortest_path(universe, galaxy1, galaxy2)\n",
    "            # calcualte the length by subtracting the coordinates\n",
    "            path = abs(galaxy1[0] - galaxy2[0]) + abs(galaxy1[1] - galaxy2[1])\n",
    "            total_weight += path\n",
    "print(\"Length total: \", total_weight)\n",
    "print(\"Time taken: \", round((time.perf_counter_ns() - starttime)/1000000, 3), \"ms\")"
   ]
  },
  {
   "cell_type": "markdown",
   "metadata": {},
   "source": [
    "## Part 2"
   ]
  },
  {
   "cell_type": "code",
   "execution_count": null,
   "metadata": {},
   "outputs": [],
   "source": []
  }
 ],
 "metadata": {
  "kernelspec": {
   "display_name": "advenv",
   "language": "python",
   "name": "python3"
  },
  "language_info": {
   "codemirror_mode": {
    "name": "ipython",
    "version": 3
   },
   "file_extension": ".py",
   "mimetype": "text/x-python",
   "name": "python",
   "nbconvert_exporter": "python",
   "pygments_lexer": "ipython3",
   "version": "3.11.7"
  }
 },
 "nbformat": 4,
 "nbformat_minor": 2
}
