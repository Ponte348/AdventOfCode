{
 "cells": [
  {
   "cell_type": "markdown",
   "metadata": {},
   "source": [
    "Dealing with this horrendous input"
   ]
  },
  {
   "cell_type": "code",
   "execution_count": null,
   "metadata": {},
   "outputs": [],
   "source": [
    "with open('input.txt', 'r') as f:\n",
    "    data = f.read().splitlines()\n",
    "\n",
    "\n",
    "seeds, data = [data[0].split(':')[1].strip()], [x for x in data[2:] if x != '']\n",
    "print(\"Seeds: \", seeds)\n",
    "\n",
    "maps = ['seed-to-soil map:', 'soil-to-fertilizer map:', 'fertilizer-to-water map:', 'water-to-light map:', 'light-to-temperature map:', 'temperature-to-humidity map:', 'humidity-to-location map:']\n",
    "maps_data = {}\n",
    "\n",
    "for i, map_name in enumerate(maps):\n",
    "    start_index = data.index(map_name) + 1\n",
    "    end_index = data.index(maps[i + 1]) if i + 1 < len(maps) else None\n",
    "    maps_data[map_name] = [list(map(int, line.split(' '))) for line in data[start_index:end_index]]\n",
    "\n",
    "print(\"Maps:\")\n",
    "for map_name, map_data in maps_data.items():\n",
    "    print(map_name, map_data)\n"
   ]
  },
  {
   "cell_type": "markdown",
   "metadata": {},
   "source": [
    "## Part 1"
   ]
  },
  {
   "cell_type": "code",
   "execution_count": null,
   "metadata": {},
   "outputs": [],
   "source": [
    "# para cada mapa\n",
    "for map_name, map_data in maps_data.items():\n",
    "    \n",
    "    # para cada grupo de valores\n",
    "    for group in map_data:\n",
    "        \n",
    "        print(\"Group: \", group)\n",
    "        \n",
    "        destination, source = (group[0], group[0] + group[2] - 1), (group[1], group[1] + group[2] - 1)\n",
    "        print(\"Destination: \", destination)\n",
    "        print(\"Source: \", source)\n",
    "        print()\n"
   ]
  },
  {
   "cell_type": "markdown",
   "metadata": {},
   "source": [
    "## Part 2"
   ]
  },
  {
   "cell_type": "code",
   "execution_count": null,
   "metadata": {},
   "outputs": [],
   "source": []
  }
 ],
 "metadata": {
  "kernelspec": {
   "display_name": "advenv",
   "language": "python",
   "name": "python3"
  },
  "language_info": {
   "codemirror_mode": {
    "name": "ipython",
    "version": 3
   },
   "file_extension": ".py",
   "mimetype": "text/x-python",
   "name": "python",
   "nbconvert_exporter": "python",
   "pygments_lexer": "ipython3",
   "version": "3.11.6"
  }
 },
 "nbformat": 4,
 "nbformat_minor": 2
}
