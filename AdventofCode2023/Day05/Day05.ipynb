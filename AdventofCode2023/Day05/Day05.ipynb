{
 "cells": [
  {
   "cell_type": "markdown",
   "metadata": {},
   "source": [
    "Dealing with this horrendous input"
   ]
  },
  {
   "cell_type": "code",
   "execution_count": null,
   "metadata": {},
   "outputs": [],
   "source": [
    "import time\n",
    "from collections import deque\n",
    "\n",
    "with open('example.txt', 'r') as f:\n",
    "    data = f.read().splitlines()\n",
    "\n",
    "seeds, data = [int(x) for x in data[0].split(':')[1].strip().split(' ')], [x for x in data[2:] if x != '']\n",
    "print(\"Seeds: \", seeds)\n",
    "\n",
    "maps = ['seed-to-soil map:', 'soil-to-fertilizer map:', 'fertilizer-to-water map:', 'water-to-light map:', 'light-to-temperature map:', 'temperature-to-humidity map:', 'humidity-to-location map:']\n",
    "maps_data = {}\n",
    "\n",
    "for i, map_name in enumerate(maps):\n",
    "    start_index = data.index(map_name) + 1\n",
    "    end_index = data.index(maps[i + 1]) if i + 1 < len(maps) else None\n",
    "    maps_data[map_name] = [list(map(int, line.split(' '))) for line in data[start_index:end_index]]\n",
    "\n",
    "print(\"Maps:\")\n",
    "for map_name, map_data in maps_data.items():\n",
    "    print(map_name, map_data)\n"
   ]
  },
  {
   "cell_type": "markdown",
   "metadata": {},
   "source": [
    "## Part 1"
   ]
  },
  {
   "cell_type": "code",
   "execution_count": null,
   "metadata": {},
   "outputs": [],
   "source": [
    "start = time.time()\n",
    "\n",
    "final_seeds = []\n",
    "for s in seeds:\n",
    "    for mapa in maps_data.keys():\n",
    "        for group in maps_data[mapa]:\n",
    "            # group: [destination, source, size]\n",
    "            # if s in in [source, source + size - 1] or s in [destination, destination + size - 1]:\n",
    "            if group[1] <= s <= group[1] + group[2] - 1:\n",
    "                s = group[0] + (s - group[1])\n",
    "                break\n",
    "    final_seeds.append(s)\n",
    "\n",
    "end = time.time()\n",
    "#print time in ms\n",
    "print((end - start) * 1000)\n",
    "    \n",
    "print(sorted(final_seeds)[0])\n",
    "\n",
    "    "
   ]
  },
  {
   "cell_type": "markdown",
   "metadata": {},
   "source": [
    "## Part 2"
   ]
  },
  {
   "cell_type": "code",
   "execution_count": 2,
   "metadata": {},
   "outputs": [
    {
     "name": "stdout",
     "output_type": "stream",
     "text": [
      "Seeds ranges:  [(79, 92), (55, 67)]\n",
      "Seed:  deque([(79, 92), (55, 67)])\n"
     ]
    },
    {
     "ename": "KeyboardInterrupt",
     "evalue": "",
     "output_type": "error",
     "traceback": [
      "\u001b[0;31m---------------------------------------------------------------------------\u001b[0m",
      "\u001b[0;31mKeyboardInterrupt\u001b[0m                         Traceback (most recent call last)",
      "Cell \u001b[0;32mIn[2], line 38\u001b[0m\n\u001b[1;32m     36\u001b[0m \u001b[38;5;66;03m#se s_range[0] < group[1] e s_range[1] <= group[1] + group[2] - 1, intersecta esquerda, processar\u001b[39;00m\n\u001b[1;32m     37\u001b[0m \u001b[38;5;28;01melif\u001b[39;00m s_range[\u001b[38;5;241m0\u001b[39m] \u001b[38;5;241m<\u001b[39m group[\u001b[38;5;241m1\u001b[39m] \u001b[38;5;129;01mand\u001b[39;00m s_range[\u001b[38;5;241m1\u001b[39m] \u001b[38;5;241m<\u001b[39m\u001b[38;5;241m=\u001b[39m group[\u001b[38;5;241m1\u001b[39m] \u001b[38;5;241m+\u001b[39m group[\u001b[38;5;241m2\u001b[39m] \u001b[38;5;241m-\u001b[39m \u001b[38;5;241m1\u001b[39m:\n\u001b[0;32m---> 38\u001b[0m     unprocessed\u001b[38;5;241m.\u001b[39mappend((s_range[\u001b[38;5;241m0\u001b[39m], group[\u001b[38;5;241m1\u001b[39m] \u001b[38;5;241m-\u001b[39m \u001b[38;5;241m1\u001b[39m))\n\u001b[1;32m     39\u001b[0m     seeds_range\u001b[38;5;241m.\u001b[39mappend(process((group[\u001b[38;5;241m1\u001b[39m], s_range[\u001b[38;5;241m1\u001b[39m]), group))\n\u001b[1;32m     41\u001b[0m \u001b[38;5;66;03m#se s_range[0] >= group[1] e s_range[1] > group[1] + group[2] - 1, intersecta direita, processar\u001b[39;00m\n",
      "\u001b[0;31mKeyboardInterrupt\u001b[0m: "
     ]
    }
   ],
   "source": [
    "start = time.time()\n",
    "\n",
    "# group every 2 values of seeds in tuples\n",
    "seeds_range = [(seeds[i], seeds[i]+seeds[i + 1]-1) for i in range(0, len(seeds), 2)]\n",
    "print(\"Seeds ranges: \", seeds_range)\n",
    "\n",
    "seeds_range = deque(seeds_range)\n",
    "print(\"Seed: \", seeds_range)\n",
    "\n",
    "def process(range_seeds, range_group):\n",
    "    # range_seeds: (start, end), range_group: [destination, source, size]\n",
    "    # mapeia as seeds tendo em conta o grupo, devolvendo o tuplo com o range final das seeds (start, range)\n",
    "    return (range_group[0], range_seeds[1]-range_seeds[0]+1)\n",
    "\n",
    "for mapa in maps_data.keys():\n",
    "    # criar uma cópia por mapa\n",
    "    unprocessed = deque(seeds_range)\n",
    "    \n",
    "    while unprocessed:\n",
    "        s_range = unprocessed.popleft()\n",
    "        # para cada mapa, transpor as seeds para o próximo\n",
    "        for group in sorted(maps_data[mapa], key=lambda x: x[1]):\n",
    "            # group: [destination, source, size]\n",
    "            # a usar os grupos sorted para ser não ter de ver TODOS os casos\n",
    "            \n",
    "            # se s_range[0] > group[1] + group[2] podemos ignorar o grupo porque não intersectam\n",
    "            #if s_range[0] > group[1] + group[2] - 1:\n",
    "            #    continue\n",
    "            # isto não tem de ser incluído porque se não intersectam com nenhum grupo,\n",
    "            # o intervalo vai ficar igual, é só adicionar no fim\n",
    "            \n",
    "            # se s_range[0] >= group[1] e s_range[1] <= group[1] + group[2] - 1, está contido, processar\n",
    "            if s_range[0] >= group[1] and s_range[1] <= group[1] + group[2] - 1:\n",
    "                seeds_range.append(process(s_range, group))\n",
    "\n",
    "            #se s_range[0] < group[1] e s_range[1] <= group[1] + group[2] - 1, intersecta esquerda, processar\n",
    "            elif s_range[0] < group[1] and s_range[1] <= group[1] + group[2] - 1:\n",
    "                unprocessed.append((s_range[0], group[1] - 1))\n",
    "                seeds_range.append(process((group[1], s_range[1]), group))\n",
    "                \n",
    "            #se s_range[0] >= group[1] e s_range[1] > group[1] + group[2] - 1, intersecta direita, processar\n",
    "            elif s_range[0] >= group[1] and s_range[1] > group[1] + group[2] - 1:\n",
    "                unprocessed.append((group[1] + group[2], s_range[1]))\n",
    "                seeds_range.append(process((s_range[0], group[1] + group[2] - 1), group))\n",
    "                \n",
    "            # se s_range[0] < group[1] e s_range[1] > group[1] + group[2] - 1, intersecta ambos os lados, processar\n",
    "            elif s_range[0] < group[1] and s_range[1] > group[1] + group[2] - 1:\n",
    "                unprocessed.append((s_range[0], group[1] - 1))\n",
    "                unprocessed.append((group[1] + group[2], s_range[1]))\n",
    "                seeds_range.append(process((group[1], group[1] + group[2] - 1), group))\n",
    "            \n",
    "            # se s_range[0] > group[1] + group[2] - 1, não intersecta, adicionar ao fim\n",
    "            else:\n",
    "                seeds_range.append(s_range)\n",
    "                \n",
    "print(\"Seed: \", seeds_range)  \n",
    "\n",
    "\n",
    "            \n",
    "end = time.time()\n",
    "#print time in ms\n",
    "print((end - start) * 1000)"
   ]
  }
 ],
 "metadata": {
  "kernelspec": {
   "display_name": "advenv",
   "language": "python",
   "name": "python3"
  },
  "language_info": {
   "codemirror_mode": {
    "name": "ipython",
    "version": 3
   },
   "file_extension": ".py",
   "mimetype": "text/x-python",
   "name": "python",
   "nbconvert_exporter": "python",
   "pygments_lexer": "ipython3",
   "version": "3.11.7"
  }
 },
 "nbformat": 4,
 "nbformat_minor": 2
}
