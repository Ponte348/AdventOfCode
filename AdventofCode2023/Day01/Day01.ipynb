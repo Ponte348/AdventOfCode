{
 "cells": [
  {
   "cell_type": "code",
   "execution_count": 37,
   "metadata": {},
   "outputs": [
    {
     "name": "stdout",
     "output_type": "stream",
     "text": [
      "55477\n"
     ]
    }
   ],
   "source": [
    "with open('input.txt', 'r') as f:\n",
    "    data = f.read().split('\\n')\n",
    "    values = []\n",
    "\n",
    "    for line in data:\n",
    "        digits = ''\n",
    "        for i in range(len(line)):\n",
    "            if line[i].isdigit():\n",
    "                digits += line[i]\n",
    "                for j in range(len(line)-1, -1, -1):\n",
    "                    if line[j].isdigit():\n",
    "                        digits += line[j]\n",
    "                        values.append(digits)\n",
    "                        break\n",
    "                break\n",
    "\n",
    "    final = [int(i) for i in values]\n",
    "    print(sum(final))"
   ]
  },
  {
   "cell_type": "markdown",
   "metadata": {},
   "source": [
    "## Part 2"
   ]
  },
  {
   "cell_type": "code",
   "execution_count": 1,
   "metadata": {},
   "outputs": [
    {
     "name": "stdout",
     "output_type": "stream",
     "text": [
      "54431\n"
     ]
    }
   ],
   "source": [
    "with open('input.txt', 'r') as f:\n",
    "    data = f.read().split('\\n')\n",
    "    digits = ['zero', 'one', 'two', 'three', 'four', 'five', 'six', 'seven', 'eight', 'nine']\n",
    "    values = []\n",
    "\n",
    "    for line in data:\n",
    "        num = ''\n",
    "        matches = []\n",
    "        for i in range(len(line)):\n",
    "            if line[i].isdigit():\n",
    "                matches.append(line[i])\n",
    "            else:\n",
    "                for d in digits:\n",
    "                    if d in line[i:i+len(d)]:\n",
    "                        matches.append(str(digits.index(d)))\n",
    "                        break\n",
    "        if matches:\n",
    "            first_digit = matches[0]\n",
    "            last_digit = matches[-1]\n",
    "            num = first_digit + last_digit\n",
    "            if num[1] == '0':\n",
    "                num = num[0] * 2\n",
    "            values.append(int(num))\n",
    "\n",
    "    print(sum(values))"
   ]
  }
 ],
 "metadata": {
  "kernelspec": {
   "display_name": "advenv",
   "language": "python",
   "name": "python3"
  },
  "language_info": {
   "codemirror_mode": {
    "name": "ipython",
    "version": 3
   },
   "file_extension": ".py",
   "mimetype": "text/x-python",
   "name": "python",
   "nbconvert_exporter": "python",
   "pygments_lexer": "ipython3",
   "version": "3.11.6"
  }
 },
 "nbformat": 4,
 "nbformat_minor": 2
}
