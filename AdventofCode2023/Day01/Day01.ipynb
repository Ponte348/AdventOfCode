{
 "cells": [
  {
   "cell_type": "code",
   "execution_count": 8,
   "metadata": {},
   "outputs": [
    {
     "ename": "IndexError",
     "evalue": "string index out of range",
     "output_type": "error",
     "traceback": [
      "\u001b[0;31m---------------------------------------------------------------------------\u001b[0m",
      "\u001b[0;31mIndexError\u001b[0m                                Traceback (most recent call last)",
      "\u001b[1;32m/home/ponte/AdventOfCode/AdventofCode2023/Day01/Day01.ipynb Cell 1\u001b[0m line \u001b[0;36m1\n\u001b[1;32m     <a href='vscode-notebook-cell:/home/ponte/AdventOfCode/AdventofCode2023/Day01/Day01.ipynb#W0sZmlsZQ%3D%3D?line=13'>14</a>\u001b[0m \u001b[39mfor\u001b[39;00m num \u001b[39min\u001b[39;00m values:\n\u001b[1;32m     <a href='vscode-notebook-cell:/home/ponte/AdventOfCode/AdventofCode2023/Day01/Day01.ipynb#W0sZmlsZQ%3D%3D?line=14'>15</a>\u001b[0m     \u001b[39mif\u001b[39;00m \u001b[39mlen\u001b[39m(num)\u001b[39m<\u001b[39m\u001b[39m2\u001b[39m:\n\u001b[0;32m---> <a href='vscode-notebook-cell:/home/ponte/AdventOfCode/AdventofCode2023/Day01/Day01.ipynb#W0sZmlsZQ%3D%3D?line=15'>16</a>\u001b[0m         num \u001b[39m=\u001b[39m num[\u001b[39m0\u001b[39;49m]\u001b[39m+\u001b[39mnum[\u001b[39m0\u001b[39m]\n\u001b[1;32m     <a href='vscode-notebook-cell:/home/ponte/AdventOfCode/AdventofCode2023/Day01/Day01.ipynb#W0sZmlsZQ%3D%3D?line=16'>17</a>\u001b[0m     \u001b[39mif\u001b[39;00m \u001b[39mlen\u001b[39m(num)\u001b[39m>\u001b[39m\u001b[39m2\u001b[39m:\n\u001b[1;32m     <a href='vscode-notebook-cell:/home/ponte/AdventOfCode/AdventofCode2023/Day01/Day01.ipynb#W0sZmlsZQ%3D%3D?line=17'>18</a>\u001b[0m         num \u001b[39m=\u001b[39m num[\u001b[39m0\u001b[39m]\u001b[39m+\u001b[39mnum[\u001b[39m-\u001b[39m\u001b[39m1\u001b[39m]\n",
      "\u001b[0;31mIndexError\u001b[0m: string index out of range"
     ]
    }
   ],
   "source": [
    "with open('input.txt', 'r') as f:\n",
    "    data = f.read().split('\\n')\n",
    "    values = []\n",
    "    for i in data:\n",
    "        # each line contains 2 digits, find the two digits, add them to an empty string and add to list\n",
    "        digits = \"\"\n",
    "        for c in i:\n",
    "            if c.isdigit():\n",
    "                digits += c\n",
    "        values.append(digits)\n",
    "    \n",
    "    final = []\n",
    "    # consider only 2 digit numbers, remove anyhthing in the middle\n",
    "    for num in values:\n",
    "        if len(num)<1:\n",
    "            continue\n",
    "        if len(num)==1:\n",
    "            num = num[0]+num[0]\n",
    "        if len(num)>2:\n",
    "            num = num[0]+num[-1]\n",
    "        final.append(num)\n",
    "    \n",
    "    # noe convert everything to int and sum\n",
    "    final = [int(i) for i in final]\n",
    "    print(sum(final))"
   ]
  }
 ],
 "metadata": {
  "kernelspec": {
   "display_name": "advenv",
   "language": "python",
   "name": "python3"
  },
  "language_info": {
   "codemirror_mode": {
    "name": "ipython",
    "version": 3
   },
   "file_extension": ".py",
   "mimetype": "text/x-python",
   "name": "python",
   "nbconvert_exporter": "python",
   "pygments_lexer": "ipython3",
   "version": "3.11.6"
  }
 },
 "nbformat": 4,
 "nbformat_minor": 2
}
