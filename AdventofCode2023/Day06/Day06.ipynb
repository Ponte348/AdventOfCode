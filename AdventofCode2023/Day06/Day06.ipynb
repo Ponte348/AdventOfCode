{
 "cells": [
  {
   "cell_type": "code",
   "execution_count": 40,
   "metadata": {},
   "outputs": [
    {
     "name": "stdout",
     "output_type": "stream",
     "text": [
      "[0 1 2 3 4 5 6 7 8]\n",
      "[0, 7, 12, 15, 16, 15, 12, 7, 0]\n",
      "9\n"
     ]
    }
   ],
   "source": [
    "from matplotlib import pyplot as plt\n",
    "import numpy as np\n",
    "\n",
    "# Time:     7\n",
    "# Distance: ?\n",
    "\n",
    "# x: time spent pushing the button\n",
    "# y: distance travelled\n",
    "\n",
    "# x = np.array([0, 1, 2, 3, 4, 5, 6, 7])\n",
    "# y = np.array([0, 6, 10, 12, 12, 10, 6, 0])\n",
    "# equation: \n",
    "\n",
    "x = np.array([0, 1, 2, 3, 4, 5, 6, 7, ])\n",
    "y = np.array([0, 6, 10, 12, 12, 10, 6, 0])\n",
    "#plt.plot(x, y)\n",
    "#plt.show()\n",
    "\n",
    "# create array with values in interval [0,15]\n",
    "x = np.arange(0, 8+1, 1)\n",
    "y = []\n",
    "\n",
    "for n in range(len(x)//2):\n",
    "    y.append(x[-n-1] * n)\n",
    "    \n",
    "for n in range(len(x)//2, -1, -1):\n",
    "    y.append(x[-n-1] * n)\n",
    "\n",
    "    \n",
    "print(x)\n",
    "print(y)\n",
    "print(len(y))"
   ]
  },
  {
   "cell_type": "markdown",
   "metadata": {},
   "source": [
    "## Part 1"
   ]
  },
  {
   "cell_type": "code",
   "execution_count": 77,
   "metadata": {},
   "outputs": [
    {
     "name": "stdout",
     "output_type": "stream",
     "text": [
      "[(45, 305), (97, 1062), (72, 1110), (95, 1695)]\n",
      "Ways of winning multiplied: 2612736 \n",
      "Time taken: 1.444 ms\n"
     ]
    }
   ],
   "source": [
    "import numpy as np\n",
    "import time\n",
    "with open(\"input.txt\", \"r\") as f:\n",
    "    # Acho que esta linha é um ato de terrorismo mais grave que o 11 de setembro\n",
    "    lines = list(zip(*[[int(number) for number in numbers] for numbers in [numbers.split()[1:] for numbers in f.read().splitlines()]]))\n",
    "\n",
    "winning, start = [], time.perf_counter_ns()\n",
    "for pair in lines:\n",
    "    l = pair[0]\n",
    "    y = [n * (l - n) for n in range(l)]\n",
    "    pair_winning = sum(n > pair[1] for n in y)\n",
    "    winning.append(pair_winning)\n",
    "    \n",
    "print(\"Ways of winning multiplied:\", np.prod(winning), \"\\nTime taken:\", round((time.perf_counter_ns() - start)/1000000, 3), \"ms\")"
   ]
  },
  {
   "cell_type": "markdown",
   "metadata": {},
   "source": [
    "## Part 2"
   ]
  },
  {
   "cell_type": "code",
   "execution_count": null,
   "metadata": {},
   "outputs": [],
   "source": []
  }
 ],
 "metadata": {
  "kernelspec": {
   "display_name": "advenv",
   "language": "python",
   "name": "python3"
  },
  "language_info": {
   "codemirror_mode": {
    "name": "ipython",
    "version": 3
   },
   "file_extension": ".py",
   "mimetype": "text/x-python",
   "name": "python",
   "nbconvert_exporter": "python",
   "pygments_lexer": "ipython3",
   "version": "3.11.7"
  }
 },
 "nbformat": 4,
 "nbformat_minor": 2
}
