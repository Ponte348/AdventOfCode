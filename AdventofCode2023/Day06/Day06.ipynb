{
 "cells": [
  {
   "cell_type": "markdown",
   "metadata": {},
   "source": [
    "## Part 1"
   ]
  },
  {
   "cell_type": "code",
   "execution_count": 2,
   "metadata": {},
   "outputs": [
    {
     "name": "stdout",
     "output_type": "stream",
     "text": [
      "Ways of winning multiplied: 2612736 \n",
      "Time taken: 0.266 ms\n"
     ]
    }
   ],
   "source": [
    "import numpy as np\n",
    "import time\n",
    "with open(\"input.txt\", \"r\") as f:\n",
    "    # Acho que esta linha é um ato de terrorismo mais grave que o 11 de setembro\n",
    "    lines = list(zip(*[[int(number) for number in numbers] for numbers in [numbers.split()[1:] for numbers in f.read().splitlines()]]))\n",
    "\n",
    "winning, start = [], time.perf_counter_ns()\n",
    "for pair in lines:\n",
    "    l = pair[0]\n",
    "    y = [n * (l - n) for n in range(l)]\n",
    "    pair_winning = sum(n > pair[1] for n in y)\n",
    "    winning.append(pair_winning)\n",
    "    \n",
    "print(\"Ways of winning multiplied:\", np.prod(winning), \"\\nTime taken:\", round((time.perf_counter_ns() - start)/1000000, 3), \"ms\")"
   ]
  },
  {
   "cell_type": "markdown",
   "metadata": {},
   "source": [
    "## Part 2"
   ]
  },
  {
   "cell_type": "code",
   "execution_count": 7,
   "metadata": {},
   "outputs": [
    {
     "name": "stdout",
     "output_type": "stream",
     "text": [
      "Ways of winning: 29891250 \n",
      "Time taken: 3390.087 ms\n"
     ]
    }
   ],
   "source": [
    "import time\n",
    "with open(\"input.txt\", \"r\") as f:\n",
    "    # Esta linha é puro terrorismo\n",
    "    lines = [int(num) for num in [\"\".join(numeros) for numeros in [numbers.split()[1:] for numbers in f.read().splitlines()]]]\n",
    "\n",
    "winning, length,start = 0, lines[0], time.perf_counter_ns()\n",
    "y = [n * (length - n) for n in range(length)]\n",
    "winning = sum(n > lines[1] for n in y)\n",
    "\n",
    "print(\"Ways of winning:\", winning, \"\\nTime taken:\", round((time.perf_counter_ns() - start)/1000000, 3), \"ms\")"
   ]
  }
 ],
 "metadata": {
  "kernelspec": {
   "display_name": "advenv",
   "language": "python",
   "name": "python3"
  },
  "language_info": {
   "codemirror_mode": {
    "name": "ipython",
    "version": 3
   },
   "file_extension": ".py",
   "mimetype": "text/x-python",
   "name": "python",
   "nbconvert_exporter": "python",
   "pygments_lexer": "ipython3",
   "version": "3.11.7"
  }
 },
 "nbformat": 4,
 "nbformat_minor": 2
}
