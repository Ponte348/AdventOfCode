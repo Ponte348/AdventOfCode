{
 "cells": [
  {
   "cell_type": "code",
   "execution_count": 65,
   "metadata": {},
   "outputs": [],
   "source": [
    "import time\n",
    "import networkx as nx\n",
    "with open('input.txt') as f:\n",
    "    lines = f.read().splitlines()"
   ]
  },
  {
   "cell_type": "markdown",
   "metadata": {},
   "source": [
    "## Part 1"
   ]
  },
  {
   "cell_type": "markdown",
   "metadata": {},
   "source": [
    "We need to through every node and add edges to all adjacent nodes if the pipes are connected\n",
    "- F connecets to the node right and down\n",
    "- | connects to the node up and down\n",
    "- \\- connects to the node left and right\n",
    "- 7 connects to the node left and down\n",
    "- J connects to the node left and up\n",
    "- L connects to the node right and up\n",
    "- S connects to all adjacent nodes that connect to it"
   ]
  },
  {
   "cell_type": "code",
   "execution_count": 66,
   "metadata": {},
   "outputs": [
    {
     "name": "stdout",
     "output_type": "stream",
     "text": [
      "We need 7107 steps to get to the point furthest away from the start.\n",
      "Time taken: 101.175 ms\n"
     ]
    }
   ],
   "source": [
    "starttime = time.perf_counter_ns()\n",
    "pipes = []\n",
    "for line in lines:\n",
    "    pipes.append([x for x in line])\n",
    "Maze = nx.Graph()\n",
    "# add the nodes\n",
    "for y in range(len(pipes)):\n",
    "    for x in range(len(pipes[y])):\n",
    "        Maze.add_nodes_from([(x,y)], value=pipes[y][x])\n",
    "# create the edges with some beautiful compact code\n",
    "for y in range(len(pipes)):\n",
    "    for x in range(len(pipes[y])):\n",
    "        if pipes[y][x] == 'F':\n",
    "            if x+1 < len(pipes[y]):\n",
    "                if pipes[y][x+1] == '7' or pipes[y][x+1] == '-' or pipes[y][x+1] == 'J' or pipes[y][x+1] == 'S':\n",
    "                    Maze.add_edge((x,y),(x+1,y))\n",
    "            if y+1 < len(pipes):\n",
    "                if pipes[y+1][x] == 'J' or pipes[y+1][x] == '|' or pipes[y+1][x] == 'L' or pipes[y+1][x] == 'S':\n",
    "                    Maze.add_edge((x,y),(x,y+1))\n",
    "        elif pipes[y][x] == '|':\n",
    "            if y+1 < len(pipes):\n",
    "                if pipes[y+1][x] == 'J' or pipes[y+1][x] == '|' or pipes[y+1][x] == 'L' or pipes[y+1][x] == 'S':\n",
    "                    Maze.add_edge((x,y),(x,y+1))\n",
    "            if y-1 >= 0:\n",
    "                if pipes[y-1][x] == 'F' or pipes[y-1][x] == '|' or pipes[y-1][x] == '7' or pipes[y-1][x] == 'S':\n",
    "                    Maze.add_edge((x,y),(x,y-1))\n",
    "        elif pipes[y][x] == '-':\n",
    "            if x+1 < len(pipes[y]):\n",
    "                if pipes[y][x+1] == '7' or pipes[y][x+1] == '-' or pipes[y][x+1] == 'J' or pipes[y][x+1] == 'S':\n",
    "                    Maze.add_edge((x,y),(x+1,y))\n",
    "            if x-1 >= 0:\n",
    "                if pipes[y][x-1] == 'F' or pipes[y][x-1] == '-' or pipes[y][x-1] == 'L' or pipes[y][x-1] == 'S':\n",
    "                    Maze.add_edge((x,y),(x-1,y))\n",
    "        elif pipes[y][x] == '7':\n",
    "            if x-1 >= 0:\n",
    "                if pipes[y][x-1] == 'F' or pipes[y][x-1] == '-' or pipes[y][x-1] == 'L' or pipes[y][x-1] == 'S':\n",
    "                    Maze.add_edge((x,y),(x-1,y))\n",
    "            if y+1 < len(pipes):\n",
    "                if pipes[y+1][x] == 'J' or pipes[y+1][x] == '|' or pipes[y+1][x] == 'L' or pipes[y+1][x] == 'S':\n",
    "                    Maze.add_edge((x,y),(x,y+1))\n",
    "        elif pipes[y][x] == 'J':\n",
    "            if x-1 >= 0:\n",
    "                if pipes[y][x-1] == 'F' or pipes[y][x-1] == '-' or pipes[y][x-1] == 'L' or pipes[y][x-1] == 'S':\n",
    "                    Maze.add_edge((x,y),(x-1,y))\n",
    "            if y-1 >= 0:\n",
    "                if pipes[y-1][x] == 'F' or pipes[y-1][x] == '|' or pipes[y-1][x] == '7' or pipes[y-1][x] == 'S':\n",
    "                    Maze.add_edge((x,y),(x,y-1))\n",
    "        elif pipes[y][x] == 'L':\n",
    "            if x+1 < len(pipes[y]):\n",
    "                if pipes[y][x+1] == '7' or pipes[y][x+1] == '-' or pipes[y][x+1] == 'J' or pipes[y][x+1] == 'S':\n",
    "                    Maze.add_edge((x,y),(x+1,y))\n",
    "            if y-1 >= 0:\n",
    "                if pipes[y-1][x] == 'F' or pipes[y-1][x] == '|' or pipes[y-1][x] == '7' or pipes[y-1][x] == 'S':\n",
    "                    Maze.add_edge((x,y),(x,y-1))\n",
    "        elif pipes[y][x] == 'S':\n",
    "            if x+1 < len(pipes[y]):\n",
    "                if pipes[y][x+1] == '7' or pipes[y][x+1] == '-' or pipes[y][x+1] == 'J' or pipes[y][x+1] == 'S':\n",
    "                    Maze.add_edge((x,y),(x+1,y))\n",
    "            if y+1 < len(pipes):\n",
    "                if pipes[y+1][x] == 'J' or pipes[y+1][x] == '|' or pipes[y+1][x] == 'L' or pipes[y+1][x] == 'S':\n",
    "                    Maze.add_edge((x,y),(x,y+1))\n",
    "            if x-1 >= 0:\n",
    "                if pipes[y][x-1] == 'F' or pipes[y][x-1] == '-' or pipes[y][x-1] == 'L' or pipes[y][x-1] == 'S':\n",
    "                    Maze.add_edge((x,y),(x-1,y))\n",
    "            if y-1 >= 0:\n",
    "                if pipes[y-1][x] == 'F' or pipes[y-1][x] == '|' or pipes[y-1][x] == '7' or pipes[y-1][x] == 'S':\n",
    "                    Maze.add_edge((x,y),(x,y-1))\n",
    "\n",
    "# find the start node\n",
    "start = next((node for node in Maze.nodes if Maze.nodes[node]['value'] == 'S'), None)\n",
    "\n",
    "# now look for loops in the graph that contain start node\n",
    "ciclo = next((cycle for cycle in nx.cycle_basis(Maze) if start in cycle), None)\n",
    "\n",
    "endtime = time.perf_counter_ns()\n",
    "print(\"We need\", int(len(ciclo)/2), \"steps to get to the point furthest away from the start.\")\n",
    "print(\"Time taken:\", round((endtime-starttime)/1000000, 3), \"ms\")"
   ]
  }
 ],
 "metadata": {
  "kernelspec": {
   "display_name": "advenv",
   "language": "python",
   "name": "python3"
  },
  "language_info": {
   "codemirror_mode": {
    "name": "ipython",
    "version": 3
   },
   "file_extension": ".py",
   "mimetype": "text/x-python",
   "name": "python",
   "nbconvert_exporter": "python",
   "pygments_lexer": "ipython3",
   "version": "3.11.7"
  }
 },
 "nbformat": 4,
 "nbformat_minor": 2
}
