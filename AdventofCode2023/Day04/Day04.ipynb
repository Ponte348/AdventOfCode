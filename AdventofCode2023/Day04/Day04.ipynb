{
 "cells": [
  {
   "cell_type": "markdown",
   "metadata": {},
   "source": [
    "## Part 1"
   ]
  },
  {
   "cell_type": "code",
   "execution_count": 25,
   "metadata": {},
   "outputs": [
    {
     "name": "stdout",
     "output_type": "stream",
     "text": [
      "25010\n"
     ]
    }
   ],
   "source": [
    "with open('input.txt', 'r') as f:\n",
    "    lines = f.read().splitlines()\n",
    "    cards = {}\n",
    "    \n",
    "    for line in lines:\n",
    "        # get card number, that will be the key\n",
    "        card_num = line.split(':')[0].split()[1]\n",
    "        # winning numbers is everything after ': ' and before ' | '\n",
    "        winning_numbers = line.split(': ')[1].split(' | ')[0].split()\n",
    "        # my numbers are everything after ' | '\n",
    "        my_numbers = line.split(' | ')[1].split()\n",
    "        # now add to dict\n",
    "        cards[card_num] = {\n",
    "            'winning_numbers': winning_numbers,\n",
    "            'my_numbers': my_numbers,\n",
    "            'points': 0\n",
    "        }\n",
    "        \n",
    "        # let's calculate points, for each winning number, if it's in my numbers, multiply by 2 (unless it's 0, then it's just 1)\n",
    "        for winning_number in winning_numbers:\n",
    "            if winning_number in my_numbers:\n",
    "                if cards[card_num]['points'] == 0:\n",
    "                    cards[card_num]['points'] += 1\n",
    "                else:\n",
    "                    cards[card_num]['points'] *= 2\n",
    "                    \n",
    "    # sum all points\n",
    "    print(sum([cards[card]['points'] for card in cards]))"
   ]
  },
  {
   "cell_type": "markdown",
   "metadata": {},
   "source": [
    "## Part 2"
   ]
  },
  {
   "cell_type": "code",
   "execution_count": 3,
   "metadata": {},
   "outputs": [
    {
     "name": "stdout",
     "output_type": "stream",
     "text": [
      "9924412\n"
     ]
    }
   ],
   "source": [
    "with open('input.txt', 'r') as f:\n",
    "    lines = f.read().splitlines()\n",
    "    cards = {}\n",
    "    \n",
    "    for line in lines:\n",
    "        # get card number, that will be the key\n",
    "        card_num = line.split(':')[0].split()[1]\n",
    "        # winning numbers is everything after ': ' and before ' | '\n",
    "        winning_numbers = line.split(': ')[1].split(' | ')[0].split()\n",
    "        # my numbers are everything after ' | '\n",
    "        my_numbers = line.split(' | ')[1].split()\n",
    "        # now add to dict\n",
    "        cards[card_num] = {\n",
    "            'winning_numbers': winning_numbers,\n",
    "            'my_numbers': my_numbers,\n",
    "            'points': 0,\n",
    "            'copies': 1\n",
    "        }\n",
    "        \n",
    "    for card_num in cards:\n",
    "        for i in range(cards[card_num]['copies']):\n",
    "            winners=0\n",
    "            for winning_numbers in cards[card_num]['winning_numbers']:\n",
    "                if winning_numbers in cards[card_num]['my_numbers']:\n",
    "                    winners+=1\n",
    "            for i in range(1,winners+1):\n",
    "                cards[str(int(card_num)+i)]['copies']+=1\n",
    "        \n",
    "    n_cards=0\n",
    "    for card in cards:\n",
    "        n_cards+=cards[card]['copies']\n",
    "    print(n_cards)"
   ]
  }
 ],
 "metadata": {
  "kernelspec": {
   "display_name": "advenv",
   "language": "python",
   "name": "python3"
  },
  "language_info": {
   "codemirror_mode": {
    "name": "ipython",
    "version": 3
   },
   "file_extension": ".py",
   "mimetype": "text/x-python",
   "name": "python",
   "nbconvert_exporter": "python",
   "pygments_lexer": "ipython3",
   "version": "3.11.6"
  }
 },
 "nbformat": 4,
 "nbformat_minor": 2
}
