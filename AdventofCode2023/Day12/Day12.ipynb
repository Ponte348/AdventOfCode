{
 "cells": [
  {
   "cell_type": "code",
   "execution_count": 1,
   "metadata": {},
   "outputs": [],
   "source": [
    "import time\n",
    "with open('input.txt') as f:\n",
    "    lines = f.read().splitlines()"
   ]
  },
  {
   "cell_type": "markdown",
   "metadata": {},
   "source": [
    "## Part 1"
   ]
  },
  {
   "cell_type": "code",
   "execution_count": 12,
   "metadata": {},
   "outputs": [
    {
     "name": "stdout",
     "output_type": "stream",
     "text": [
      "0\n"
     ]
    }
   ],
   "source": [
    "readings = [reading.split() for reading in lines]\n",
    "\n",
    "def arrangements(pattern, numbers, possibilities):\n",
    "    # we have a pattern with '.', '?' and '#'\n",
    "    # '.' represents empty space\n",
    "    # '?' represents a spot that can hold a number or '.' (empty space)\n",
    "    # '#' represents a spot that must hold a number\n",
    "    # our numbers represents the groups of numbers in the order they appear, so ...#..##.####.# would be 1,2,4,1\n",
    "    # we need to find the number of arrangements that can be made\n",
    "    # I think a recursive function would work here\n",
    "    \n",
    "    if len(numbers) == []:\n",
    "        return 0\n",
    "    if len(pattern) == 0:\n",
    "        return 1\n",
    "    \n",
    "    if pattern[0] == '.':\n",
    "        return arrangements(pattern[1:], numbers, possibilities)\n",
    "    \n",
    "    n = numbers[0]\n",
    "    # if the pattern starts by n '#' we just go next with a pattern without those n first characters and with numbers without the first number\n",
    "    for i in range(n):\n",
    "        if pattern[i] != '#':\n",
    "            break\n",
    "        else:\n",
    "            return arrangements(pattern[i+1:], numbers[1:], possibilities)\n",
    "    \n",
    "    \n",
    "        \n",
    "    \n",
    "    # find a number of '?' in the pattern equal to numbers[0]\n",
    "    # if there are not enough '?' then return 0\n",
    "    \n",
    "            \n",
    "    \n",
    "    \n",
    "\n",
    "count = 0\n",
    "for reading in readings:\n",
    "    #print(reading)\n",
    "    count +=  arrangements(reading[0], [int(number) for number in reading[1].split(',')], possibilities=0)"
   ]
  },
  {
   "cell_type": "markdown",
   "metadata": {},
   "source": [
    "## Part 2"
   ]
  },
  {
   "cell_type": "code",
   "execution_count": null,
   "metadata": {},
   "outputs": [],
   "source": []
  }
 ],
 "metadata": {
  "kernelspec": {
   "display_name": "advenv",
   "language": "python",
   "name": "python3"
  },
  "language_info": {
   "codemirror_mode": {
    "name": "ipython",
    "version": 3
   },
   "file_extension": ".py",
   "mimetype": "text/x-python",
   "name": "python",
   "nbconvert_exporter": "python",
   "pygments_lexer": "ipython3",
   "version": "3.11.7"
  }
 },
 "nbformat": 4,
 "nbformat_minor": 2
}
