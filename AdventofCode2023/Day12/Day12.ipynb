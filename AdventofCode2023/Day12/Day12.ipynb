{
 "cells": [
  {
   "cell_type": "code",
   "execution_count": 1,
   "metadata": {},
   "outputs": [],
   "source": [
    "import time\n",
    "with open('input.txt') as f:\n",
    "    lines = f.read().splitlines()"
   ]
  },
  {
   "cell_type": "markdown",
   "metadata": {},
   "source": [
    "## Part 1"
   ]
  },
  {
   "cell_type": "code",
   "execution_count": 12,
   "metadata": {},
   "outputs": [
    {
     "name": "stdout",
     "output_type": "stream",
     "text": [
      "0\n"
     ]
    }
   ],
   "source": [
    "readings = [reading.split() for reading in lines]\n",
    "\n",
    "def arrangements(pattern, numbers):\n",
    "    # we have a pattern with '.', '?' and '#'\n",
    "    # '.' represents empty space\n",
    "    # '?' represents a spot that can hold a number or '.' (empty space)\n",
    "    # '#' represents a spot that must hold a number\n",
    "    # our numbers represents the groups of numbers in the order they appear, so ...#..##.####.# would be 1,2,4,1\n",
    "    # we need to find the number of arrangements that can be made\n",
    "    # I think a recursive function would work here\n",
    "    \n",
    "    if len(numbers) == []:\n",
    "        return 0\n",
    "    \n",
    "    # find a number of '?' in the pattern equal to numbers[0]\n",
    "    # if there are not enough '?' then return 0\n",
    "    \n",
    "            \n",
    "    \n",
    "    \n",
    "\n",
    "count = 0\n",
    "for reading in readings:\n",
    "    #print(reading)\n",
    "    count +=  arrangements(reading[0], [int(number) for number in reading[1].split(',')])"
   ]
  },
  {
   "cell_type": "markdown",
   "metadata": {},
   "source": [
    "## Part 2"
   ]
  },
  {
   "cell_type": "code",
   "execution_count": null,
   "metadata": {},
   "outputs": [],
   "source": []
  }
 ],
 "metadata": {
  "kernelspec": {
   "display_name": "advenv",
   "language": "python",
   "name": "python3"
  },
  "language_info": {
   "codemirror_mode": {
    "name": "ipython",
    "version": 3
   },
   "file_extension": ".py",
   "mimetype": "text/x-python",
   "name": "python",
   "nbconvert_exporter": "python",
   "pygments_lexer": "ipython3",
   "version": "3.11.7"
  }
 },
 "nbformat": 4,
 "nbformat_minor": 2
}
