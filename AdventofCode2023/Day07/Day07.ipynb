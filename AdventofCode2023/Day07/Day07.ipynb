{
 "cells": [
  {
   "cell_type": "markdown",
   "metadata": {},
   "source": [
    "## Part 1"
   ]
  },
  {
   "cell_type": "code",
   "execution_count": 24,
   "metadata": {},
   "outputs": [
    {
     "name": "stdout",
     "output_type": "stream",
     "text": [
      "248812215\n"
     ]
    }
   ],
   "source": [
    "with open('input.txt') as f:\n",
    "    lines = f.read().splitlines()\n",
    "\n",
    "labels = ['A','K','Q','J','T','9','8','7','6','5','4','3','2']\n",
    "types = [\"Five of a kind\", \"Four of a kind\", \"Full house\", \"Three of a kind\", \"Two pair\", \"One pair\", \"High card\"]\n",
    "\n",
    "class Hand:\n",
    "    def __init__(self, inp):\n",
    "        self.label = inp[0]\n",
    "        self.bid = inp[1]\n",
    "        self.type = self.type_finder()\n",
    "    \n",
    "    def type_finder(self):\n",
    "        # Five of a kind - check if all chars are the same\n",
    "        if len(set(self.label)) == 1:\n",
    "            return \"Five of a kind\"\n",
    "        # Four of a kind - check if any char is repeated 4 times\n",
    "        elif 4 in [self.label.count(label) for label in labels]:\n",
    "            return \"Four of a kind\"\n",
    "        # Full house - check if any char is repeated 3 times and another char is repeated 2 times\n",
    "        elif 3 in [self.label.count(label) for label in labels] and 2 in [self.label.count(label) for label in labels]:\n",
    "            return \"Full house\"\n",
    "        # Three of a kind - check if any char is repeated 3 times but the 2 other chars are not repeated\n",
    "        elif 3 in [self.label.count(label) for label in labels] and 2 not in [self.label.count(label) for label in labels]:\n",
    "            return \"Three of a kind\"\n",
    "        # Two pair - check if any char is repeated 2 times and another char is repeated 2 times\n",
    "        elif [self.label.count(label) for label in labels].count(2) == 2:\n",
    "            return \"Two pair\"\n",
    "        # One pair - check if any char is repeated 2 times but the 3 other chars are not repeated\n",
    "        elif 2 in [self.label.count(label) for label in labels] and 3 not in [self.label.count(label) for label in labels]:\n",
    "            return \"One pair\"\n",
    "        # High card - check if all chars are different\n",
    "        elif len(set(self.label)) == 5:\n",
    "            return \"High card\"\n",
    "        \n",
    "        # Error    \n",
    "        else:\n",
    "            return \"Error\"\n",
    "\n",
    "    # method to compare hands\n",
    "    def __lt__(self, other):\n",
    "        # if the type is the same, compare the first char, if they are the same, compare the next one and so on, if they are all the same, return true\n",
    "        if self.type == other.type:\n",
    "            for i in range(0,5):\n",
    "                if labels.index(self.label[i]) != labels.index(other.label[i]):\n",
    "                    return labels.index(self.label[i]) < labels.index(other.label[i])\n",
    "            return True\n",
    "        # if the type is different, compare the type\n",
    "        else:\n",
    "            return types.index(self.type) < types.index(other.type)\n",
    "\n",
    "    def __repr__(self):\n",
    "        return f\"{self.label} {self.bid} {self.type}\"\n",
    "\n",
    "# dealing with input\n",
    "hands = []\n",
    "for line in lines:\n",
    "    hand = Hand(line.split())\n",
    "    hands.append(hand)\n",
    "\n",
    "# create a dictionary with the types as keys and the hands as values\n",
    "types = {'Five of a kind': [], 'Four of a kind': [], 'Full house': [], 'Three of a kind': [], 'Two pair': [], 'One pair': [], 'High card': []}\n",
    "for hand in hands:\n",
    "    types[hand.type].append(hand)\n",
    "\n",
    "# sort the hands in each type by the label using the __lt__ method\n",
    "for key in types:\n",
    "    types[key].sort(reverse=True)\n",
    "    \n",
    "# add all hands in types to list hands, sorted by type 'High card' first\n",
    "hands = []\n",
    "for key in reversed(types):\n",
    "    hands += types[key]   \n",
    "\n",
    "# for each hand, multiply the index+1 by the bid and add to the total\n",
    "total = 0\n",
    "for i in range(0,len(hands)):\n",
    "    total += (i+1)*int(hands[i].bid)\n",
    "print(total)\n"
   ]
  },
  {
   "cell_type": "markdown",
   "metadata": {},
   "source": [
    "## Part 2"
   ]
  },
  {
   "cell_type": "code",
   "execution_count": null,
   "metadata": {},
   "outputs": [],
   "source": [
    "with open('input.txt') as f:\n",
    "    lines = f.read().splitlines()\n",
    "print(lines)"
   ]
  }
 ],
 "metadata": {
  "kernelspec": {
   "display_name": "advenv",
   "language": "python",
   "name": "python3"
  },
  "language_info": {
   "codemirror_mode": {
    "name": "ipython",
    "version": 3
   },
   "file_extension": ".py",
   "mimetype": "text/x-python",
   "name": "python",
   "nbconvert_exporter": "python",
   "pygments_lexer": "ipython3",
   "version": "3.11.7"
  }
 },
 "nbformat": 4,
 "nbformat_minor": 2
}
