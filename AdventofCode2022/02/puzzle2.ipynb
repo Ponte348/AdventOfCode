{
 "cells": [
  {
   "cell_type": "markdown",
   "metadata": {},
   "source": [
    "PART 1"
   ]
  },
  {
   "cell_type": "code",
   "execution_count": 48,
   "metadata": {},
   "outputs": [
    {
     "name": "stdout",
     "output_type": "stream",
     "text": [
      "Total de pontos: 12276\n"
     ]
    }
   ],
   "source": [
    "total=0\n",
    "with open('input.txt', 'r') as f:\n",
    "    jogos=f.readlines()\n",
    "    for f in jogos:\n",
    "        jogo=f.split()\n",
    "        match jogo[0]:\n",
    "            case 'A':\n",
    "                if jogo[1]=='X': # ROCK - ROCK\n",
    "                    total+=3 # por empate\n",
    "                    total+=1 # por usar rock\n",
    "                elif jogo[1]=='Y': # ROCK - PAPER\n",
    "                    total+=6 # por vitória\n",
    "                    total+=2 # por usar paper\n",
    "                elif jogo[1]=='Z': # ROCK - SCISSOR\n",
    "                    #total+=0 # por derrota\n",
    "                    total+=3 # por usar scissor\n",
    "                else:\n",
    "                    print(\"ERRO NO JOGADA\")\n",
    "            \n",
    "            case 'B':\n",
    "                if jogo[1]=='X': # PAPER - ROCK\n",
    "                    #total+=0 # por derrota\n",
    "                    total+=1 # por usar rock\n",
    "                elif jogo[1]=='Y': # PAPER - PAPER\n",
    "                    total+=3 # por empate\n",
    "                    total+=2 # por usar paper\n",
    "                elif jogo[1]=='Z': # PAPER - SCISSOR\n",
    "                    total+=6 # por vitória\n",
    "                    total+=3 # por usar scissor\n",
    "                else:\n",
    "                    print(\"ERRO NO JOGADA\")\n",
    "\n",
    "            case 'C':\n",
    "                if jogo[1]=='X': # SCISSOR - ROCK\n",
    "                    total+=6 # por vitória\n",
    "                    total+=1 # por usar rock\n",
    "                elif jogo[1]=='Y': # SCISSOR - PAPER\n",
    "                    #total+=0 # por derrota\n",
    "                    total+=2 # por usar paper\n",
    "                elif jogo[1]=='Z': # SCISSOR - SCISSOR\n",
    "                    total+=3 # por empate\n",
    "                    total+=3 # por usar scissor\n",
    "                else:\n",
    "                    print(\"ERRO NO JOGADA\")\n",
    "            case _:\n",
    "                print(\"Erro na jogada\")\n",
    "print(\"Total de pontos:\", total)\n",
    "\n"
   ]
  },
  {
   "cell_type": "markdown",
   "metadata": {},
   "source": [
    "PART 2"
   ]
  },
  {
   "cell_type": "code",
   "execution_count": 2,
   "metadata": {},
   "outputs": [
    {
     "name": "stdout",
     "output_type": "stream",
     "text": [
      "Total de pontos: 9975\n"
     ]
    }
   ],
   "source": [
    "total=0\n",
    "with open('input.txt', 'r') as f:\n",
    "    jogos=f.readlines()\n",
    "    for f in jogos:\n",
    "        jogo=f.split()\n",
    "        match jogo[0]:\n",
    "            case 'A': # ROCK\n",
    "                if jogo[1]=='Y': # ROCK - ROCK\n",
    "                    total+=3 # por empate\n",
    "                    total+=1 # por usar rock\n",
    "                elif jogo[1]=='Z': # ROCK - PAPER\n",
    "                    total+=6 # por vitória\n",
    "                    total+=2 # por usar paper\n",
    "                elif jogo[1]=='X': # ROCK - SCISSOR\n",
    "                    #total+=0 # por derrota\n",
    "                    total+=3 # por usar scissor\n",
    "                else:\n",
    "                    print(\"ERRO NO JOGADA\")\n",
    "            \n",
    "            case 'B': # PAPER\n",
    "                if jogo[1]=='X': # PAPER - ROCK\n",
    "                    #total+=0 # por derrota\n",
    "                    total+=1 # por usar rock\n",
    "                elif jogo[1]=='Y': # PAPER - PAPER\n",
    "                    total+=3 # por empate\n",
    "                    total+=2 # por usar paper\n",
    "                elif jogo[1]=='Z': # PAPER - SCISSOR\n",
    "                    total+=6 # por vitória\n",
    "                    total+=3 # por usar scissor\n",
    "                else:\n",
    "                    print(\"ERRO NO JOGADA\")\n",
    "\n",
    "            case 'C': # SCISSOR\n",
    "                if jogo[1]=='Z': # SCISSOR - ROCK\n",
    "                    total+=6 # por vitória\n",
    "                    total+=1 # por usar rock\n",
    "                elif jogo[1]=='X': # SCISSOR - PAPER\n",
    "                    #total+=0 # por derrota\n",
    "                    total+=2 # por usar paper\n",
    "                elif jogo[1]=='Y': # SCISSOR - SCISSOR\n",
    "                    total+=3 # por empate\n",
    "                    total+=3 # por usar scissor\n",
    "                else:\n",
    "                    print(\"ERRO NO JOGADA\")\n",
    "            case _:\n",
    "                print(\"Erro na jogada\")\n",
    "print(\"Total de pontos:\", total)"
   ]
  }
 ],
 "metadata": {
  "kernelspec": {
   "display_name": "Python 3.11.0 64-bit",
   "language": "python",
   "name": "python3"
  },
  "language_info": {
   "codemirror_mode": {
    "name": "ipython",
    "version": 3
   },
   "file_extension": ".py",
   "mimetype": "text/x-python",
   "name": "python",
   "nbconvert_exporter": "python",
   "pygments_lexer": "ipython3",
   "version": "3.11.0"
  },
  "orig_nbformat": 4,
  "vscode": {
   "interpreter": {
    "hash": "b93d7f58fa87cccc1c54a1bb58fde30533742810013d86233f92d0fba50587f2"
   }
  }
 },
 "nbformat": 4,
 "nbformat_minor": 2
}
