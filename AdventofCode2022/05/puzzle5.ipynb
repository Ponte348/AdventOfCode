{
 "cells": [
  {
   "cell_type": "markdown",
   "metadata": {},
   "source": [
    "PART 1"
   ]
  },
  {
   "cell_type": "code",
   "execution_count": null,
   "metadata": {},
   "outputs": [],
   "source": [
    "f = open('input.txt', 'r')\n",
    "colunas=[[],[],[],[],[],[],[],[],[]]\n",
    "alt=1 # to check what line we're in, we want to read in 1-8 and 11-end but want to ignore 9-10\n",
    "for linha in f.read().splitlines(): # Para ler inputs\n",
    "    d,col,contesp=0,0,0 # col to know which colunas list to insert and contesp to count everychar inluding spaces\n",
    "    moves=[]\n",
    "    for char in linha:\n",
    "        if alt<=9:\n",
    "            if(contesp%4==1):\n",
    "                if char.isalpha():\n",
    "                    colunas[col].insert(0,char)\n",
    "                col+=1\n",
    "            contesp+=1\n",
    "        else:\n",
    "            continue\n",
    "    while(d<6 and alt>=11): # Get the moves\n",
    "        li=linha.split()\n",
    "        if d%2 and d<6:\n",
    "            moves.append(int(li[d]))\n",
    "        d+=1\n",
    "    if alt>=11: # moving time\n",
    "        for i in range(moves[0]): # tem de repetir moves[0] vezes\n",
    "            colunas[moves[2]-1].append(colunas[moves[1]-1].pop()) # adiciona à stack de colunas[move[2]] o que estiver em cima da stack em colunas[move[1]]\n",
    "    alt+=1\n",
    "\n",
    "for stack in colunas: # stacks finais\n",
    "    print(stack)\n",
    "for stack in colunas: # solução do problema\n",
    "    print(stack[-1], end=\"\")\n",
    "f.close()"
   ]
  },
  {
   "cell_type": "markdown",
   "metadata": {},
   "source": [
    "PART 2"
   ]
  },
  {
   "cell_type": "code",
   "execution_count": 77,
   "metadata": {},
   "outputs": [
    {
     "name": "stdout",
     "output_type": "stream",
     "text": [
      "['L', 'S', 'W']\n",
      "['V', 'H', 'P', 'S', 'Z', 'W', 'R', 'B']\n",
      "['H', 'V', 'R', 'S', 'L', 'Q']\n",
      "['W', 'M', 'L', 'F']\n",
      "['H', 'V']\n",
      "['W', 'M']\n",
      "['V', 'H', 'P', 'S', 'Z', 'W']\n",
      "['B', 'Z', 'V', 'M', 'F']\n",
      "['B', 'M', 'J', 'C', 'G', 'H', 'Z', 'W', ['R', 'B']]\n"
     ]
    },
    {
     "ename": "IndexError",
     "evalue": "pop from empty list",
     "output_type": "error",
     "traceback": [
      "\u001b[1;31m---------------------------------------------------------------------------\u001b[0m",
      "\u001b[1;31mIndexError\u001b[0m                                Traceback (most recent call last)",
      "Cell \u001b[1;32mIn[77], line 25\u001b[0m\n\u001b[0;32m     23\u001b[0m     \u001b[39mprint\u001b[39m(colunas[moves[\u001b[39m1\u001b[39m]\u001b[39m-\u001b[39m\u001b[39m1\u001b[39m])\n\u001b[0;32m     24\u001b[0m     \u001b[39mfor\u001b[39;00m i \u001b[39min\u001b[39;00m \u001b[39mrange\u001b[39m(moves[\u001b[39m0\u001b[39m]): \u001b[39m# tem de repetir moves[0] vezes\u001b[39;00m\n\u001b[1;32m---> 25\u001b[0m         crates\u001b[39m.\u001b[39minsert(\u001b[39m0\u001b[39m, colunas[moves[\u001b[39m1\u001b[39m]\u001b[39m-\u001b[39m\u001b[39m1\u001b[39m]\u001b[39m.\u001b[39mpop())\n\u001b[0;32m     26\u001b[0m     colunas[moves[\u001b[39m2\u001b[39m]\u001b[39m-\u001b[39m\u001b[39m1\u001b[39m]\u001b[39m.\u001b[39mappend(crates)\n\u001b[0;32m     27\u001b[0m alt\u001b[39m+\u001b[39m\u001b[39m=\u001b[39m\u001b[39m1\u001b[39m\n",
      "\u001b[1;31mIndexError\u001b[0m: pop from empty list"
     ]
    }
   ],
   "source": [
    "f = open('input.txt', 'r')\n",
    "colunas=[[],[],[],[],[],[],[],[],[]]\n",
    "alt=1 # to check what line we're in, we want to read in 1-8 and 11-end but want to ignore 9-10\n",
    "for linha in f.read().splitlines(): # Para ler inputs\n",
    "    d,col,contesp=0,0,0 # col to know which colunas list to insert and contesp to count everychar inluding spaces\n",
    "    moves=[]\n",
    "    for char in linha:\n",
    "        if alt<=9:\n",
    "            if(contesp%4==1):\n",
    "                if char.isalpha():\n",
    "                    colunas[col].insert(0,char)\n",
    "                col+=1\n",
    "            contesp+=1\n",
    "        else:\n",
    "            continue\n",
    "    while(d<6 and alt>=11): # Get the moves\n",
    "        li=linha.split()\n",
    "        if d%2 and d<6:\n",
    "            moves.append(int(li[d]))\n",
    "        d+=1\n",
    "    if alt>=11: # moving time\n",
    "        crates=[]\n",
    "        print(colunas[moves[1]-1])\n",
    "        for i in range(moves[0]): # tem de repetir moves[0] vezes\n",
    "            crates.insert(0, colunas[moves[1]-1].pop())\n",
    "        for j in crates:\n",
    "            colunas[moves[2]-1].append(j)\n",
    "        \n",
    "    alt+=1\n",
    "\n",
    "for stack in colunas: # stacks finais\n",
    "    print(stack)\n",
    "for stack in colunas: # solução do problema\n",
    "    print(stack[-1], end=\"\")\n",
    "f.close()"
   ]
  }
 ],
 "metadata": {
  "kernelspec": {
   "display_name": "Python 3.11.0 ('advenv': venv)",
   "language": "python",
   "name": "python3"
  },
  "language_info": {
   "codemirror_mode": {
    "name": "ipython",
    "version": 3
   },
   "file_extension": ".py",
   "mimetype": "text/x-python",
   "name": "python",
   "nbconvert_exporter": "python",
   "pygments_lexer": "ipython3",
   "version": "3.11.0"
  },
  "orig_nbformat": 4,
  "vscode": {
   "interpreter": {
    "hash": "58e17467bc3e01b78050c34a922dec05e68ca7b42c7f2ab6aaddfc2e12efd636"
   }
  }
 },
 "nbformat": 4,
 "nbformat_minor": 2
}
