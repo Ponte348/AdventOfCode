{
 "cells": [
  {
   "cell_type": "markdown",
   "metadata": {},
   "source": [
    "PART 1"
   ]
  },
  {
   "cell_type": "code",
   "execution_count": 5,
   "metadata": {},
   "outputs": [
    {
     "name": "stdout",
     "output_type": "stream",
     "text": [
      "7990\n"
     ]
    }
   ],
   "source": [
    "total=0\n",
    "f = open('input.txt', 'r')\n",
    "for mala in f.read().splitlines():\n",
    "    compart1,compart2=[],[] # Compartment 1 and 2\n",
    "    cont=0\n",
    "    for item in mala:   \n",
    "        if cont<len(mala)/2: # Seaprating first half from second half\n",
    "            compart1.append(item)\n",
    "        else:\n",
    "            compart2.append(item)\n",
    "        cont+=1\n",
    "    for item in compart1:\n",
    "        if item in compart2:    # If item is in both comparts\n",
    "            if item.isupper():  # To check priorities to add\n",
    "                total+=ord(item)-64+26 # char to ASCII and adds priority\n",
    "                break\n",
    "            else:\n",
    "                total+=ord(item)-96 # char to ASCII\n",
    "                break\n",
    "print(total)\n",
    "f.close()"
   ]
  },
  {
   "cell_type": "markdown",
   "metadata": {},
   "source": [
    "PART 2"
   ]
  },
  {
   "cell_type": "code",
   "execution_count": 4,
   "metadata": {},
   "outputs": [
    {
     "name": "stdout",
     "output_type": "stream",
     "text": [
      "2602\n"
     ]
    }
   ],
   "source": [
    "total=0\n",
    "f = open('input.txt', 'r')\n",
    "elf,elf0,elf1,elf2, elfos=0,[],[],[],[1,2,3]\n",
    "for mala in f.read().splitlines():\n",
    "    for item in mala:   # To store the three elves' bags in one list\n",
    "        if elf==0:\n",
    "            elf0.append(item)\n",
    "        elif elf==1:\n",
    "            elf1.append(item)\n",
    "        else:\n",
    "            elf2.append(item)\n",
    "    if elf==0:\n",
    "        elf=1\n",
    "    elif elf==1:\n",
    "        elf=2\n",
    "    else:\n",
    "        elf=0\n",
    "        for tipo in elf0:   # If a type is in the other elves' bags, its their badge\n",
    "            if (tipo in elf1) and (tipo in elf2):\n",
    "                if tipo.isupper():  # To check priorities to add\n",
    "                    total+=ord(tipo)-64+26 # char to ASCII and adds priority\n",
    "                else:\n",
    "                    total+=ord(tipo)-96 # char to ASCII\n",
    "                elf0,elf1,elf2=[],[],[]\n",
    "                break\n",
    "\n",
    "print(total)\n",
    "f.close()"
   ]
  }
 ],
 "metadata": {
  "kernelspec": {
   "display_name": "Python 3.11.0 ('advenv': venv)",
   "language": "python",
   "name": "python3"
  },
  "language_info": {
   "codemirror_mode": {
    "name": "ipython",
    "version": 3
   },
   "file_extension": ".py",
   "mimetype": "text/x-python",
   "name": "python",
   "nbconvert_exporter": "python",
   "pygments_lexer": "ipython3",
   "version": "3.11.0"
  },
  "orig_nbformat": 4,
  "vscode": {
   "interpreter": {
    "hash": "58e17467bc3e01b78050c34a922dec05e68ca7b42c7f2ab6aaddfc2e12efd636"
   }
  }
 },
 "nbformat": 4,
 "nbformat_minor": 2
}
