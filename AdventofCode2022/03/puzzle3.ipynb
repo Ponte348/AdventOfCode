{
 "cells": [
  {
   "cell_type": "markdown",
   "metadata": {},
   "source": [
    "PART 1"
   ]
  },
  {
   "cell_type": "code",
   "execution_count": 2,
   "metadata": {},
   "outputs": [
    {
     "name": "stdout",
     "output_type": "stream",
     "text": [
      "7990\n"
     ]
    }
   ],
   "source": [
    "total=0\n",
    "f = open('input.txt', 'r')\n",
    "for mala in f.read().splitlines():\n",
    "    compart1,compart2=[],[] # Compartment 1 and 2\n",
    "    cont=0\n",
    "    for item in mala:   \n",
    "        if cont<len(mala)/2: # Seaprating first half from second half\n",
    "            compart1.append(item)\n",
    "        else:\n",
    "            compart2.append(item)\n",
    "        cont+=1\n",
    "    for item in compart1:\n",
    "        if item in compart2:    # If item is in both comparts\n",
    "            if item.isupper():  # To check priorities to add\n",
    "                total+=ord(item)-64+26 # char to ASCII and adds priority\n",
    "                break\n",
    "            else:\n",
    "                total+=ord(item)-96 # char to ASCII\n",
    "                break\n",
    "print(total)\n",
    "f.close()"
   ]
  },
  {
   "cell_type": "markdown",
   "metadata": {},
   "source": [
    "PART 2"
   ]
  },
  {
   "cell_type": "code",
   "execution_count": 39,
   "metadata": {},
   "outputs": [
    {
     "name": "stdout",
     "output_type": "stream",
     "text": [
      "['z', 'M', 'S', 'm', 'c', 'n', 'g', 's', 'p', 'p', 't', 'h', 'T', 'l', 'H', 'n', 'B', 'r', 'W', 'H', 'G', 'w', 'M', 'P', 'r', 'n', 'd', 'L', 'w', 'F', 'J', 'z', 'm', 'P', 's', 'R', 'W', 's', 'V', 'f', 'Q', 'R', 'J', 'r', 'C', 'B', 'j', 't', 'd', 'F', 'P', 'd', 'T', 'v', 'g', 'V', 'd', 'l', 'P', 'd', 'j', 'g', 't', 'S', 'L', 'f', 'T', 'M', 'r', 'n', 'g', 'Z', 'L', 'j', 'M', 'G', 'G', 'Z', 'p', 'M', 'n', 'M', 'V', 'h', 'l', 'R', 'N', 'p', 'H', 'n', 'P', 's', 'j', 'l', 'J', 'p', 'D', 'H', 'h', 'N'] 100\n"
     ]
    },
    {
     "ename": "TypeError",
     "evalue": "can only concatenate str (not \"int\") to str",
     "output_type": "error",
     "traceback": [
      "\u001b[1;31m---------------------------------------------------------------------------\u001b[0m",
      "\u001b[1;31mTypeError\u001b[0m                                 Traceback (most recent call last)",
      "Cell \u001b[1;32mIn[39], line 37\u001b[0m\n\u001b[0;32m     35\u001b[0m         letra\u001b[39m+\u001b[39m\u001b[39m=\u001b[39m\u001b[39mord\u001b[39m(item)\u001b[39m-\u001b[39m\u001b[39m64\u001b[39m\u001b[39m+\u001b[39m\u001b[39m26\u001b[39m \u001b[39m# char to ASCII and adds priority\u001b[39;00m\n\u001b[0;32m     36\u001b[0m     \u001b[39melse\u001b[39;00m:\n\u001b[1;32m---> 37\u001b[0m         letra\u001b[39m+\u001b[39;49m\u001b[39m=\u001b[39;49m\u001b[39mord\u001b[39;49m(item)\u001b[39m-\u001b[39;49m\u001b[39m96\u001b[39;49m \u001b[39m# char to ASCII\u001b[39;00m\n\u001b[0;32m     38\u001b[0m \u001b[39mprint\u001b[39m(total)\n\u001b[0;32m     39\u001b[0m f\u001b[39m.\u001b[39mclose()\n",
      "\u001b[1;31mTypeError\u001b[0m: can only concatenate str (not \"int\") to str"
     ]
    }
   ],
   "source": [
    "total=0\n",
    "f = open('input.txt', 'r')\n",
    "elf=0\n",
    "elf0,elf1,elf2, elfos=[],[],[],[1,2,3]\n",
    "badges=[]\n",
    "for mala in f.read().splitlines():\n",
    "    for item in mala:   # To store the three elves' bags in one list\n",
    "        if elf==0:\n",
    "            elf0.append(item)\n",
    "        elif elf==1:\n",
    "            elf1.append(item)\n",
    "        else:\n",
    "            elf2.append(item)\n",
    "\n",
    "    if elf==0:\n",
    "        #elfos[0]=elf0\n",
    "        elf=1\n",
    "    elif elf==1:\n",
    "        #elfos[1]=elf1\n",
    "        elf=2\n",
    "    else:\n",
    "        elf=0\n",
    "        #elfos[2]=elf2 # The list is now full, let's work\n",
    "        for tipo in elf0:   # If a type is in the other elves' bags, its their badge\n",
    "            if (tipo in elf1) and (tipo in elf2):\n",
    "                badges.append(tipo)\n",
    "                elf0,elf1,elf2=[],[],[]\n",
    "                break\n",
    "\n",
    "\n",
    "\n",
    "print(badges, len(badges))\n",
    "for letra in badges:\n",
    "    if letra.isupper():  # To check priorities to add\n",
    "        total+=ord(letra)-64+26 # char to ASCII and adds priority\n",
    "    else:\n",
    "        total+=ord(letra)-96 # char to ASCII\n",
    "print(total)\n",
    "f.close()"
   ]
  }
 ],
 "metadata": {
  "kernelspec": {
   "display_name": "Python 3.11.0 ('advenv': venv)",
   "language": "python",
   "name": "python3"
  },
  "language_info": {
   "codemirror_mode": {
    "name": "ipython",
    "version": 3
   },
   "file_extension": ".py",
   "mimetype": "text/x-python",
   "name": "python",
   "nbconvert_exporter": "python",
   "pygments_lexer": "ipython3",
   "version": "3.11.0"
  },
  "orig_nbformat": 4,
  "vscode": {
   "interpreter": {
    "hash": "58e17467bc3e01b78050c34a922dec05e68ca7b42c7f2ab6aaddfc2e12efd636"
   }
  }
 },
 "nbformat": 4,
 "nbformat_minor": 2
}
