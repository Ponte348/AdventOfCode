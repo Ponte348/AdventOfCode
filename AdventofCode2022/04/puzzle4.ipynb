{
 "cells": [
  {
   "cell_type": "markdown",
   "metadata": {},
   "source": [
    "PART 1"
   ]
  },
  {
   "cell_type": "code",
   "execution_count": null,
   "metadata": {},
   "outputs": [],
   "source": [
    "total=0\n",
    "f = open('input.txt', 'r')\n",
    "for elfo in f.read().splitlines():\n",
    "    par=elfo.split(',')     # Separate values\n",
    "    sec1,sec2 = par[0].split('-'),par[1].split('-')\n",
    "    va10,va11,va20,va21 = int(sec1[0]),int(sec1[1]),int(sec2[0]),int(sec2[1])\n",
    "\n",
    "    section1,section2=[],[]     # Create list with sections\n",
    "    for i in range(va10,va11+1):\n",
    "        section1.append(i)\n",
    "    for j in range(va20,va21+1):\n",
    "        section2.append(j)\n",
    "    if all(section in section1 for section in section2) or all(section in section2 for section in section1):\n",
    "        total+=1\n",
    "print(total)\n",
    "f.close()"
   ]
  },
  {
   "cell_type": "markdown",
   "metadata": {},
   "source": [
    "PART 2"
   ]
  },
  {
   "cell_type": "code",
   "execution_count": null,
   "metadata": {},
   "outputs": [],
   "source": [
    "total=0\n",
    "f = open('input.txt', 'r')\n",
    "for elfo in f.read().splitlines():\n",
    "    par=elfo.split(',')     # Separate values\n",
    "    sec1,sec2 = par[0].split('-'),par[1].split('-')\n",
    "    va10,va11,va20,va21 = int(sec1[0]),int(sec1[1]),int(sec2[0]),int(sec2[1])\n",
    "\n",
    "    section1,section2=[],[]     # Create list with sections\n",
    "    for i in range(va10,va11+1):\n",
    "        section1.append(i)\n",
    "    for j in range(va20,va21+1):\n",
    "        section2.append(j)\n",
    "    if any(section in section1 for section in section2) or any(section in section2 for section in section1):\n",
    "        total+=1\n",
    "print(total)\n",
    "f.close()"
   ]
  }
 ],
 "metadata": {
  "kernelspec": {
   "display_name": "Python 3.11.0 ('advenv': venv)",
   "language": "python",
   "name": "python3"
  },
  "language_info": {
   "codemirror_mode": {
    "name": "ipython",
    "version": 3
   },
   "file_extension": ".py",
   "mimetype": "text/x-python",
   "name": "python",
   "nbconvert_exporter": "python",
   "pygments_lexer": "ipython3",
   "version": "3.11.0"
  },
  "orig_nbformat": 4,
  "vscode": {
   "interpreter": {
    "hash": "58e17467bc3e01b78050c34a922dec05e68ca7b42c7f2ab6aaddfc2e12efd636"
   }
  }
 },
 "nbformat": 4,
 "nbformat_minor": 2
}
