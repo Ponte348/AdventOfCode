{
 "cells": [
  {
   "cell_type": "code",
   "execution_count": 46,
   "metadata": {},
   "outputs": [
    {
     "name": "stdout",
     "output_type": "stream",
     "text": [
      "Valor máximo de calorias: 69501\n",
      "202346\n"
     ]
    }
   ],
   "source": [
    "f = open('input1.txt', 'r')\n",
    "\n",
    "elfos=[]\n",
    "calorias=[]\n",
    "\n",
    "for i in f:     # para ler o ficheiro todo e guardar as calorias por elfo\n",
    "    i=i.replace(\"\\n\", \"\")\n",
    "\n",
    "    if i.isdigit():\n",
    "        calorias.append(i)\n",
    "    else:\n",
    "        elfos.append(calorias)\n",
    "        calorias=[]\n",
    "\n",
    "maxcal=0\n",
    "maxind=0\n",
    "totalcals=[]\n",
    "\n",
    "for i in range(len(elfos)): #percorrrer tudo para somar as clorias de cada um e ver quem tem mais\n",
    "    cal=0\n",
    "    for j in elfos[i]:\n",
    "        cal+=int(j)\n",
    "    totalcals.append(cal)\n",
    "    if cal>maxcal:\n",
    "        maxcal=cal\n",
    "        maxind=i\n",
    "print(\"Valor máximo de calorias:\", maxcal)\n",
    "totalcals.sort()\n",
    "print(\"Valor de calorias dos 3 elfos mais carregados:\", totalcals[-1]+totalcals[-2]+totalcals[-3]) # soma 3 últimos elementos da lista pois vão ser os maiores\n",
    "\n",
    "\n",
    "\n"
   ]
  }
 ],
 "metadata": {
  "kernelspec": {
   "display_name": "Python 3",
   "language": "python",
   "name": "python3"
  },
  "language_info": {
   "codemirror_mode": {
    "name": "ipython",
    "version": 3
   },
   "file_extension": ".py",
   "mimetype": "text/x-python",
   "name": "python",
   "nbconvert_exporter": "python",
   "pygments_lexer": "ipython3",
   "version": "3.10.6"
  },
  "orig_nbformat": 4,
  "vscode": {
   "interpreter": {
    "hash": "916dbcbb3f70747c44a77c7bcd40155683ae19c65e1c03b4aa3499c5328201f1"
   }
  }
 },
 "nbformat": 4,
 "nbformat_minor": 2
}
