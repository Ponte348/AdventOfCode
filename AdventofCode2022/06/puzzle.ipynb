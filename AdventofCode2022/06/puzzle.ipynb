{
 "cells": [
  {
   "cell_type": "markdown",
   "metadata": {},
   "source": [
    "PART 1"
   ]
  },
  {
   "cell_type": "code",
   "execution_count": null,
   "metadata": {},
   "outputs": [],
   "source": [
    "f = open('input.txt', 'r')\n",
    "marker=[]\n",
    "cont=0 # to count index\n",
    "for linha in f.read().splitlines(): # Read inputs\n",
    "    for a in linha:\n",
    "        if len(marker)<4:   # fill first time, from this point len(marker) will always be 4\n",
    "            marker.append(a)\n",
    "            cont+=1\n",
    "        else:\n",
    "            if len(marker)==len(set(marker)):   # sets can only have unique elements, if its len is\n",
    "                break                           # equal to marker len then all marker elements are unique\n",
    "            else:\n",
    "                cont+=1 #to keep track of marker index\n",
    "                marker.pop(0)          # remove first char\n",
    "                marker.append(a)       # add last one\n",
    "print(cont)\n",
    "f.close()"
   ]
  },
  {
   "cell_type": "markdown",
   "metadata": {},
   "source": [
    "PART 2"
   ]
  },
  {
   "cell_type": "code",
   "execution_count": null,
   "metadata": {},
   "outputs": [],
   "source": [
    "f = open('input.txt', 'r')\n",
    "marker=[]\n",
    "cont=0 # to count index\n",
    "for linha in f.read().splitlines(): # Read inputs\n",
    "    for a in linha:\n",
    "        if len(marker)<14:   # fill first inputs, this time we want to check for 14 different chars\n",
    "            marker.append(a)\n",
    "            cont+=1\n",
    "        else:\n",
    "            if len(marker)==len(set(marker)):   # sets can only have unique elements, if its len is\n",
    "                break                           # equal to marker len then all marker elements are unique\n",
    "            else:\n",
    "                cont+=1 # keep track of amrker index\n",
    "                marker.pop(0)       # remove first char\n",
    "                marker.append(a)    # add last one\n",
    "print(cont)\n",
    "f.close()"
   ]
  }
 ],
 "metadata": {
  "kernelspec": {
   "display_name": "Python 3.11.0 64-bit",
   "language": "python",
   "name": "python3"
  },
  "language_info": {
   "codemirror_mode": {
    "name": "ipython",
    "version": 3
   },
   "file_extension": ".py",
   "mimetype": "text/x-python",
   "name": "python",
   "nbconvert_exporter": "python",
   "pygments_lexer": "ipython3",
   "version": "3.11.0"
  },
  "orig_nbformat": 4,
  "vscode": {
   "interpreter": {
    "hash": "b93d7f58fa87cccc1c54a1bb58fde30533742810013d86233f92d0fba50587f2"
   }
  }
 },
 "nbformat": 4,
 "nbformat_minor": 2
}
