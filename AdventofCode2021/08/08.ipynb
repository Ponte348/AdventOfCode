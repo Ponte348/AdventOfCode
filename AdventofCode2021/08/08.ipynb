{
 "cells": [
  {
   "cell_type": "markdown",
   "metadata": {},
   "source": [
    "# Day 8"
   ]
  },
  {
   "cell_type": "code",
   "execution_count": 2,
   "metadata": {},
   "outputs": [],
   "source": [
    "import time"
   ]
  },
  {
   "cell_type": "markdown",
   "metadata": {},
   "source": [
    "## Part 1"
   ]
  },
  {
   "cell_type": "code",
   "execution_count": 3,
   "metadata": {},
   "outputs": [
    {
     "name": "stdout",
     "output_type": "stream",
     "text": [
      "476\n"
     ]
    }
   ],
   "source": [
    "with open('input.txt', 'r') as f:\n",
    "    data = f.read().split('\\n')\n",
    "    \n",
    "digits = {1:0, 4:0, 7:0, 8:0}\n",
    "for i in range(len(data)):\n",
    "    # get rid of everything before the ' | '  character\n",
    "    possibles = data[i].split(' ')[11:]\n",
    "\n",
    "    for j in range(len(possibles)):\n",
    "        if len(possibles[j]) == 2:\n",
    "            digits[1] += 1\n",
    "        elif len(possibles[j]) == 4:\n",
    "            digits[4] += 1\n",
    "        elif len(possibles[j]) == 3:\n",
    "            digits[7] += 1\n",
    "        elif len(possibles[j]) == 7:\n",
    "            digits[8] += 1\n",
    "    \n",
    "print(sum(digits.values()))"
   ]
  },
  {
   "cell_type": "markdown",
   "metadata": {},
   "source": [
    "## Part 2"
   ]
  },
  {
   "cell_type": "markdown",
   "metadata": {},
   "source": [
    "We need to figure out where goes each segment and also what segments represent each number, then we can decode the final values."
   ]
  },
  {
   "cell_type": "code",
   "execution_count": 4,
   "metadata": {},
   "outputs": [
    {
     "name": "stdout",
     "output_type": "stream",
     "text": [
      "The decoded sum of values is: 1011823\n",
      "Time: 9.505 ms\n"
     ]
    }
   ],
   "source": [
    "with open('input.txt', 'r') as f:\n",
    "    valores = f.read().split('\\n')\n",
    "start=time.perf_counter_ns()\n",
    "\n",
    "# gets ['dbc', 'gfecab', 'afcdg', 'dfebcag', 'bd', 'dgbe', 'bcaeg', 'dcefab', 'ecgadb', 'agcbd', '|', 'acdgb', 'gbcda', 'gdecfba', 'bacge'] as input\n",
    "def get_combination(data):\n",
    "    digits = {0:'', 1:'', 2:'', 3:'', 4:'', 5:'', 6:'', 7:'', 8:'', 9:''}\n",
    "    segments = {'top': '', 'top_left': '', 'top_right': '', 'middle': '', 'bottom_left': '', 'bottom_right': '', 'bottom': '', 'middle_segs': '', 'left_segs': '', 'right_segs': ''}\n",
    "    \n",
    "    # First we get the easy digits\n",
    "    for j in range(len(data)):\n",
    "        if len(data[j]) == 2 and digits[1] == '':\n",
    "            digits[1] += data[j]\n",
    "        elif len(data[j]) == 4 and digits[4] == '':\n",
    "            digits[4] += data[j]\n",
    "        elif len(data[j]) == 3 and digits[7] == '':\n",
    "            digits[7] += data[j]\n",
    "        elif len(data[j]) == 7 and digits[8] == '':\n",
    "            digits[8] += data[j]\n",
    "            \n",
    "    # We can get the top segment because it's the segment in 7 that are not in 1\n",
    "    segments['top'] = ''.join([x for x in digits[7] if x not in digits[1]])\n",
    "    \n",
    "    # we can get the digit 3 letters because it's the 5 letter word that has all letter from digit 1\n",
    "    for j in range(len(data)):\n",
    "        if len(data[j]) == 5 and all(x in data[j] for x in digits[1]):\n",
    "            digits[3] += data[j]\n",
    "            break\n",
    "    \n",
    "    # top, middle and bottom segments, segd in 3 that are not in 1\n",
    "    segments['middle_segs'] = [x for x in digits[3] if x not in digits[1]]\n",
    "    # left segments segs in 8 that are not in 3\n",
    "    segments['left_segs'] = [x for x in digits[8] if x not in digits[3]]\n",
    "    # right segments segs in 1\n",
    "    segments['right_segs'] = [x for x in digits[1]]\n",
    "    \n",
    "    # middle segment is taking segs in 3 that are not in 7 and cheking which of those two are in 4\n",
    "    segments['middle'] = [x for x in digits[3] if x not in digits[7] and x in digits[4]][0]\n",
    "    \n",
    "    # 0 is the segments in 8 without the middle segment\n",
    "    digits[0] = ''.join([x for x in digits[8] if x != segments['middle']])\n",
    "\n",
    "    # 9 is the one with 6 segments that doesn't have both left_segs\n",
    "    for j in range(len(data)):\n",
    "        if len(data[j]) == 6 and any(x not in data[j] for x in segments['left_segs']):\n",
    "            digits[9] += data[j]\n",
    "            break\n",
    "        \n",
    "    # bottom_left is the segment that is is 8 but not in 9\n",
    "    segments['bottom_left'] = [x for x in digits[8] if x not in digits[9]][0]\n",
    "    # top_left is the segment in left_segs that is not bottom_left\n",
    "    segments['top_left'] = [x for x in segments['left_segs'] if x != segments['bottom_left']][0]\n",
    "    \n",
    "    # bottom is the segments in 3, but without the middle, top and right_segs\n",
    "    segments['bottom'] = ''.join([x for x in digits[3] if x not in segments['middle'] and x not in segments['top'] and x not in segments['right_segs']])\n",
    "    \n",
    "    # top_right is taking the digits with 5 letters from data and checking which of those two have a letter right_segs in common, that is the top_right\n",
    "    for j in range(len(data)):\n",
    "        five_digits = set([''.join(sorted(x)) for x in data if len(x) == 5])\n",
    "    five_digits = list(five_digits)\n",
    "    # now we can check which of the three elements has bottom_left and that's digit 2\n",
    "    for j in range(len(five_digits)):\n",
    "        if segments['bottom_left'] in five_digits[j]:\n",
    "            digits[2] = five_digits[j]\n",
    "            break\n",
    "    # now we can check which of the three elements has top_left and that's digit 5\n",
    "    for j in range(len(five_digits)):\n",
    "        if segments['top_left'] in five_digits[j]:\n",
    "            digits[5] = five_digits[j]\n",
    "            break\n",
    "    \n",
    "    # we can find bottom_left segment by looking at digit 5 and removing middle_segs and top_left\n",
    "    segments['bottom_right'] = [x for x in digits[5] if x not in segments['middle_segs'] and x != segments['top_left']][0]\n",
    "    segments['top_right'] = [x for x in segments['right_segs'] if x != segments['bottom_right']][0]\n",
    "    \n",
    "    # digit 6 is digit 8 without the top right segment\n",
    "    digits[6] = ''.join([x for x in digits[8] if x != segments['top_right']])\n",
    "    \n",
    "    \n",
    "    # and we can finnally decode our values after the '|'\n",
    "    numbers = data[data.index('|')+1:]\n",
    "    \n",
    "    # sort every string in the digits to make this easier\n",
    "    for key in digits:\n",
    "        digits[key] = ''.join(sorted(digits[key]))\n",
    "\n",
    "    decoded = ''\n",
    "    for number in numbers:\n",
    "        for key in digits:\n",
    "            if ''.join(sorted(number)) == digits[key]:\n",
    "                decoded += str(key)\n",
    "                break\n",
    "        \n",
    "    #print(\"Digits:\")\n",
    "    #for key in digits:\n",
    "    #    print(key, digits[key])\n",
    "    #print(\"\\nSegments:\")\n",
    "    #print(segments)\n",
    "    #\n",
    "    #print(\"\\nDecoded:\", decoded)\n",
    "    #\n",
    "    #print(\"\\n\\n\")\n",
    "    return int(decoded)\n",
    "        \n",
    "\n",
    "total=0\n",
    "for i in range(len(valores)):\n",
    "    possibles = valores[i].split(' ')\n",
    "    #print(possibles)\n",
    "    total+=get_combination(possibles)\n",
    "print(\"The decoded sum of values is:\", total)\n",
    "print(\"Time:\", round((time.perf_counter_ns()-start)/10**6, 3), \"ms\")"
   ]
  }
 ],
 "metadata": {
  "kernelspec": {
   "display_name": "advenv",
   "language": "python",
   "name": "python3"
  },
  "language_info": {
   "codemirror_mode": {
    "name": "ipython",
    "version": 3
   },
   "file_extension": ".py",
   "mimetype": "text/x-python",
   "name": "python",
   "nbconvert_exporter": "python",
   "pygments_lexer": "ipython3",
   "version": "3.11.7"
  }
 },
 "nbformat": 4,
 "nbformat_minor": 2
}
