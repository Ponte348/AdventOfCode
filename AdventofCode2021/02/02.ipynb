{
 "cells": [
  {
   "cell_type": "markdown",
   "metadata": {},
   "source": [
    "# Day 2"
   ]
  },
  {
   "cell_type": "markdown",
   "metadata": {},
   "source": [
    "## Part 1"
   ]
  },
  {
   "cell_type": "code",
   "execution_count": 15,
   "metadata": {},
   "outputs": [
    {
     "name": "stdout",
     "output_type": "stream",
     "text": [
      "2070300\n"
     ]
    }
   ],
   "source": [
    "# open input file\n",
    "with open('input.txt', 'r') as f:\n",
    "    lines = f.readlines()\n",
    "\n",
    "    hor, depth = 0, 0\n",
    "    for line in lines:\n",
    "        line = line.strip().split(' ')\n",
    "        line = [line[0], int(line[1])]\n",
    "        if line[0] == 'forward':\n",
    "            hor += line[1]\n",
    "        else:\n",
    "            if line[0] == 'down':\n",
    "                depth += line[1]\n",
    "            else:\n",
    "                depth -= line[1]\n",
    "    \n",
    "    print(hor*depth)"
   ]
  },
  {
   "cell_type": "markdown",
   "metadata": {},
   "source": [
    "## Part 2"
   ]
  },
  {
   "cell_type": "code",
   "execution_count": 17,
   "metadata": {},
   "outputs": [
    {
     "name": "stdout",
     "output_type": "stream",
     "text": [
      "2078985210\n"
     ]
    }
   ],
   "source": [
    "# open input file\n",
    "with open('input.txt', 'r') as f:\n",
    "    lines = f.readlines()\n",
    "\n",
    "    hor, depth, aim = 0, 0, 0\n",
    "    for line in lines:\n",
    "        line = line.strip().split(' ')\n",
    "        line = [line[0], int(line[1])]\n",
    "        if line[0] == 'forward':\n",
    "            hor += line[1]\n",
    "            depth += line[1]*aim\n",
    "        else:\n",
    "            if line[0] == 'down':\n",
    "                aim += line[1]\n",
    "            else:\n",
    "                aim -= line[1]\n",
    "    \n",
    "    print(hor*depth)"
   ]
  }
 ],
 "metadata": {
  "kernelspec": {
   "display_name": "advenv",
   "language": "python",
   "name": "python3"
  },
  "language_info": {
   "codemirror_mode": {
    "name": "ipython",
    "version": 3
   },
   "file_extension": ".py",
   "mimetype": "text/x-python",
   "name": "python",
   "nbconvert_exporter": "python",
   "pygments_lexer": "ipython3",
   "version": "3.11.6"
  }
 },
 "nbformat": 4,
 "nbformat_minor": 2
}
