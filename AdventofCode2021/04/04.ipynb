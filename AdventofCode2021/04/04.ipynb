{
 "cells": [
  {
   "cell_type": "code",
   "execution_count": 22,
   "metadata": {},
   "outputs": [
    {
     "name": "stdout",
     "output_type": "stream",
     "text": [
      "The last completed board is 22 at draw 6\n",
      "['X', 60, 'X', 47, 63]\n",
      "['X', 90, 'X', 'X', 'X']\n",
      "[73, 'X', 'X', 'X', 'X']\n",
      "['X', 'X', 'X', 'X', 35]\n",
      "[71, 'X', 'X', 'X', 'X']\n",
      "The sum of all numbers that are not Xs is 439\n",
      "The final score is 2634\n"
     ]
    }
   ],
   "source": [
    "with open('input.txt', 'r' ) as f:\n",
    "    data = f.read().split('\\n')\n",
    "    # numbers drawn\n",
    "    draws = data[0].split(',')\n",
    "    \n",
    "    # now remove data[0] and data[1] because they're headers\n",
    "    data.pop(0)\n",
    "    data.pop(0)\n",
    "    \n",
    "    # now we save all boards in a list, ',' separates rows, '\\n' separates boards\n",
    "    rows = []\n",
    "    for board in data:\n",
    "        rows.append(board.split(','))\n",
    "    \n",
    "    # now boards is a list of lists, each list is a row of a board and an empty list separates boards\n",
    "    # separate each board to a dictionary, the key should be a number (starting from 1) and the value should be a list of lists\n",
    "    boards_dict = {}\n",
    "    board_num = 1\n",
    "    board = []\n",
    "    for row in rows:\n",
    "        if row != ['']:  # if the row is not empty\n",
    "            board.append(list(map(int, row[0].split())))\n",
    "        else:  # if the row is empty, it means we have reached the end of a board\n",
    "            boards_dict[board_num] = board\n",
    "            board_num += 1\n",
    "            board = []  # start a new board\n",
    "    if board:  # add the last board if it's not empty\n",
    "        boards_dict[board_num] = board\n",
    "    \n",
    "    completed_boards = set()\n",
    "    last_completed = 0\n",
    "    d = 0\n",
    "    # let's start our game\n",
    "    for n in draws:\n",
    "        for board_num, board in boards_dict.items():\n",
    "            if board_num in completed_boards:\n",
    "                continue  # skip the board if it's already completed\n",
    "            for row in board:\n",
    "                if int(n) in row:\n",
    "                    row[row.index(int(n))] = 'X'\n",
    "            # if after a draw any board has a row with all Xs, or a column with all Xs, we have a winner, print the sum of all numbers that are not Xs and multiply is by the draw and stop the program\n",
    "            for row in board:\n",
    "                if row.count('X') == 5:\n",
    "                    completed_boards.add(board_num)\n",
    "                    last_completed = board_num\n",
    "                    d = int(n)\n",
    "            for i in range(5):\n",
    "                if [row[i] for row in board].count('X') == 5:\n",
    "                    completed_boards.add(board_num)\n",
    "                    last_completed = board_num\n",
    "                    d = int(n)\n",
    "\n",
    "    print(f\"The last completed board is {last_completed} at draw {d}\")\n",
    "\n",
    "    # now go to last completed board, sum all numbers that are not Xs and multiply it by the last draw\n",
    "    board = boards_dict[last_completed]\n",
    "    s = 0\n",
    "    for row in board:\n",
    "        print(row)\n",
    "        for n in row:\n",
    "            if n != 'X':\n",
    "                s += n\n",
    "    print(f\"The sum of all numbers that are not Xs is {s}\")\n",
    "    print(f\"The final score is {s*d}\")"
   ]
  }
 ],
 "metadata": {
  "kernelspec": {
   "display_name": "advenv",
   "language": "python",
   "name": "python3"
  },
  "language_info": {
   "codemirror_mode": {
    "name": "ipython",
    "version": 3
   },
   "file_extension": ".py",
   "mimetype": "text/x-python",
   "name": "python",
   "nbconvert_exporter": "python",
   "pygments_lexer": "ipython3",
   "version": "3.11.6"
  }
 },
 "nbformat": 4,
 "nbformat_minor": 2
}
