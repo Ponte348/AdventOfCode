{
 "cells": [
  {
   "cell_type": "markdown",
   "metadata": {},
   "source": [
    "forgot to save the part1 ehehehehehehehehhehehehhehehehehehhhe"
   ]
  },
  {
   "cell_type": "code",
   "execution_count": 2,
   "metadata": {},
   "outputs": [
    {
     "name": "stdout",
     "output_type": "stream",
     "text": [
      "The number 465 achieves the minimum sum of absolute differences, which is 97164301.\n"
     ]
    }
   ],
   "source": [
    "import math\n",
    "\n",
    "with open('input.txt', 'r') as f:\n",
    "    input_data = f.read().splitlines()[0].split(',')\n",
    "    input_data = [int(i) for i in input_data]\n",
    "    maxnum = max(input_data)\n",
    "    min_diff = math.inf\n",
    "    min_i = 0\n",
    "    for i in range(0, maxnum+1):\n",
    "        sum_diff = 0\n",
    "        for n in input_data:\n",
    "            diff = abs(i - n)\n",
    "            sum_diff += sum(range(1, diff+1))\n",
    "        if sum_diff < min_diff:\n",
    "            min_diff = sum_diff\n",
    "            min_i = i\n",
    "\n",
    "    print(f\"The number {min_i} achieves the minimum sum of absolute differences, which is {min_diff}.\")"
   ]
  },
  {
   "cell_type": "markdown",
   "metadata": {},
   "source": [
    "Somatório de 1 até n = n(n+1) / 2"
   ]
  }
 ],
 "metadata": {
  "kernelspec": {
   "display_name": "advenv",
   "language": "python",
   "name": "python3"
  },
  "language_info": {
   "codemirror_mode": {
    "name": "ipython",
    "version": 3
   },
   "file_extension": ".py",
   "mimetype": "text/x-python",
   "name": "python",
   "nbconvert_exporter": "python",
   "pygments_lexer": "ipython3",
   "version": "3.11.7"
  }
 },
 "nbformat": 4,
 "nbformat_minor": 2
}
