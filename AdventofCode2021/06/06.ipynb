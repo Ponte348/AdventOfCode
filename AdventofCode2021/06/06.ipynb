{
 "cells": [
  {
   "cell_type": "code",
   "execution_count": 35,
   "metadata": {},
   "outputs": [
    {
     "name": "stdout",
     "output_type": "stream",
     "text": [
      "366057\n"
     ]
    }
   ],
   "source": [
    "with open('input.txt', 'r') as f:\n",
    "    peixes = [int(p) for p in f.read().splitlines()[0].split(',')]\n",
    "\n",
    "    for i in range(80):\n",
    "        for p in range(len(peixes)):\n",
    "            peixes[p] -= 1\n",
    "            if peixes[p] == -1:\n",
    "                peixes.append(6)\n",
    "                peixes.append(8)\n",
    "    peixes = [p for p in peixes if p >= 0]\n",
    "    print(len(peixes))"
   ]
  },
  {
   "cell_type": "code",
   "execution_count": null,
   "metadata": {},
   "outputs": [],
   "source": [
    "with open('input.txt', 'r') as f:\n",
    "    peixes = [int(p) for p in f.read().splitlines()[0].split(',')]\n",
    "    \n",
    "\n",
    "    for i in range(80):\n",
    "        for p in range(len(peixes)):\n",
    "            peixes[p] -= 1\n",
    "            if peixes[p] == -1:\n",
    "                peixes.append(6)\n",
    "                peixes.append(8)\n",
    "    peixes = [p for p in peixes if p >= 0]\n",
    "    print(len(peixes))"
   ]
  }
 ],
 "metadata": {
  "kernelspec": {
   "display_name": "advenv",
   "language": "python",
   "name": "python3"
  },
  "language_info": {
   "codemirror_mode": {
    "name": "ipython",
    "version": 3
   },
   "file_extension": ".py",
   "mimetype": "text/x-python",
   "name": "python",
   "nbconvert_exporter": "python",
   "pygments_lexer": "ipython3",
   "version": "3.11.6"
  }
 },
 "nbformat": 4,
 "nbformat_minor": 2
}
