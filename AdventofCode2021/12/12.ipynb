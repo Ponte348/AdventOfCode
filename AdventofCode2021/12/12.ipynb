{
 "cells": [
  {
   "cell_type": "code",
   "execution_count": 37,
   "metadata": {},
   "outputs": [],
   "source": [
    "import time\n",
    "import networkx as nx\n",
    "with open(\"input.txt\") as f:\n",
    "    lines = [l.strip() for l in f.readlines()]"
   ]
  },
  {
   "cell_type": "markdown",
   "metadata": {},
   "source": [
    "## Part 1"
   ]
  },
  {
   "cell_type": "code",
   "execution_count": 40,
   "metadata": {},
   "outputs": [
    {
     "name": "stdout",
     "output_type": "stream",
     "text": [
      "There are 4659 paths.\n",
      "Time taken: 3.609 ms\n"
     ]
    }
   ],
   "source": [
    "start = time.perf_counter_ns()\n",
    "\n",
    "caverns = nx.Graph()\n",
    "\n",
    "for line in lines:\n",
    "    parts = line.split(\"-\")\n",
    "    # This creates an edge between the two nodes, if they don't exist they are created\n",
    "    caverns.add_edge(parts[0], parts[1])\n",
    "\n",
    "def count_paths(graph, start, end, visited):\n",
    "    if start == end:\n",
    "        return 1\n",
    "    \n",
    "    if start.islower():\n",
    "        visited.add(start)\n",
    "    count = 0\n",
    "    for neighbor in graph.neighbors(start):\n",
    "        if neighbor not in visited:\n",
    "            count += count_paths(graph, neighbor, end, visited)\n",
    "    if start.islower():\n",
    "        visited.remove(start)\n",
    "    return count\n",
    "\n",
    "print(\"There are\", count_paths(caverns, \"start\", \"end\", set()), \"paths.\")\n",
    "\n",
    "print(\"Time taken:\", round((time.perf_counter_ns()-start)/10**6, 3), \"ms\")"
   ]
  },
  {
   "cell_type": "markdown",
   "metadata": {},
   "source": [
    "## Part 2"
   ]
  },
  {
   "cell_type": "code",
   "execution_count": 42,
   "metadata": {},
   "outputs": [
    {
     "ename": "TypeError",
     "evalue": "count_paths() missing 1 required positional argument: 'twice'",
     "output_type": "error",
     "traceback": [
      "\u001b[0;31m---------------------------------------------------------------------------\u001b[0m",
      "\u001b[0;31mTypeError\u001b[0m                                 Traceback (most recent call last)",
      "Cell \u001b[0;32mIn[42], line 25\u001b[0m\n\u001b[1;32m     23\u001b[0m \u001b[38;5;28;01mfor\u001b[39;00m node \u001b[38;5;129;01min\u001b[39;00m caverns\u001b[38;5;241m.\u001b[39mnodes:\n\u001b[1;32m     24\u001b[0m     \u001b[38;5;28;01mif\u001b[39;00m node\u001b[38;5;241m.\u001b[39mislower():\n\u001b[0;32m---> 25\u001b[0m         paths \u001b[38;5;241m=\u001b[39m \u001b[43mcount_paths\u001b[49m\u001b[43m(\u001b[49m\u001b[43mcaverns\u001b[49m\u001b[43m,\u001b[49m\u001b[43m \u001b[49m\u001b[38;5;124;43m\"\u001b[39;49m\u001b[38;5;124;43mstart\u001b[39;49m\u001b[38;5;124;43m\"\u001b[39;49m\u001b[43m,\u001b[49m\u001b[43m \u001b[49m\u001b[43mnode\u001b[49m\u001b[43m,\u001b[49m\u001b[43m \u001b[49m\u001b[38;5;28;43mset\u001b[39;49m\u001b[43m(\u001b[49m\u001b[43m)\u001b[49m\u001b[43m,\u001b[49m\u001b[43m \u001b[49m\u001b[43mnode\u001b[49m\u001b[43m)\u001b[49m\n\u001b[1;32m     27\u001b[0m \u001b[38;5;28mprint\u001b[39m(\u001b[38;5;124m\"\u001b[39m\u001b[38;5;124mThere are\u001b[39m\u001b[38;5;124m\"\u001b[39m, paths, \u001b[38;5;124m\"\u001b[39m\u001b[38;5;124mpaths.\u001b[39m\u001b[38;5;124m\"\u001b[39m)\n\u001b[1;32m     29\u001b[0m \u001b[38;5;28mprint\u001b[39m(\u001b[38;5;124m\"\u001b[39m\u001b[38;5;124mTime taken:\u001b[39m\u001b[38;5;124m\"\u001b[39m, \u001b[38;5;28mround\u001b[39m((time\u001b[38;5;241m.\u001b[39mperf_counter_ns()\u001b[38;5;241m-\u001b[39mstart)\u001b[38;5;241m/\u001b[39m\u001b[38;5;241m10\u001b[39m\u001b[38;5;241m*\u001b[39m\u001b[38;5;241m*\u001b[39m\u001b[38;5;241m6\u001b[39m, \u001b[38;5;241m3\u001b[39m), \u001b[38;5;124m\"\u001b[39m\u001b[38;5;124mms\u001b[39m\u001b[38;5;124m\"\u001b[39m)\n",
      "Cell \u001b[0;32mIn[42], line 18\u001b[0m, in \u001b[0;36mcount_paths\u001b[0;34m(graph, start, end, visited, twice, twice_visited)\u001b[0m\n\u001b[1;32m     16\u001b[0m \u001b[38;5;28;01mfor\u001b[39;00m neighbor \u001b[38;5;129;01min\u001b[39;00m graph\u001b[38;5;241m.\u001b[39mneighbors(start):\n\u001b[1;32m     17\u001b[0m     \u001b[38;5;28;01mif\u001b[39;00m neighbor \u001b[38;5;129;01mnot\u001b[39;00m \u001b[38;5;129;01min\u001b[39;00m visited:\n\u001b[0;32m---> 18\u001b[0m         count \u001b[38;5;241m+\u001b[39m\u001b[38;5;241m=\u001b[39m \u001b[43mcount_paths\u001b[49m\u001b[43m(\u001b[49m\u001b[43mgraph\u001b[49m\u001b[43m,\u001b[49m\u001b[43m \u001b[49m\u001b[43mneighbor\u001b[49m\u001b[43m,\u001b[49m\u001b[43m \u001b[49m\u001b[43mend\u001b[49m\u001b[43m,\u001b[49m\u001b[43m \u001b[49m\u001b[43mvisited\u001b[49m\u001b[43m)\u001b[49m\n\u001b[1;32m     19\u001b[0m \u001b[38;5;28;01mif\u001b[39;00m start\u001b[38;5;241m.\u001b[39mislower():\n\u001b[1;32m     20\u001b[0m     visited\u001b[38;5;241m.\u001b[39mremove(start)\n",
      "\u001b[0;31mTypeError\u001b[0m: count_paths() missing 1 required positional argument: 'twice'"
     ]
    }
   ],
   "source": [
    "start = time.perf_counter_ns()\n",
    "\n",
    "# now, one specific small cave can be visited twice\n",
    "\n",
    "def count_paths(graph, start, end, visited, twice, twice_visited=False):\n",
    "    if start == end:\n",
    "        return 1\n",
    "    \n",
    "    if start.islower() and start != twice:\n",
    "        visited.add(start)\n",
    "    elif start == twice and not twice_visited:\n",
    "        visited.add(start)\n",
    "        twice_visited = True\n",
    "\n",
    "    count = 0\n",
    "    for neighbor in graph.neighbors(start):\n",
    "        if neighbor not in visited:\n",
    "            count += count_paths(graph, neighbor, end, visited, twice, twice_visited)\n",
    "    if start.islower():\n",
    "        visited.remove(start)\n",
    "    return count\n",
    "\n",
    "for node in caverns.nodes:\n",
    "    if node.islower():\n",
    "        paths = count_paths(caverns, \"start\", node, set(), node)\n",
    "\n",
    "print(\"There are\", paths, \"paths.\")\n",
    "\n",
    "print(\"Time taken:\", round((time.perf_counter_ns()-start)/10**6, 3), \"ms\")"
   ]
  }
 ],
 "metadata": {
  "kernelspec": {
   "display_name": "advenv",
   "language": "python",
   "name": "advenv"
  },
  "language_info": {
   "codemirror_mode": {
    "name": "ipython",
    "version": 3
   },
   "file_extension": ".py",
   "mimetype": "text/x-python",
   "name": "python",
   "nbconvert_exporter": "python",
   "pygments_lexer": "ipython3",
   "version": "3.11.7"
  }
 },
 "nbformat": 4,
 "nbformat_minor": 2
}
