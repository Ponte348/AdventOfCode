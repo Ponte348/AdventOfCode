{
 "cells": [
  {
   "cell_type": "code",
   "execution_count": 92,
   "metadata": {},
   "outputs": [],
   "source": [
    "import time\n",
    "import networkx as nx\n",
    "with open(\"input.txt\") as f:\n",
    "    lines = [l.strip() for l in f.readlines()]"
   ]
  },
  {
   "cell_type": "markdown",
   "metadata": {},
   "source": [
    "## Part 1"
   ]
  },
  {
   "cell_type": "code",
   "execution_count": 93,
   "metadata": {},
   "outputs": [
    {
     "name": "stdout",
     "output_type": "stream",
     "text": [
      "There are 4659 paths.\n",
      "Time taken: 3.564 ms\n"
     ]
    }
   ],
   "source": [
    "start = time.perf_counter_ns()\n",
    "\n",
    "caverns = nx.Graph()\n",
    "\n",
    "for line in lines:\n",
    "    parts = line.split(\"-\")\n",
    "    # This creates an edge between the two nodes, if they don't exist they are created\n",
    "    caverns.add_edge(parts[0], parts[1])\n",
    "\n",
    "def count_paths(start, end, visited):\n",
    "    if start == end:\n",
    "        return 1\n",
    "    \n",
    "    if start.islower():\n",
    "        visited.add(start)\n",
    "    count = 0\n",
    "    for neighbor in caverns.neighbors(start):\n",
    "        if neighbor not in visited:\n",
    "            count += count_paths(neighbor, end, visited)\n",
    "    if start.islower():\n",
    "        visited.remove(start)\n",
    "    return count\n",
    "\n",
    "print(\"There are\", count_paths(\"start\", \"end\", set()), \"paths.\")\n",
    "print(\"Time taken:\", round((time.perf_counter_ns()-start)/10**6, 3), \"ms\")"
   ]
  },
  {
   "cell_type": "markdown",
   "metadata": {},
   "source": [
    "## Part 2"
   ]
  },
  {
   "cell_type": "code",
   "execution_count": 94,
   "metadata": {},
   "outputs": [
    {
     "name": "stdout",
     "output_type": "stream",
     "text": [
      "There are 190698 paths.\n",
      "Time taken: 251.391 ms\n"
     ]
    }
   ],
   "source": [
    "start = time.perf_counter_ns()\n",
    "\n",
    "# now, one specific small cave can be visited twice\n",
    "small_caves = [a for a in caverns.nodes if a.islower() and a != \"start\" and a != \"end\"]\n",
    "\n",
    "def count_paths(graph, start, end, visited, twice_cave, twice):\n",
    "    if twice > 2:\n",
    "        return 0\n",
    "    if start == end:\n",
    "        return 1\n",
    "    \n",
    "    twice = twice + 1 if start == twice_cave else twice\n",
    "    if start.islower() and start != twice_cave: visited.add(start)\n",
    "    \n",
    "    count = 0\n",
    "    for neighbor in graph.neighbors(start):\n",
    "        if neighbor not in visited:\n",
    "            count += count_paths(graph, neighbor, end, visited, twice_cave, twice)\n",
    "    if start.islower() and start != twice_cave:\n",
    "        visited.remove(start)\n",
    "    if start == twice_cave:\n",
    "        twice -= 1\n",
    "    return count\n",
    "\n",
    "paths = 0\n",
    "for cave in small_caves:\n",
    "    paths += count_paths(caverns, \"start\", \"end\", set(), cave, 0)\n",
    "\n",
    "print(\"There are\", paths, \"paths.\")\n",
    "print(\"Time taken:\", round((time.perf_counter_ns()-start)/10**6, 3), \"ms\")"
   ]
  }
 ],
 "metadata": {
  "kernelspec": {
   "display_name": "advenv",
   "language": "python",
   "name": "advenv"
  },
  "language_info": {
   "codemirror_mode": {
    "name": "ipython",
    "version": 3
   },
   "file_extension": ".py",
   "mimetype": "text/x-python",
   "name": "python",
   "nbconvert_exporter": "python",
   "pygments_lexer": "ipython3",
   "version": "3.11.7"
  }
 },
 "nbformat": 4,
 "nbformat_minor": 2
}
