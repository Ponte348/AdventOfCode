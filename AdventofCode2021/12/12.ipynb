{
 "cells": [
  {
   "cell_type": "code",
   "execution_count": 37,
   "metadata": {},
   "outputs": [],
   "source": [
    "import time\n",
    "import networkx as nx\n",
    "with open(\"input.txt\") as f:\n",
    "    lines = [l.strip() for l in f.readlines()]"
   ]
  },
  {
   "cell_type": "markdown",
   "metadata": {},
   "source": [
    "## Part 1"
   ]
  },
  {
   "cell_type": "code",
   "execution_count": 38,
   "metadata": {},
   "outputs": [
    {
     "name": "stdout",
     "output_type": "stream",
     "text": [
      "4659\n",
      "Time taken: 3.062 ms\n"
     ]
    }
   ],
   "source": [
    "start = time.perf_counter_ns()\n",
    "\n",
    "caverns = nx.Graph()\n",
    "\n",
    "for line in lines:\n",
    "    parts = line.split(\"-\")\n",
    "    # This creates an edge between the two nodes, if they don't exist they are created\n",
    "    caverns.add_edge(parts[0], parts[1])\n",
    "\n",
    "def count_paths(graph, start, end, visited):\n",
    "    if start == end:\n",
    "        return 1\n",
    "    # if start is a small cave add it to the visited set\n",
    "    if start.islower():\n",
    "        visited.add(start)\n",
    "    count = 0\n",
    "    for neighbor in graph.neighbors(start):\n",
    "        if neighbor not in visited:\n",
    "            count += count_paths(graph, neighbor, end, visited)\n",
    "    if start.islower():\n",
    "        visited.remove(start)\n",
    "    return count\n",
    "\n",
    "print(count_paths(caverns, \"start\", \"end\", set()))\n",
    "\n",
    "print(\"Time taken:\", round((time.perf_counter_ns()-start)/10**6, 3), \"ms\")"
   ]
  },
  {
   "cell_type": "markdown",
   "metadata": {},
   "source": [
    "## Part 2"
   ]
  },
  {
   "cell_type": "code",
   "execution_count": 39,
   "metadata": {},
   "outputs": [
    {
     "name": "stdout",
     "output_type": "stream",
     "text": [
      "Time taken: 0.029 ms\n"
     ]
    }
   ],
   "source": [
    "start = time.perf_counter_ns()\n",
    "\n",
    "print(\"Time taken:\", round((time.perf_counter_ns()-start)/10**6, 3), \"ms\")"
   ]
  }
 ],
 "metadata": {
  "kernelspec": {
   "display_name": "advenv",
   "language": "python",
   "name": "advenv"
  },
  "language_info": {
   "codemirror_mode": {
    "name": "ipython",
    "version": 3
   },
   "file_extension": ".py",
   "mimetype": "text/x-python",
   "name": "python",
   "nbconvert_exporter": "python",
   "pygments_lexer": "ipython3",
   "version": "3.11.7"
  }
 },
 "nbformat": 4,
 "nbformat_minor": 2
}
