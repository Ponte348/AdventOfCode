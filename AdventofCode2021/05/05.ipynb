{
 "cells": [
  {
   "cell_type": "code",
   "execution_count": 12,
   "metadata": {},
   "outputs": [
    {
     "name": "stdout",
     "output_type": "stream",
     "text": [
      "7380\n"
     ]
    }
   ],
   "source": [
    "import numpy as np\n",
    "\n",
    "with open('input.txt', 'r') as f:\n",
    "    # read file and remove newline character\n",
    "    lines = [line.strip() for line in f.readlines()]\n",
    "    # lines are '35,968 -> 974,29'\n",
    "    # transform this in two list of list like start = [[35, 968], ...] and end = [[974, 29], ...]\n",
    "    start = []\n",
    "    end = []\n",
    "    biggestnumber = 0\n",
    "    for line in lines:\n",
    "        biggestnumber = max(biggestnumber, int(line.split('->')[0].split(',')[0]))\n",
    "        start.append([int(x) for x in line.split('->')[0].split(',')])\n",
    "        end.append([int(x) for x in line.split('->')[1].split(',')])\n",
    "        \n",
    "    # create a matrix of size biggestnumber x biggestnumber\n",
    "    matrix = np.zeros((biggestnumber, biggestnumber))\n",
    "    \n",
    "    for i in range(len(start)):\n",
    "        # start[i][0] is start x, start[i][1] is start y\n",
    "        # end[i][0] is end x, end[i][1] is end y\n",
    "        # add one to all positions in the matrix from start x to end x and from start y to end y, but only consider lines that have either start_x=end_x or start_y=end_y\n",
    "        if start[i][0] == end[i][0]:\n",
    "            matrix[start[i][0], min(start[i][1], end[i][1]):max(start[i][1], end[i][1])+1] += 1\n",
    "        elif start[i][1] == end[i][1]:\n",
    "            matrix[min(start[i][0], end[i][0]):max(start[i][0], end[i][0])+1, start[i][1]] += 1\n",
    "        else:\n",
    "            continue\n",
    "    \n",
    "    # count all positions that are greater than 1\n",
    "    print(np.sum(matrix > 1))\n",
    "    "
   ]
  },
  {
   "cell_type": "code",
   "execution_count": 14,
   "metadata": {},
   "outputs": [
    {
     "name": "stdout",
     "output_type": "stream",
     "text": [
      "21373\n"
     ]
    }
   ],
   "source": [
    "import numpy as np\n",
    "\n",
    "with open('input.txt', 'r') as f:\n",
    "    # read file and remove newline character\n",
    "    lines = [line.strip() for line in f.readlines()]\n",
    "    # lines are '35,968 -> 974,29'\n",
    "    # transform this in two list of list like start = [[35, 968], ...] and end = [[974, 29], ...]\n",
    "    start = []\n",
    "    end = []\n",
    "    biggestnumber = 0\n",
    "    for line in lines:\n",
    "        biggestnumber = max(biggestnumber, int(line.split('->')[0].split(',')[0]))\n",
    "        start.append([int(x) for x in line.split('->')[0].split(',')])\n",
    "        end.append([int(x) for x in line.split('->')[1].split(',')])\n",
    "        \n",
    "    # create a matrix of size biggestnumber x biggestnumber\n",
    "    matrix = np.zeros((biggestnumber, biggestnumber))\n",
    "    \n",
    "    for i in range(len(start)):\n",
    "        # start[i][0] is start x, start[i][1] is start y\n",
    "        # end[i][0] is end x, end[i][1] is end y\n",
    "        # now we need to consider diagonals as well (all of them are 45 degrees)\n",
    "        if start[i][0] == end[i][0]:\n",
    "            matrix[start[i][0], min(start[i][1], end[i][1]):max(start[i][1], end[i][1])+1] += 1\n",
    "        elif start[i][1] == end[i][1]:\n",
    "            matrix[min(start[i][0], end[i][0]):max(start[i][0], end[i][0])+1, start[i][1]] += 1\n",
    "        elif abs(start[i][0] - end[i][0]) == abs(start[i][1] - end[i][1]):\n",
    "            # this is a diagonal\n",
    "            dx = 1 if start[i][0] < end[i][0] else -1\n",
    "            dy = 1 if start[i][1] < end[i][1] else -1\n",
    "            x, y = start[i][0], start[i][1]\n",
    "            while x != end[i][0] + dx or y != end[i][1] + dy:\n",
    "                matrix[x, y] += 1\n",
    "                x += dx\n",
    "                y += dy\n",
    "            \n",
    "    # count all positions that are greater than 1\n",
    "    print(np.sum(matrix > 1))"
   ]
  }
 ],
 "metadata": {
  "kernelspec": {
   "display_name": "advenv",
   "language": "python",
   "name": "python3"
  },
  "language_info": {
   "codemirror_mode": {
    "name": "ipython",
    "version": 3
   },
   "file_extension": ".py",
   "mimetype": "text/x-python",
   "name": "python",
   "nbconvert_exporter": "python",
   "pygments_lexer": "ipython3",
   "version": "3.11.6"
  }
 },
 "nbformat": 4,
 "nbformat_minor": 2
}
