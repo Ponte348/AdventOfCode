{
 "cells": [
  {
   "cell_type": "code",
   "execution_count": 84,
   "metadata": {},
   "outputs": [],
   "source": [
    "import time\n",
    "with open(\"input.txt\") as f:\n",
    "    lines = [l.strip() for l in f.readlines()]"
   ]
  },
  {
   "cell_type": "markdown",
   "metadata": {},
   "source": [
    "## Part 1 "
   ]
  },
  {
   "cell_type": "code",
   "execution_count": 85,
   "metadata": {},
   "outputs": [
    {
     "name": "stdout",
     "output_type": "stream",
     "text": [
      "After 100 steps, the number of flashes is: 1546\n",
      "Time taken: 5.234 ms\n"
     ]
    }
   ],
   "source": [
    "start = time.perf_counter_ns()\n",
    "matrix = [[int(x) for x in l] for l in lines]\n",
    "flashes, steps = 0, 100\n",
    "\n",
    "def get_neighbors(row):\n",
    "    # returns all neighbors of a given position in the matrix, including diagonal\n",
    "    neighbors = []\n",
    "    d = [(0, 1), (1, 0), (0, -1), (-1, 0), (1, 1), (1, -1), (-1, 1), (-1, -1)]\n",
    "    for i in d:\n",
    "        if 0 <= row[0]+i[0] < len(matrix) and 0 <= row[1]+i[1] < len(matrix[0]):\n",
    "            neighbors.append((row[0]+i[0], row[1]+i[1]))\n",
    "    return neighbors\n",
    "\n",
    "def propagate(coords):\n",
    "    for coor in coords:\n",
    "        matrix[coor[0]][coor[1]] += 1\n",
    "        if matrix[coor[0]][coor[1]] >= 10 and coor not in flashed:\n",
    "            flashed.add(coor)\n",
    "            propagate(get_neighbors(coor))\n",
    "\n",
    "# Steps\n",
    "for i in range(steps):\n",
    "    flashed = set()    \n",
    "\n",
    "    for row in range(len(matrix)):\n",
    "        for value in range(len(matrix[row])):\n",
    "            matrix[row][value] +=1\n",
    "            if matrix[row][value] >= 10 and (row, value) not in flashed:\n",
    "                flashed.add((row, value))\n",
    "                propagate(get_neighbors((row, value)))\n",
    "\n",
    "    for cell in flashed:\n",
    "        flashes += 1\n",
    "        matrix[cell[0]][cell[1]] = 0\n",
    "\n",
    "print(\"After\", steps, \"steps, the number of flashes is:\", flashes)\n",
    "print(\"Time taken:\", round((time.perf_counter_ns()-start)/10**6, 3), \"ms\")"
   ]
  },
  {
   "cell_type": "markdown",
   "metadata": {},
   "source": [
    "## Part 2"
   ]
  },
  {
   "cell_type": "code",
   "execution_count": null,
   "metadata": {},
   "outputs": [],
   "source": []
  }
 ],
 "metadata": {
  "kernelspec": {
   "display_name": "advenv",
   "language": "python",
   "name": "advenv"
  },
  "language_info": {
   "codemirror_mode": {
    "name": "ipython",
    "version": 3
   },
   "file_extension": ".py",
   "mimetype": "text/x-python",
   "name": "python",
   "nbconvert_exporter": "python",
   "pygments_lexer": "ipython3",
   "version": "3.11.7"
  }
 },
 "nbformat": 4,
 "nbformat_minor": 2
}
