{
 "cells": [
  {
   "cell_type": "code",
   "execution_count": 113,
   "metadata": {},
   "outputs": [],
   "source": [
    "import time\n",
    "with open('input.txt', 'r') as f:\n",
    "    data = f.read().split('\\n')"
   ]
  },
  {
   "cell_type": "markdown",
   "metadata": {},
   "source": [
    "## Part 1"
   ]
  },
  {
   "cell_type": "code",
   "execution_count": 114,
   "metadata": {},
   "outputs": [
    {
     "name": "stdout",
     "output_type": "stream",
     "text": [
      "The total syntax error score is: 299793\n",
      "Time taken: 0.976 ms\n"
     ]
    }
   ],
   "source": [
    "start = time.perf_counter_ns()\n",
    "matching_characters, points, syntax_score = {'(': ')', '{': '}', '[': ']', '<': '>'}, 0, {')': 3, '}': 1197, ']': 57, '>': 25137}\n",
    "for chunk in data:\n",
    "    stack = []\n",
    "    for char in chunk:\n",
    "        if char in matching_characters:\n",
    "            stack.append(char)\n",
    "        elif stack and matching_characters.get(stack[-1]) == char:\n",
    "            stack.pop()\n",
    "        else:\n",
    "            points += syntax_score[char]\n",
    "            break\n",
    "            \n",
    "print(\"The total syntax error score is:\", points)\n",
    "print(\"Time taken:\", round((time.perf_counter_ns()-start)/10**6, 3), \"ms\")"
   ]
  },
  {
   "cell_type": "markdown",
   "metadata": {},
   "source": [
    "## Part 2"
   ]
  },
  {
   "cell_type": "code",
   "execution_count": 115,
   "metadata": {},
   "outputs": [
    {
     "name": "stdout",
     "output_type": "stream",
     "text": [
      "The total syntax error score is: 3654963618\n",
      "Time taken: 1.078 ms\n"
     ]
    }
   ],
   "source": [
    "start = time.perf_counter_ns()\n",
    "matching_characters = {'(': ')', '{': '}', '[': ']', '<': '>'}\n",
    "scores, syntax_score = [], {'(': 1, '{': 3, '[': 2, '<': 4}\n",
    "for chunk in data:\n",
    "    stack, points, corrupted = [], 0, 0\n",
    "    for char in chunk:\n",
    "        if char in matching_characters:\n",
    "            stack.append(char)\n",
    "        elif stack and matching_characters.get(stack[-1]) == char:\n",
    "            stack.pop()\n",
    "        else:\n",
    "            corrupted = 1\n",
    "            break\n",
    "    if corrupted:\n",
    "        continue\n",
    "\n",
    "    while len(stack) > 0:\n",
    "        points*=5\n",
    "        points+=syntax_score[stack.pop()]\n",
    "    scores.append(points)\n",
    "\n",
    "print(\"The total syntax error score is:\", sorted(scores)[len(scores)//2])\n",
    "print(\"Time taken:\", round((time.perf_counter_ns()-start)/10**6, 3), \"ms\")"
   ]
  }
 ],
 "metadata": {
  "kernelspec": {
   "display_name": "advenv",
   "language": "python",
   "name": "python3"
  },
  "language_info": {
   "codemirror_mode": {
    "name": "ipython",
    "version": 3
   },
   "file_extension": ".py",
   "mimetype": "text/x-python",
   "name": "python",
   "nbconvert_exporter": "python",
   "pygments_lexer": "ipython3",
   "version": "3.11.7"
  }
 },
 "nbformat": 4,
 "nbformat_minor": 2
}
