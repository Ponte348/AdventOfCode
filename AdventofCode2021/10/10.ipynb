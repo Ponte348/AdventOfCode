{
 "cells": [
  {
   "cell_type": "code",
   "execution_count": 7,
   "metadata": {},
   "outputs": [],
   "source": [
    "import time\n",
    "with open('input.txt', 'r') as f:\n",
    "    data = f.read().split('\\n')"
   ]
  },
  {
   "cell_type": "markdown",
   "metadata": {},
   "source": [
    "## Part 1"
   ]
  },
  {
   "cell_type": "code",
   "execution_count": 8,
   "metadata": {},
   "outputs": [
    {
     "name": "stdout",
     "output_type": "stream",
     "text": [
      "The total syntax error score is: 299793\n",
      "Tiem taken: 1.965 ms\n"
     ]
    }
   ],
   "source": [
    "start = time.perf_counter_ns()\n",
    "matching_characters = {'(': ')', '{': '}', '[': ']', '<': '>'}\n",
    "points, syntax_score = 0, {')': 3, '}': 1197, ']': 57, '>': 25137}\n",
    "for chunk in data:\n",
    "    stack = []\n",
    "    for char in chunk:\n",
    "        if char in matching_characters.keys():\n",
    "            stack.append(char)\n",
    "        elif char in matching_characters.values():\n",
    "            if len(stack) == 0:\n",
    "                points+=syntax_score[char]\n",
    "                break\n",
    "            if matching_characters[stack[-1]] == char:\n",
    "                stack.pop()\n",
    "            else:\n",
    "                points+=syntax_score[char]\n",
    "                break\n",
    "            \n",
    "print(\"The total syntax error score is:\", points)\n",
    "print(\"Tiem taken:\", round((time.perf_counter_ns()-start)/10**6, 3), \"ms\")"
   ]
  },
  {
   "cell_type": "markdown",
   "metadata": {},
   "source": [
    "## Part 2"
   ]
  },
  {
   "cell_type": "code",
   "execution_count": null,
   "metadata": {},
   "outputs": [],
   "source": [
    "start = time.perf_counter_ns()\n",
    "matching_characters = {'(': ')', '{': '}', '[': ']', '<': '>'}\n",
    "points, syntax_score = 0, {')': 1, '}': 3, ']': 2, '>': 4}\n",
    "for chunk in data:\n",
    "    stack = []\n",
    "    for char in chunk:\n",
    "        if char in matching_characters.keys():\n",
    "            stack.append(char)\n",
    "        elif char in matching_characters.values():\n",
    "            if len(stack) == 0:\n",
    "                points+=syntax_score[char]\n",
    "                break\n",
    "            if matching_characters[stack[-1]] == char:\n",
    "                stack.pop()\n",
    "            else:\n",
    "                points+=syntax_score[char]\n",
    "                break\n",
    "            \n",
    "print(\"The total syntax error score is:\", points)\n",
    "print(\"Tiem taken:\", round((time.perf_counter_ns()-start)/10**6, 3), \"ms\")"
   ]
  }
 ],
 "metadata": {
  "kernelspec": {
   "display_name": "advenv",
   "language": "python",
   "name": "python3"
  },
  "language_info": {
   "codemirror_mode": {
    "name": "ipython",
    "version": 3
   },
   "file_extension": ".py",
   "mimetype": "text/x-python",
   "name": "python",
   "nbconvert_exporter": "python",
   "pygments_lexer": "ipython3",
   "version": "3.11.7"
  }
 },
 "nbformat": 4,
 "nbformat_minor": 2
}
