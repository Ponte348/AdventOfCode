{
 "cells": [
  {
   "cell_type": "markdown",
   "metadata": {},
   "source": [
    "# Day 3"
   ]
  },
  {
   "cell_type": "markdown",
   "metadata": {},
   "source": [
    "## Part 1"
   ]
  },
  {
   "cell_type": "code",
   "execution_count": 11,
   "metadata": {},
   "outputs": [
    {
     "name": "stdout",
     "output_type": "stream",
     "text": [
      "4138664\n"
     ]
    }
   ],
   "source": [
    "with open('input.txt', 'r') as f:\n",
    "    nums = [x for x in f.read().split('\\n') if x]\n",
    "    gamma = \"\"\n",
    "    for b in range(len(nums[0])):\n",
    "        zero, ones = 0,0\n",
    "        for n in nums:\n",
    "            if n[b] == '0':\n",
    "                zero += 1\n",
    "            elif n[b] == '1':\n",
    "                ones += 1\n",
    "        gamma += '0' if zero > ones else '1'\n",
    "    \n",
    "    # epsilon is 'not gamma'\n",
    "    epsilon = ''.join(['0' if x == '1' else '1' for x in gamma])\n",
    "    # transform gamma to decimal\n",
    "    gamma = int(gamma, 2)\n",
    "    epsilon = int(epsilon, 2)\n",
    "    print(gamma*epsilon)\n",
    "    "
   ]
  },
  {
   "cell_type": "markdown",
   "metadata": {},
   "source": [
    "## Part 2"
   ]
  },
  {
   "cell_type": "code",
   "execution_count": 68,
   "metadata": {},
   "outputs": [
    {
     "name": "stdout",
     "output_type": "stream",
     "text": [
      "12\n",
      "['011111101111']\n",
      "['100000111000']\n",
      "4273224\n"
     ]
    }
   ],
   "source": [
    "with open('input.txt', 'r') as f:\n",
    "    nums = [x for x in f.read().split('\\n') if x]\n",
    "    \n",
    "    print(len(nums[0]))\n",
    "\n",
    "    oxygen = list(nums)\n",
    "    co2 = list(nums)\n",
    "\n",
    "    for i in range(1, len(nums[0]) + 1):\n",
    "        if len(oxygen) == 1 and len(co2) == 1:\n",
    "            break \n",
    "        zero_oxygen, ones_oxygen = 0, 0\n",
    "        zero_co2, ones_co2 = 0, 0\n",
    "\n",
    "        for n in oxygen:\n",
    "            if n[i-1] == '0':\n",
    "                zero_oxygen += 1\n",
    "            else:\n",
    "                ones_oxygen += 1\n",
    "\n",
    "        for n in co2:\n",
    "            if n[i-1] == '0':\n",
    "                zero_co2 += 1\n",
    "            else:\n",
    "                ones_co2 += 1\n",
    "\n",
    "        mcommon = '1' if ones_oxygen >= zero_oxygen else '0'  # most common bit for oxygen\n",
    "        lcommon = '0' if ones_co2 >= zero_co2 else '1'  # least common bit for CO2\n",
    "\n",
    "        past_oxygen = list(oxygen)\n",
    "        past_co2 = list(co2)\n",
    "\n",
    "        oxygen = [n for n in oxygen if n[i-1] == mcommon]\n",
    "        co2 = [n for n in co2 if n[i-1] == lcommon]\n",
    "\n",
    "        if len(oxygen) == 0:\n",
    "            oxygen = past_oxygen\n",
    "        if len(co2) == 0:\n",
    "            co2 = past_co2\n",
    "\n",
    "    print(oxygen)\n",
    "    print(co2)\n",
    "    \n",
    "    # take the numbers in both lists, pass them to decimal and multiply\n",
    "    print(int(oxygen[0], 2) * int(co2[0], 2))"
   ]
  }
 ],
 "metadata": {
  "kernelspec": {
   "display_name": "advenv",
   "language": "python",
   "name": "python3"
  },
  "language_info": {
   "codemirror_mode": {
    "name": "ipython",
    "version": 3
   },
   "file_extension": ".py",
   "mimetype": "text/x-python",
   "name": "python",
   "nbconvert_exporter": "python",
   "pygments_lexer": "ipython3",
   "version": "3.11.6"
  }
 },
 "nbformat": 4,
 "nbformat_minor": 2
}
