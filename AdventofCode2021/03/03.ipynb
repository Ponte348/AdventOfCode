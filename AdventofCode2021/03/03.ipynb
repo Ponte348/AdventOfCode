{
 "cells": [
  {
   "cell_type": "markdown",
   "metadata": {},
   "source": [
    "# Day 3"
   ]
  },
  {
   "cell_type": "markdown",
   "metadata": {},
   "source": [
    "## Part 1"
   ]
  },
  {
   "cell_type": "code",
   "execution_count": 11,
   "metadata": {},
   "outputs": [
    {
     "name": "stdout",
     "output_type": "stream",
     "text": [
      "4138664\n"
     ]
    }
   ],
   "source": [
    "with open('input.txt', 'r') as f:\n",
    "    nums = [x for x in f.read().split('\\n') if x]\n",
    "    gamma = \"\"\n",
    "    for b in range(len(nums[0])):\n",
    "        zero, ones = 0,0\n",
    "        for n in nums:\n",
    "            if n[b] == '0':\n",
    "                zero += 1\n",
    "            elif n[b] == '1':\n",
    "                ones += 1\n",
    "        gamma += '0' if zero > ones else '1'\n",
    "    \n",
    "    # epsilon is 'not gamma'\n",
    "    epsilon = ''.join(['0' if x == '1' else '1' for x in gamma])\n",
    "    # transform gamma to decimal\n",
    "    gamma = int(gamma, 2)\n",
    "    epsilon = int(epsilon, 2)\n",
    "    print(gamma*epsilon)\n",
    "    "
   ]
  },
  {
   "cell_type": "markdown",
   "metadata": {},
   "source": [
    "## Part 2"
   ]
  },
  {
   "cell_type": "code",
   "execution_count": 13,
   "metadata": {},
   "outputs": [
    {
     "name": "stdout",
     "output_type": "stream",
     "text": [
      "4138664\n"
     ]
    }
   ],
   "source": [
    "#with open('input.txt', 'r') as f:\n",
    "#    nums = [x for x in f.read().split('\\n') if x]\n",
    "#    oxygen = \"\"\n",
    "#    co2 = \"\"\n",
    "#    for b in range(len(nums[0])):\n",
    "#        zero, ones = 0,0\n",
    "#        for n in nums:\n",
    "#            if n[b] == '0':\n",
    "#                zero += 1\n",
    "#            elif n[b] == '1':\n",
    "#                ones += 1\n",
    "#        # whichever bit is more common represents the oxygen\n",
    "#        oxygen += '1' if ones >= zero else '0'\n",
    "#        co2 += '0' if ones >= zero else '1'\n",
    "\n",
    "with open('input.txt', 'r') as f:\n",
    "    nums = [x for x in f.read().split('\\n') if x]\n",
    "    \n",
    "    for i in range(len(nums[0])):\n",
    "        nums1 = []\n",
    "        nums2 = []\n",
    "\n",
    "# turn oxygen and co2 into decimal and multiply\n",
    "print(int(oxygen, 2) * int(co2, 2))\n",
    "        "
   ]
  }
 ],
 "metadata": {
  "kernelspec": {
   "display_name": "advenv",
   "language": "python",
   "name": "python3"
  },
  "language_info": {
   "codemirror_mode": {
    "name": "ipython",
    "version": 3
   },
   "file_extension": ".py",
   "mimetype": "text/x-python",
   "name": "python",
   "nbconvert_exporter": "python",
   "pygments_lexer": "ipython3",
   "version": "3.11.6"
  }
 },
 "nbformat": 4,
 "nbformat_minor": 2
}
