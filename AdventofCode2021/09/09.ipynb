{
 "cells": [
  {
   "cell_type": "code",
   "execution_count": 176,
   "metadata": {},
   "outputs": [],
   "source": [
    "import time\n",
    "from functools import reduce\n",
    "import operator\n",
    "with open('input.txt', 'r') as f:\n",
    "    data = f.read().split('\\n')"
   ]
  },
  {
   "cell_type": "markdown",
   "metadata": {},
   "source": [
    "## Part 1"
   ]
  },
  {
   "cell_type": "code",
   "execution_count": 177,
   "metadata": {},
   "outputs": [
    {
     "name": "stdout",
     "output_type": "stream",
     "text": [
      "The risk values sum is: 558\n",
      "Time taken: 11.526 ms\n"
     ]
    }
   ],
   "source": [
    "start = time.perf_counter_ns()\n",
    "\n",
    "# matrix with heights \n",
    "heights = [[int(n) for n in line] for line in data]\n",
    "risk = 0\n",
    "for x in range(len(heights)):\n",
    "    for y in range(len(heights[x])):\n",
    "        neighbors = [(x+dx, y+dy) for dx, dy in ((-1, 0), (1, 0), (0, -1), (0, 1)) if 0 <= x + dx < len(heights) and 0 <= y + dy < len(heights[x])]\n",
    "        risk += heights[x][y] + 1 if not any(heights[x][y] >= heights[n[0]][n[1]] for n in neighbors) else 0\n",
    "        \n",
    "print(\"The risk values sum is:\", risk)\n",
    "print(\"Time taken:\", round((time.perf_counter_ns() - start)/10**6, 3), \"ms\")"
   ]
  },
  {
   "cell_type": "markdown",
   "metadata": {},
   "source": [
    "## Part 2"
   ]
  },
  {
   "cell_type": "code",
   "execution_count": 178,
   "metadata": {},
   "outputs": [
    {
     "name": "stdout",
     "output_type": "stream",
     "text": [
      "The sizer of the 3 largest basins multiplied is: 882942\n",
      "Time taken: 107.637 ms\n"
     ]
    }
   ],
   "source": [
    "start = time.perf_counter_ns()\n",
    "\n",
    "def get_neighbors(x, y):\n",
    "    return [(x+dx, y+dy) for dx, dy in ((-1, 0), (1, 0), (0, -1), (0, 1)) if 0 <= x + dx < len(heights) and 0 <= y + dy < len(heights[x])]\n",
    "\n",
    "def get_basins(x, y, visited, neighbors):\n",
    "    if (x,y) in visited or heights[x][y] == 9:\n",
    "        return 0\n",
    "    visited.add((x,y))\n",
    "    return 1 + sum(get_basins(n[0], n[1], visited, get_neighbors(n[0], n[1])) \n",
    "                   for n in neighbors if heights[x][y] < heights[n[0]][n[1]])\n",
    "\n",
    "basins = [get_basins(x, y, set(), get_neighbors(x, y)) for x in range(len(heights)) for y in range(len(heights[x]))]\n",
    "    \n",
    "# multiply these 3 values sorted(basins, reverse=True)[:3]\n",
    "size = reduce(operator.mul, sorted(basins, reverse=True)[:3], 1)\n",
    "\n",
    "print(\"The sizer of the 3 largest basins multiplied is:\", size)\n",
    "print(\"Time taken:\", round((time.perf_counter_ns() - start)/10**6, 3), \"ms\")"
   ]
  }
 ],
 "metadata": {
  "kernelspec": {
   "display_name": "advenv",
   "language": "python",
   "name": "python3"
  },
  "language_info": {
   "codemirror_mode": {
    "name": "ipython",
    "version": 3
   },
   "file_extension": ".py",
   "mimetype": "text/x-python",
   "name": "python",
   "nbconvert_exporter": "python",
   "pygments_lexer": "ipython3",
   "version": "3.11.7"
  }
 },
 "nbformat": 4,
 "nbformat_minor": 2
}
