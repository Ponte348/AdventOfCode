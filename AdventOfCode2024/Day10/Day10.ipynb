{
 "cells": [
  {
   "cell_type": "markdown",
   "metadata": {},
   "source": [
    "# Day 10"
   ]
  },
  {
   "cell_type": "code",
   "execution_count": 48,
   "metadata": {},
   "outputs": [],
   "source": [
    "from time import perf_counter_ns\n",
    "\n",
    "with open('input.txt', 'r') as f:\n",
    "    data = f.read().splitlines()\n",
    "\n",
    "data = [[int(x) for x in y] for y in data]\n",
    "#print(data)\n",
    "# print in grid like format\n",
    "#for row in data:\n",
    "#    print(\"\".join([str(x) for x in row]))\n"
   ]
  },
  {
   "cell_type": "markdown",
   "metadata": {},
   "source": [
    "## Part 1"
   ]
  },
  {
   "cell_type": "code",
   "execution_count": 49,
   "metadata": {},
   "outputs": [
    {
     "name": "stdout",
     "output_type": "stream",
     "text": [
      "Part 1: 760\n",
      "Time taken: 22.282921 ms\n"
     ]
    }
   ],
   "source": [
    "start_p1 = perf_counter_ns()\n",
    "\n",
    "def find_hill(x, y, visited, hills):\n",
    "    current_height = data[y][x]\n",
    "    if current_height == 9:\n",
    "        hills.add((x, y))\n",
    "        return\n",
    "    \n",
    "    visited.add((x, y))\n",
    "    \n",
    "    for dx, dy in [(-1, 0), (1, 0), (0, -1), (0, 1)]:\n",
    "        new_x, new_y = x + dx, y + dy\n",
    "        \n",
    "        if new_y < 0 or new_y >= len(data) or new_x < 0 or new_x >= len(data[0]):\n",
    "            continue\n",
    "        \n",
    "        if (new_x, new_y) in visited:\n",
    "            continue\n",
    "            \n",
    "        if data[new_y][new_x] != current_height + 1:\n",
    "            continue\n",
    "            \n",
    "        find_hill(new_x, new_y, visited.copy(), hills)\n",
    "\n",
    "score = 0\n",
    "for y in range(len(data)):\n",
    "    for x in range(len(data[y])):\n",
    "        if data[y][x] == 0:\n",
    "            hills = set()\n",
    "            find_hill(x, y, set(), hills)\n",
    "            count = len(hills)\n",
    "            score += count\n",
    "\n",
    "print(\"Part 1:\", score)\n",
    "time_p1 = round((perf_counter_ns() - start_p1),2) / 1e6\n",
    "print(\"Time taken:\", time_p1, \"ms\")"
   ]
  },
  {
   "cell_type": "markdown",
   "metadata": {},
   "source": [
    "## Part 2"
   ]
  },
  {
   "cell_type": "code",
   "execution_count": 50,
   "metadata": {},
   "outputs": [
    {
     "name": "stdout",
     "output_type": "stream",
     "text": [
      "Part 2: 1764\n",
      "Time taken: 21.558488 ms\n"
     ]
    }
   ],
   "source": [
    "start_p2 = perf_counter_ns()\n",
    "\n",
    "def find_hill(x, y, visited, hills):\n",
    "    current_height = data[y][x]\n",
    "    if current_height == 9:\n",
    "        hills.append((x, y))\n",
    "        return\n",
    "    \n",
    "    visited.add((x, y))\n",
    "    \n",
    "    for dx, dy in [(-1, 0), (1, 0), (0, -1), (0, 1)]:\n",
    "        new_x, new_y = x + dx, y + dy\n",
    "        \n",
    "        if new_y < 0 or new_y >= len(data) or new_x < 0 or new_x >= len(data[0]):\n",
    "            continue\n",
    "        \n",
    "        if (new_x, new_y) in visited:\n",
    "            continue\n",
    "            \n",
    "        if data[new_y][new_x] != current_height + 1:\n",
    "            continue\n",
    "            \n",
    "        find_hill(new_x, new_y, visited.copy(), hills)\n",
    "\n",
    "score = 0\n",
    "for y in range(len(data)):\n",
    "    for x in range(len(data[y])):\n",
    "        if data[y][x] == 0:\n",
    "            hills = []\n",
    "            find_hill(x, y, set(), hills)\n",
    "            count = len(hills)\n",
    "            score += count\n",
    "\n",
    "print(\"Part 2:\", score)\n",
    "time_p2 = round((perf_counter_ns() - start_p2), 2) / 1e6\n",
    "print(\"Time taken:\", time_p2, \"ms\")"
   ]
  }
 ],
 "metadata": {
  "kernelspec": {
   "display_name": ".venv",
   "language": "python",
   "name": "python3"
  },
  "language_info": {
   "codemirror_mode": {
    "name": "ipython",
    "version": 3
   },
   "file_extension": ".py",
   "mimetype": "text/x-python",
   "name": "python",
   "nbconvert_exporter": "python",
   "pygments_lexer": "ipython3",
   "version": "3.12.7"
  }
 },
 "nbformat": 4,
 "nbformat_minor": 2
}
