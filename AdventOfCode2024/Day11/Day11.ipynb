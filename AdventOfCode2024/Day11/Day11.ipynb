{
 "cells": [
  {
   "cell_type": "markdown",
   "metadata": {},
   "source": [
    "# Day 11"
   ]
  },
  {
   "cell_type": "code",
   "execution_count": 126,
   "metadata": {},
   "outputs": [],
   "source": [
    "from time import perf_counter_ns\n",
    "\n",
    "with open('input.txt', 'r') as f:\n",
    "    data = f.read()\n",
    "\n",
    "data = [int(x) for x in data.split(\" \")]"
   ]
  },
  {
   "cell_type": "markdown",
   "metadata": {},
   "source": [
    "## Part 1"
   ]
  },
  {
   "cell_type": "code",
   "execution_count": 127,
   "metadata": {},
   "outputs": [
    {
     "name": "stdout",
     "output_type": "stream",
     "text": [
      "Part 1: 231278\n",
      "Time taken: 41.634822 ms\n"
     ]
    }
   ],
   "source": [
    "from functools import lru_cache\n",
    "\n",
    "\n",
    "start_p1 = perf_counter_ns()\n",
    "\n",
    "@lru_cache(maxsize=None)\n",
    "def rules(x):\n",
    "    if x == 0:\n",
    "        return [1]\n",
    "    \n",
    "    if len(str(x)) % 2 == 0:\n",
    "        # return x but split in half\n",
    "        x = str(x)\n",
    "        return [int(x[:len(str(x)) // 2]), int(x[len(str(x)) // 2:])]\n",
    "    \n",
    "    else:\n",
    "        return [x * 2024]\n",
    "\n",
    "n_stones = 0\n",
    "\n",
    "for x in data:\n",
    "    lst = [x]\n",
    "    for i in range(25):\n",
    "        new_lst = []\n",
    "        for y in lst:\n",
    "            new_lst.extend(rules(y))\n",
    "        lst = new_lst\n",
    "    n_stones += len(lst)\n",
    "\n",
    "print(\"Part 1:\", n_stones)\n",
    "time_p1 = round((perf_counter_ns() - start_p1),2) / 1e6\n",
    "print(\"Time taken:\", time_p1, \"ms\")"
   ]
  },
  {
   "cell_type": "markdown",
   "metadata": {},
   "source": [
    "## Part 2"
   ]
  },
  {
   "cell_type": "code",
   "execution_count": 128,
   "metadata": {},
   "outputs": [
    {
     "name": "stdout",
     "output_type": "stream",
     "text": [
      "Part 2: 274229228071551\n",
      "Time taken: 50.207216 ms\n"
     ]
    }
   ],
   "source": [
    "start_p2 = perf_counter_ns()\n",
    "\n",
    "@lru_cache(maxsize=None)\n",
    "def rules(x):\n",
    "    if x == 0:\n",
    "        return [1]\n",
    "    \n",
    "    if len(str(x)) % 2 == 0:\n",
    "        # return x but split in half\n",
    "        x = str(x)\n",
    "        return [int(x[:len(str(x)) // 2]), int(x[len(str(x)) // 2:])]\n",
    "    \n",
    "    else:\n",
    "        return [x * 2024]\n",
    "\n",
    "stones = {}\n",
    "\n",
    "for x in data:\n",
    "    stones[x] = 1\n",
    "\n",
    "for i in range(75):\n",
    "    temp = {}\n",
    "    for x in stones:\n",
    "        lst = rules(x)\n",
    "        for y in lst:\n",
    "            if y in temp:\n",
    "                temp[y] += stones[x]\n",
    "            else:\n",
    "                temp[y] = stones[x]\n",
    "    stones = temp\n",
    "    \n",
    "n_stones = sum(stones.values())\n",
    "    \n",
    "print(\"Part 2:\", n_stones)\n",
    "time_p2 = round((perf_counter_ns() - start_p2), 2) / 1e6\n",
    "print(\"Time taken:\", time_p2, \"ms\")"
   ]
  }
 ],
 "metadata": {
  "kernelspec": {
   "display_name": ".venv",
   "language": "python",
   "name": "python3"
  },
  "language_info": {
   "codemirror_mode": {
    "name": "ipython",
    "version": 3
   },
   "file_extension": ".py",
   "mimetype": "text/x-python",
   "name": "python",
   "nbconvert_exporter": "python",
   "pygments_lexer": "ipython3",
   "version": "3.12.7"
  }
 },
 "nbformat": 4,
 "nbformat_minor": 2
}
