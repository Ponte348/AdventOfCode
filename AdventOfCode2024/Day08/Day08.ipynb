{
 "cells": [
  {
   "cell_type": "markdown",
   "metadata": {},
   "source": [
    "# Day 08"
   ]
  },
  {
   "cell_type": "code",
   "execution_count": 27,
   "metadata": {},
   "outputs": [
    {
     "name": "stdout",
     "output_type": "stream",
     "text": [
      "............\n",
      "........0...\n",
      ".....0......\n",
      ".......0....\n",
      "....0.......\n",
      "......A.....\n",
      "............\n",
      "............\n",
      "........A...\n",
      ".........A..\n",
      "............\n",
      ".........b.b\n"
     ]
    }
   ],
   "source": [
    "from time import perf_counter_ns\n",
    "\n",
    "with open('example.txt', 'r') as f:\n",
    "    data = f.read().splitlines()\n",
    "    \n",
    "data = [[position for position in line] for line in data] \n",
    "for i in range(len(data)):\n",
    "    for char in data[i]:\n",
    "        print(char, end='')\n",
    "    print()"
   ]
  },
  {
   "cell_type": "markdown",
   "metadata": {},
   "source": [
    "## Part 1"
   ]
  },
  {
   "cell_type": "code",
   "execution_count": 28,
   "metadata": {},
   "outputs": [
    {
     "name": "stdout",
     "output_type": "stream",
     "text": [
      "......#....#\n",
      "...#....0...\n",
      "....#0....#.\n",
      "..#....0....\n",
      "....0....#..\n",
      ".#....A.....\n",
      "...#........\n",
      "#......#....\n",
      "........A...\n",
      ".........A..\n",
      "..........#.\n",
      ".......#.b#b\n",
      "Actually unique antennas: 14\n",
      "Part 1: 15\n",
      "Time taken: 0.8085 ms\n"
     ]
    }
   ],
   "source": [
    "start_p1 = perf_counter_ns()\n",
    "\n",
    "positions = {}\n",
    "\n",
    "for y in range(len(data)):\n",
    "    for x in range(len(data[y])):\n",
    "        if data[y][x] == '#':\n",
    "            continue\n",
    "        if positions.get(data[y][x]) == None:\n",
    "            positions[data[y][x]] = []\n",
    "        positions[data[y][x]].append((x,y))\n",
    "\n",
    "antennas = 0\n",
    "\n",
    "for key in positions:\n",
    "    if key == '.':\n",
    "        continue\n",
    "\n",
    "    for source in positions[key]:\n",
    "        for dest in positions[key]:\n",
    "            if source == dest:\n",
    "                continue\n",
    "\n",
    "            x_move = dest[0] - source[0]\n",
    "            y_move = dest[1] - source[1]\n",
    "            \n",
    "            final_x = source[0] + (2 * x_move)\n",
    "            final_y = source[1] + (2 * y_move)\n",
    "            \n",
    "            if final_x < 0 or final_x >= len(data[0]) or final_y < 0 or final_y >= len(data):\n",
    "                continue\n",
    "\n",
    "            if data[final_y][final_x] != '#':\n",
    "                antennas += 1\n",
    "\n",
    "            if data[final_y][final_x] == '.':\n",
    "                data[final_y][final_x] = '#'\n",
    "\n",
    "for line in data:\n",
    "    for char in line:\n",
    "        print(char, end='')\n",
    "    print()\n",
    "\n",
    "actually_unique_antennas = sum([line.count(\"#\") for line in data])\n",
    "print(\"Actually unique antennas:\", actually_unique_antennas)\n",
    "\n",
    "print(\"Part 1:\", antennas)\n",
    "time_p1 = round((perf_counter_ns() - start_p1),2) / 1e6\n",
    "print(\"Time taken:\", time_p1, \"ms\")"
   ]
  },
  {
   "cell_type": "markdown",
   "metadata": {},
   "source": [
    "## Part 2"
   ]
  },
  {
   "cell_type": "code",
   "execution_count": null,
   "metadata": {},
   "outputs": [],
   "source": []
  }
 ],
 "metadata": {
  "kernelspec": {
   "display_name": ".venv",
   "language": "python",
   "name": "python3"
  },
  "language_info": {
   "codemirror_mode": {
    "name": "ipython",
    "version": 3
   },
   "file_extension": ".py",
   "mimetype": "text/x-python",
   "name": "python",
   "nbconvert_exporter": "python",
   "pygments_lexer": "ipython3",
   "version": "3.12.7"
  }
 },
 "nbformat": 4,
 "nbformat_minor": 2
}
