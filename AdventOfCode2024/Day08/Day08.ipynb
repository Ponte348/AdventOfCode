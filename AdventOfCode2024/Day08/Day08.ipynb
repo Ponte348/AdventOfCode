{
 "cells": [
  {
   "cell_type": "markdown",
   "metadata": {},
   "source": [
    "# Day 08"
   ]
  },
  {
   "cell_type": "code",
   "execution_count": 2,
   "metadata": {},
   "outputs": [],
   "source": [
    "from time import perf_counter_ns\n",
    "\n",
    "with open('input.txt', 'r') as f:\n",
    "    data = f.read().splitlines()\n",
    "    \n",
    "data = [[position for position in line] for line in data] "
   ]
  },
  {
   "cell_type": "markdown",
   "metadata": {},
   "source": [
    "## Part 1"
   ]
  },
  {
   "cell_type": "code",
   "execution_count": 3,
   "metadata": {},
   "outputs": [
    {
     "name": "stdout",
     "output_type": "stream",
     "text": [
      "Part 1: 348\n",
      "Time taken: 1.401679 ms\n"
     ]
    }
   ],
   "source": [
    "start_p1 = perf_counter_ns()\n",
    "\n",
    "positions = {}\n",
    "\n",
    "for y in range(len(data)):\n",
    "    for x in range(len(data[y])):\n",
    "        if data[y][x] == '#':\n",
    "            continue\n",
    "        if positions.get(data[y][x]) == None:\n",
    "            positions[data[y][x]] = []\n",
    "        positions[data[y][x]].append((x,y))\n",
    "\n",
    "hits = set()\n",
    "\n",
    "for key in positions:\n",
    "    if key == '.':\n",
    "        continue\n",
    "\n",
    "    for source in positions[key]:\n",
    "        for dest in positions[key]:\n",
    "            if source == dest:\n",
    "                continue\n",
    "\n",
    "            x_move = dest[0] - source[0]\n",
    "            y_move = dest[1] - source[1]\n",
    "            \n",
    "            final_x = source[0] + (2 * x_move)\n",
    "            final_y = source[1] + (2 * y_move)\n",
    "            \n",
    "            if final_x < 0 or final_x >= len(data[0]) or final_y < 0 or final_y >= len(data):\n",
    "                continue\n",
    "\n",
    "            hits.add((final_x, final_y))\n",
    "\n",
    "            if data[final_y][final_x] == '.':\n",
    "                data[final_y][final_x] = '#'\n",
    "\n",
    "print(\"Part 1:\", len(hits))\n",
    "time_p1 = round((perf_counter_ns() - start_p1),2) / 1e6\n",
    "print(\"Time taken:\", time_p1, \"ms\")"
   ]
  },
  {
   "cell_type": "markdown",
   "metadata": {},
   "source": [
    "## Part 2"
   ]
  },
  {
   "cell_type": "code",
   "execution_count": null,
   "metadata": {},
   "outputs": [
    {
     "name": "stdout",
     "output_type": "stream",
     "text": [
      "Part 2: 1221\n",
      "Time taken: 1.581029 ms\n"
     ]
    }
   ],
   "source": [
    "start_p2 = perf_counter_ns()\n",
    "\n",
    "positions = {}\n",
    "hits = set()\n",
    "\n",
    "for y in range(len(data)):\n",
    "    for x in range(len(data[y])):\n",
    "        if data[y][x] == '#':\n",
    "            continue\n",
    "        if positions.get(data[y][x]) == None:\n",
    "            positions[data[y][x]] = []\n",
    "        positions[data[y][x]].append((x,y))\n",
    "        \n",
    "        if data[y][x] != '.':\n",
    "            hits.add((x,y))\n",
    "\n",
    "\n",
    "for key in positions:\n",
    "    if key == '.':\n",
    "        continue\n",
    "    \n",
    "    for source in positions[key]:\n",
    "        for dest in positions[key]:\n",
    "            if source == dest:\n",
    "                continue\n",
    "\n",
    "            x_move = dest[0] - source[0]\n",
    "            y_move = dest[1] - source[1]\n",
    "            \n",
    "            final_x = source[0] + (2 * x_move)\n",
    "            final_y = source[1] + (2 * y_move)\n",
    "            \n",
    "            while final_x >= 0 and final_x < len(data[0]) and final_y >= 0 and final_y < len(data):\n",
    "                hits.add((final_x, final_y))\n",
    "                if data[final_y][final_x] == '.':\n",
    "                    data[final_y][final_x] = '#'\n",
    "                \n",
    "                final_x += x_move\n",
    "                final_y += y_move\n",
    "\n",
    "print(\"Part 2:\", len(hits))\n",
    "time_p2 = round((perf_counter_ns() - start_p2), 2) / 1e6\n",
    "print(\"Time taken:\", time_p2, \"ms\")"
   ]
  }
 ],
 "metadata": {
  "kernelspec": {
   "display_name": ".venv",
   "language": "python",
   "name": "python3"
  },
  "language_info": {
   "codemirror_mode": {
    "name": "ipython",
    "version": 3
   },
   "file_extension": ".py",
   "mimetype": "text/x-python",
   "name": "python",
   "nbconvert_exporter": "python",
   "pygments_lexer": "ipython3",
   "version": "3.12.7"
  }
 },
 "nbformat": 4,
 "nbformat_minor": 2
}
