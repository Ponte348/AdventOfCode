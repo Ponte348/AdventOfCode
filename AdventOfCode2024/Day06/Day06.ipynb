{
 "cells": [
  {
   "cell_type": "markdown",
   "metadata": {},
   "source": [
    "# Day 06"
   ]
  },
  {
   "cell_type": "code",
   "execution_count": 21,
   "metadata": {},
   "outputs": [],
   "source": [
    "from time import perf_counter_ns\n",
    "\n",
    "with open('input.txt', 'r') as f:\n",
    "    data = f.read().splitlines()\n",
    "    \n",
    "data = [[position for position in line] for line in data]    "
   ]
  },
  {
   "cell_type": "markdown",
   "metadata": {},
   "source": [
    "## Part 1"
   ]
  },
  {
   "cell_type": "code",
   "execution_count": 22,
   "metadata": {},
   "outputs": [
    {
     "name": "stdout",
     "output_type": "stream",
     "text": [
      "Part 1: 4665\n",
      "Time taken: 5.717928 ms\n"
     ]
    }
   ],
   "source": [
    "start_p1 = perf_counter_ns()\n",
    "\n",
    "class Guard:\n",
    "    def __init__(self, data):\n",
    "        self.x, self.y = self.find(data)\n",
    "        self.direction = \"^\"\n",
    "        self.directions = {\"^\": (0, -1), \"v\": (0, 1), \"<\": (-1, 0), \">\": (1, 0)}\n",
    "        self.next_direction = {\"^\": \">\", \">\": \"v\", \"v\": \"<\", \"<\": \"^\"}\n",
    "        self.paths = {\"^\": \"|\", \"v\": \"|\", \"<\": \"-\", \">\": \"-\"}\n",
    "        self.positions = set()\n",
    "        self.steps = 0\n",
    "        self.max_steps = len(data) * len(data[0])\n",
    "        self.looped = False\n",
    "    \n",
    "    def move(self):\n",
    "        self.positions.add((self.x, self.y))\n",
    "        next_x = self.x + self.directions[self.direction][0]\n",
    "        next_y = self.y + self.directions[self.direction][1]\n",
    "        \n",
    "        if next_x < 0 or next_x >= len(data[0]) or next_y < 0 or next_y >= len(data):\n",
    "            self.x = next_x\n",
    "            self.y = next_y\n",
    "            return\n",
    "        else:\n",
    "            if data[next_y][next_x] == \"#\":\n",
    "                self.turn()\n",
    "            else:\n",
    "                self.x = next_x\n",
    "                self.y = next_y\n",
    "                \n",
    "    def move_path(self):\n",
    "        self.positions.add((self.x, self.y))\n",
    "        next_x = self.x + self.directions[self.direction][0]\n",
    "        next_y = self.y + self.directions[self.direction][1]\n",
    "        \n",
    "        if next_x < 0 or next_x >= len(data[0]) or next_y < 0 or next_y >= len(data):\n",
    "            self.x = next_x\n",
    "            self.y = next_y\n",
    "            return\n",
    "        else:\n",
    "            if data[next_y][next_x] == self.paths[self.direction]:\n",
    "                self.looped = True\n",
    "            \n",
    "            if data[next_y][next_x] == \"#\":\n",
    "                self.turn()\n",
    "            else:\n",
    "                data[self.y][self.x] = self.paths[self.direction]\n",
    "                self.x = next_x\n",
    "                self.y = next_y\n",
    "    \n",
    "    def turn(self):\n",
    "        self.direction = self.next_direction[self.direction]\n",
    "    \n",
    "    def find(self, data):\n",
    "        for line in range(len(data)):\n",
    "            for position in range(len(data[line])):\n",
    "                if data[line][position] == \"^\":\n",
    "                    return (position, line)\n",
    "    \n",
    "    def outside(self, data):\n",
    "        return self.x < 0 or self.x >= len(data[0]) or self.y < 0 or self.y >= len(data)\n",
    "    \n",
    "    def __repr__(self):\n",
    "        return f\"Guard ({self.x}, {self.y}) {self.direction}\"\n",
    "    \n",
    "guard = Guard(data)\n",
    "\n",
    "while not guard.outside(data):\n",
    "    guard.move()\n",
    "\n",
    "print(\"Part 1:\", len(guard.positions))\n",
    "time_p1 = round((perf_counter_ns() - start_p1),2) / 1e6\n",
    "print(\"Time taken:\", time_p1, \"ms\")"
   ]
  },
  {
   "cell_type": "markdown",
   "metadata": {},
   "source": [
    "## Part 2"
   ]
  },
  {
   "cell_type": "code",
   "execution_count": null,
   "metadata": {},
   "outputs": [
    {
     "ename": "TypeError",
     "evalue": "cannot unpack non-iterable NoneType object",
     "output_type": "error",
     "traceback": [
      "\u001b[0;31m---------------------------------------------------------------------------\u001b[0m",
      "\u001b[0;31mTypeError\u001b[0m                                 Traceback (most recent call last)",
      "Cell \u001b[0;32mIn[23], line 14\u001b[0m\n\u001b[1;32m     11\u001b[0m     \u001b[38;5;28;01mcontinue\u001b[39;00m\n\u001b[1;32m     13\u001b[0m data[position[\u001b[38;5;241m1\u001b[39m]][position[\u001b[38;5;241m0\u001b[39m]] \u001b[38;5;241m=\u001b[39m \u001b[38;5;124m\"\u001b[39m\u001b[38;5;124m#\u001b[39m\u001b[38;5;124m\"\u001b[39m\n\u001b[0;32m---> 14\u001b[0m blocked_guard \u001b[38;5;241m=\u001b[39m \u001b[43mGuard\u001b[49m\u001b[43m(\u001b[49m\u001b[43mdata\u001b[49m\u001b[43m)\u001b[49m\n\u001b[1;32m     15\u001b[0m \u001b[38;5;28;01mwhile\u001b[39;00m \u001b[38;5;129;01mnot\u001b[39;00m blocked_guard\u001b[38;5;241m.\u001b[39moutside(data):\n\u001b[1;32m     16\u001b[0m     blocked_guard\u001b[38;5;241m.\u001b[39mmove_path()\n",
      "Cell \u001b[0;32mIn[22], line 5\u001b[0m, in \u001b[0;36mGuard.__init__\u001b[0;34m(self, data)\u001b[0m\n\u001b[1;32m      4\u001b[0m \u001b[38;5;28;01mdef\u001b[39;00m \u001b[38;5;21m__init__\u001b[39m(\u001b[38;5;28mself\u001b[39m, data):\n\u001b[0;32m----> 5\u001b[0m     \u001b[38;5;28mself\u001b[39m\u001b[38;5;241m.\u001b[39mx, \u001b[38;5;28mself\u001b[39m\u001b[38;5;241m.\u001b[39my \u001b[38;5;241m=\u001b[39m \u001b[38;5;28mself\u001b[39m\u001b[38;5;241m.\u001b[39mfind(data)\n\u001b[1;32m      6\u001b[0m     \u001b[38;5;28mself\u001b[39m\u001b[38;5;241m.\u001b[39mdirection \u001b[38;5;241m=\u001b[39m \u001b[38;5;124m\"\u001b[39m\u001b[38;5;124m^\u001b[39m\u001b[38;5;124m\"\u001b[39m\n\u001b[1;32m      7\u001b[0m     \u001b[38;5;28mself\u001b[39m\u001b[38;5;241m.\u001b[39mdirections \u001b[38;5;241m=\u001b[39m {\u001b[38;5;124m\"\u001b[39m\u001b[38;5;124m^\u001b[39m\u001b[38;5;124m\"\u001b[39m: (\u001b[38;5;241m0\u001b[39m, \u001b[38;5;241m-\u001b[39m\u001b[38;5;241m1\u001b[39m), \u001b[38;5;124m\"\u001b[39m\u001b[38;5;124mv\u001b[39m\u001b[38;5;124m\"\u001b[39m: (\u001b[38;5;241m0\u001b[39m, \u001b[38;5;241m1\u001b[39m), \u001b[38;5;124m\"\u001b[39m\u001b[38;5;124m<\u001b[39m\u001b[38;5;124m\"\u001b[39m: (\u001b[38;5;241m-\u001b[39m\u001b[38;5;241m1\u001b[39m, \u001b[38;5;241m0\u001b[39m), \u001b[38;5;124m\"\u001b[39m\u001b[38;5;124m>\u001b[39m\u001b[38;5;124m\"\u001b[39m: (\u001b[38;5;241m1\u001b[39m, \u001b[38;5;241m0\u001b[39m)}\n",
      "\u001b[0;31mTypeError\u001b[0m: cannot unpack non-iterable NoneType object"
     ]
    }
   ],
   "source": [
    "start_p2 = perf_counter_ns()\n",
    "    \n",
    "guard = Guard(data)\n",
    "\n",
    "while not guard.outside(data):\n",
    "    guard.move()\n",
    "\n",
    "loops = 0\n",
    "for position in guard.positions:\n",
    "    # Skip the starting position with \"^\"\n",
    "    if data[position[1]][position[0]] == \"^\":\n",
    "        continue\n",
    "        \n",
    "    data[position[1]][position[0]] = \"#\"\n",
    "    blocked_guard = Guard(data)\n",
    "    while not blocked_guard.outside(data):\n",
    "        blocked_guard.move_path()\n",
    "        if blocked_guard.looped:\n",
    "            loops += 1\n",
    "            break\n",
    "    data[position[1]][position[0]] = '.'\n",
    "\n",
    "print(\"Part 2:\", loops)\n",
    "time_p2 = round((perf_counter_ns() - start_p2),2) / 1e6\n",
    "print(\"Time taken:\", time_p2, \"ms\")"
   ]
  }
 ],
 "metadata": {
  "kernelspec": {
   "display_name": ".venv",
   "language": "python",
   "name": "python3"
  },
  "language_info": {
   "codemirror_mode": {
    "name": "ipython",
    "version": 3
   },
   "file_extension": ".py",
   "mimetype": "text/x-python",
   "name": "python",
   "nbconvert_exporter": "python",
   "pygments_lexer": "ipython3",
   "version": "3.12.7"
  }
 },
 "nbformat": 4,
 "nbformat_minor": 2
}
