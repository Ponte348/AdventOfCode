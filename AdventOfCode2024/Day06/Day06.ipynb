{
 "cells": [
  {
   "cell_type": "markdown",
   "metadata": {},
   "source": [
    "# Day 06"
   ]
  },
  {
   "cell_type": "code",
   "execution_count": 7,
   "metadata": {},
   "outputs": [],
   "source": [
    "from time import perf_counter_ns\n",
    "\n",
    "with open('input.txt', 'r') as f:\n",
    "    data = f.read().splitlines()\n",
    "    \n",
    "data = [[position for position in line] for line in data]    "
   ]
  },
  {
   "cell_type": "markdown",
   "metadata": {},
   "source": [
    "## Part 1"
   ]
  },
  {
   "cell_type": "code",
   "execution_count": null,
   "metadata": {},
   "outputs": [
    {
     "name": "stdout",
     "output_type": "stream",
     "text": [
      "Part 1: 4665\n",
      "Time taken: 6.797828 ms\n"
     ]
    }
   ],
   "source": [
    "start_p1 = perf_counter_ns()\n",
    "\n",
    "class Guard:\n",
    "    def __init__(self, data):\n",
    "        self.x, self.y = self.find(data)\n",
    "        self.direction = \"^\"\n",
    "        self.directions = {\"^\": (0, -1), \"v\": (0, 1), \"<\": (-1, 0), \">\": (1, 0)}\n",
    "        self.next_direction = {\"^\": \">\", \">\": \"v\", \"v\": \"<\", \"<\": \"^\"}\n",
    "        self.positions = set()\n",
    "    \n",
    "    def move(self):\n",
    "        self.positions.add((self.x, self.y))\n",
    "        next_x = self.x + self.directions[self.direction][0]\n",
    "        next_y = self.y + self.directions[self.direction][1]\n",
    "        \n",
    "        if next_x < 0 or next_x >= len(data[0]) or next_y < 0 or next_y >= len(data):\n",
    "            self.x = next_x\n",
    "            self.y = next_y\n",
    "            return\n",
    "        else:\n",
    "            if data[next_y][next_x] == \"#\":\n",
    "                self.turn()\n",
    "            else:\n",
    "                self.x = next_x\n",
    "                self.y = next_y\n",
    "    \n",
    "    def turn(self):\n",
    "        self.direction = self.next_direction[self.direction]\n",
    "    \n",
    "    def find(self, data):\n",
    "        for line in range(len(data)):\n",
    "            for position in range(len(data[line])):\n",
    "                if data[line][position] == \"^\":\n",
    "                    return (position, line)\n",
    "    \n",
    "    def outside(self, data):\n",
    "        return self.x < 0 or self.x >= len(data[0]) or self.y < 0 or self.y >= len(data)\n",
    "    \n",
    "    def __repr__(self):\n",
    "        return f\"Guard ({self.x}, {self.y}) {self.direction}\"\n",
    "    \n",
    "guard = Guard(data)\n",
    "\n",
    "while not guard.outside(data):\n",
    "    guard.move()\n",
    "\n",
    "print(\"Part 1:\", len(guard.positions))\n",
    "time_p1 = round((perf_counter_ns() - start_p1),2) / 1e6\n",
    "print(\"Time taken:\", time_p1, \"ms\")"
   ]
  },
  {
   "cell_type": "markdown",
   "metadata": {},
   "source": [
    "## Part 2"
   ]
  },
  {
   "cell_type": "code",
   "execution_count": null,
   "metadata": {},
   "outputs": [],
   "source": []
  }
 ],
 "metadata": {
  "kernelspec": {
   "display_name": ".venv",
   "language": "python",
   "name": "python3"
  },
  "language_info": {
   "codemirror_mode": {
    "name": "ipython",
    "version": 3
   },
   "file_extension": ".py",
   "mimetype": "text/x-python",
   "name": "python",
   "nbconvert_exporter": "python",
   "pygments_lexer": "ipython3",
   "version": "3.12.7"
  }
 },
 "nbformat": 4,
 "nbformat_minor": 2
}
