{
 "cells": [
  {
   "cell_type": "markdown",
   "metadata": {},
   "source": [
    "# Day04"
   ]
  },
  {
   "cell_type": "code",
   "execution_count": 85,
   "metadata": {},
   "outputs": [],
   "source": [
    "from time import perf_counter_ns\n",
    "\n",
    "with open(\"input.txt\") as f:\n",
    "    data = f.read().splitlines()"
   ]
  },
  {
   "cell_type": "markdown",
   "metadata": {},
   "source": [
    "## Part 1"
   ]
  },
  {
   "cell_type": "code",
   "execution_count": 86,
   "metadata": {},
   "outputs": [
    {
     "name": "stdout",
     "output_type": "stream",
     "text": [
      "Part 1: 2370\n",
      "Time taken: 12.87137 ms\n"
     ]
    }
   ],
   "source": [
    "start_p1 = perf_counter_ns()\n",
    "\n",
    "def xmas(i,j, m_x, m_y):\n",
    "    dir_x, dir_y = m_x - i, m_y - j\n",
    "    if (m_x + dir_x < 0 or m_x + dir_x >= len(data) or m_y + dir_y < 0 or m_y + dir_y >= len(data[i])):\n",
    "        return 0\n",
    "    if (m_x + 2*dir_x < 0 or m_x + 2*dir_x >= len(data) or m_y + 2*dir_y < 0 or m_y + 2*dir_y >= len(data[i])):\n",
    "        return 0\n",
    "    if data[m_x + dir_x][m_y + dir_y] == \"A\" and data[m_x + 2*dir_x][m_y + 2*dir_y] == \"S\":\n",
    "        return 1\n",
    "\n",
    "    return 0\n",
    "\n",
    "soma=0\n",
    "for i in range(len(data)):\n",
    "    for j in range(len(data[i])):\n",
    "        if data[i][j] == \"X\":\n",
    "            for x in range(i-1, i+2):\n",
    "                for y in range(j-1, j+2):\n",
    "                    if x < 0 or y < 0 or x >= len(data) or y >= len(data[i]):\n",
    "                        continue\n",
    "                    if x == i and y == j:\n",
    "                        continue\n",
    "                    if data[x][y] == \"M\":\n",
    "                        soma += xmas(i, j, x, y)\n",
    "            \n",
    "print(\"Part 1:\", soma)\n",
    "time_p1 = round((perf_counter_ns() - start_p1),2) / 1e6\n",
    "print(\"Time taken:\", time_p1, \"ms\")"
   ]
  },
  {
   "cell_type": "markdown",
   "metadata": {},
   "source": [
    "## Part 2"
   ]
  },
  {
   "cell_type": "code",
   "execution_count": 87,
   "metadata": {},
   "outputs": [
    {
     "name": "stdout",
     "output_type": "stream",
     "text": [
      "Part 2: 1908\n",
      "Time taken: 7.06289 ms\n"
     ]
    }
   ],
   "source": [
    "start_p2 = perf_counter_ns()\n",
    "\n",
    "\"\"\"\n",
    "M.M\n",
    ".A.\n",
    "S.S\n",
    "\n",
    "M.S\n",
    ".A.\n",
    "M.S\n",
    "\n",
    "S.M\n",
    ".A.\n",
    "S.M\n",
    "\n",
    "S.S\n",
    ".A.\n",
    "M.M\n",
    "\n",
    "M.S\n",
    ".A.\n",
    "M.S\n",
    "\"\"\"\n",
    "\n",
    "combinations = [\"MMSS\", \"MSMS\", \"SMSM\", \"SSMM\", \"MSMS\"]\n",
    "\n",
    "soma=0\n",
    "\n",
    "for i in range(len(data)):\n",
    "    for j in range(len(data[i])):\n",
    "        if i < 1 or j < 1 or i >= len(data) - 1 or j >= len(data[i]) - 1:\n",
    "            continue\n",
    "        \n",
    "        if data[i][j] == \"A\":\n",
    "            result=\"\"\n",
    "            for x in [i-1, i+1]:\n",
    "                for y in [j-1, j+1]:\n",
    "                    result += data[x][y]\n",
    "            if result in combinations:\n",
    "                soma+=1\n",
    "                        \n",
    "                    \n",
    "            \n",
    "print(\"Part 2:\", soma)\n",
    "time_p2 = round((perf_counter_ns() - start_p2),2) / 1e6\n",
    "print(\"Time taken:\", time_p2, \"ms\")"
   ]
  }
 ],
 "metadata": {
  "kernelspec": {
   "display_name": ".venv",
   "language": "python",
   "name": "python3"
  },
  "language_info": {
   "codemirror_mode": {
    "name": "ipython",
    "version": 3
   },
   "file_extension": ".py",
   "mimetype": "text/x-python",
   "name": "python",
   "nbconvert_exporter": "python",
   "pygments_lexer": "ipython3",
   "version": "3.12.7"
  }
 },
 "nbformat": 4,
 "nbformat_minor": 2
}
