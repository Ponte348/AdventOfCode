{
 "cells": [
  {
   "cell_type": "markdown",
   "metadata": {},
   "source": [
    "# Day04"
   ]
  },
  {
   "cell_type": "code",
   "execution_count": 64,
   "metadata": {},
   "outputs": [],
   "source": [
    "from time import perf_counter_ns\n",
    "\n",
    "with open(\"input.txt\") as f:\n",
    "    data = f.read().splitlines()"
   ]
  },
  {
   "cell_type": "markdown",
   "metadata": {},
   "source": [
    "## Part 1"
   ]
  },
  {
   "cell_type": "code",
   "execution_count": 68,
   "metadata": {},
   "outputs": [
    {
     "name": "stdout",
     "output_type": "stream",
     "text": [
      "Part 1: 2370\n",
      "Time taken: 13.725182 ms\n"
     ]
    }
   ],
   "source": [
    "start_p1 = perf_counter_ns()\n",
    "\n",
    "def xmas(i,j, m_x, m_y):\n",
    "    dir_x, dir_y = m_x - i, m_y - j\n",
    "    # now that we have the direction, we need to find the next letter\n",
    "    if (m_x + dir_x < 0 or m_x + dir_x >= len(data) or m_y + dir_y < 0 or m_y + dir_y >= len(data[i])):\n",
    "        return 0\n",
    "    # Check if the second move is out of bounds\n",
    "    if (m_x + 2*dir_x < 0 or m_x + 2*dir_x >= len(data) or m_y + 2*dir_y < 0 or m_y + 2*dir_y >= len(data[i])):\n",
    "        return 0\n",
    "    if data[m_x + dir_x][m_y + dir_y] == \"A\" and data[m_x + 2*dir_x][m_y + 2*dir_y] == \"S\":\n",
    "        return 1\n",
    "\n",
    "    return 0\n",
    "\n",
    "soma=0\n",
    "for i in range(len(data)):\n",
    "    for j in range(len(data[i])):\n",
    "        if data[i][j] == \"X\":\n",
    "            for x in range(i-1, i+2):\n",
    "                for y in range(j-1, j+2):\n",
    "                    if x < 0 or y < 0 or x >= len(data) or y >= len(data[i]):\n",
    "                        continue\n",
    "                    if x == i and y == j:\n",
    "                        continue\n",
    "                    if data[x][y] == \"M\":\n",
    "                        soma += xmas(i, j, x, y)\n",
    "            \n",
    "print(\"Part 1:\", soma)\n",
    "time_p1 = round((perf_counter_ns() - start_p1),2) / 1e6\n",
    "print(\"Time taken:\", time_p1, \"ms\")"
   ]
  },
  {
   "cell_type": "markdown",
   "metadata": {},
   "source": [
    "## Part 2"
   ]
  }
 ],
 "metadata": {
  "kernelspec": {
   "display_name": ".venv",
   "language": "python",
   "name": "python3"
  },
  "language_info": {
   "codemirror_mode": {
    "name": "ipython",
    "version": 3
   },
   "file_extension": ".py",
   "mimetype": "text/x-python",
   "name": "python",
   "nbconvert_exporter": "python",
   "pygments_lexer": "ipython3",
   "version": "3.12.7"
  }
 },
 "nbformat": 4,
 "nbformat_minor": 2
}
