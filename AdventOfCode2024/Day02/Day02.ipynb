{
 "cells": [
  {
   "cell_type": "markdown",
   "metadata": {},
   "source": [
    "# Day02"
   ]
  },
  {
   "cell_type": "code",
   "execution_count": 172,
   "metadata": {},
   "outputs": [],
   "source": [
    "from time import perf_counter_ns\n",
    "\n",
    "with open(\"input.txt\", \"r\") as file:\n",
    "    data = [[int(level) for level in report.split()] for report in file.read().splitlines()]"
   ]
  },
  {
   "cell_type": "markdown",
   "metadata": {},
   "source": [
    "# Part 1"
   ]
  },
  {
   "cell_type": "code",
   "execution_count": 173,
   "metadata": {},
   "outputs": [
    {
     "name": "stdout",
     "output_type": "stream",
     "text": [
      "526\n",
      "Time taken: 0.809118 ms\n"
     ]
    }
   ],
   "source": [
    "start_p1 = perf_counter_ns()\n",
    "\n",
    "def is_valid_sequence(report, ascending=True):\n",
    "    for i in range(len(report) - 1):\n",
    "        diff = report[i+1] - report[i] if ascending else report[i] - report[i+1]\n",
    "        if diff > 3 or diff < 1:\n",
    "            return False\n",
    "    return True\n",
    "\n",
    "soma=0\n",
    "for report in data:\n",
    "    prev = report[0]\n",
    "    if report[1]<prev:\n",
    "        soma+=is_valid_sequence(report, False)\n",
    "    else:\n",
    "        soma+=is_valid_sequence(report, True)\n",
    "\n",
    "print(soma)\n",
    "time_p1 = round((perf_counter_ns() - start_p1),2) / 1e6\n",
    "print(\"Time taken:\", time_p1, \"ms\")"
   ]
  },
  {
   "cell_type": "markdown",
   "metadata": {},
   "source": [
    "## Part 2"
   ]
  },
  {
   "cell_type": "code",
   "execution_count": 174,
   "metadata": {},
   "outputs": [
    {
     "name": "stdout",
     "output_type": "stream",
     "text": [
      "566\n",
      "Time taken: 4.126047 ms\n"
     ]
    }
   ],
   "source": [
    "start_p1 = perf_counter_ns()\n",
    "\n",
    "def is_valid_sequence(report, ascending=True):\n",
    "    for i in range(len(report) - 1):\n",
    "        diff = report[i+1] - report[i] if ascending else report[i] - report[i+1]\n",
    "        if diff > 3 or diff < 1:\n",
    "            return False\n",
    "    return True\n",
    "\n",
    "soma=0\n",
    "for report in data:\n",
    "    safe=0\n",
    "    for i in range(len(report)):\n",
    "        partition = report[:i] + report[i+1:]\n",
    "        safe+= 1 if is_valid_sequence(partition, True) or is_valid_sequence(partition, False) else 0\n",
    "\n",
    "    soma += 1 if safe>0  else 0\n",
    "        \n",
    "print(soma)\n",
    "time_p1 = round((perf_counter_ns() - start_p1),2) / 1e6\n",
    "print(\"Time taken:\", time_p1, \"ms\")"
   ]
  }
 ],
 "metadata": {
  "kernelspec": {
   "display_name": ".venv",
   "language": "python",
   "name": "python3"
  },
  "language_info": {
   "codemirror_mode": {
    "name": "ipython",
    "version": 3
   },
   "file_extension": ".py",
   "mimetype": "text/x-python",
   "name": "python",
   "nbconvert_exporter": "python",
   "pygments_lexer": "ipython3",
   "version": "3.12.7"
  }
 },
 "nbformat": 4,
 "nbformat_minor": 2
}
