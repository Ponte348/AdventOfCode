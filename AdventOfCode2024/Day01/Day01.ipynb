{
 "cells": [
  {
   "cell_type": "markdown",
   "metadata": {},
   "source": [
    "# Day 01"
   ]
  },
  {
   "cell_type": "code",
   "execution_count": 23,
   "metadata": {},
   "outputs": [],
   "source": [
    "from time import perf_counter_ns "
   ]
  },
  {
   "cell_type": "markdown",
   "metadata": {},
   "source": [
    "## Part 1"
   ]
  },
  {
   "cell_type": "code",
   "execution_count": 24,
   "metadata": {},
   "outputs": [
    {
     "name": "stdout",
     "output_type": "stream",
     "text": [
      "1319616\n",
      "Time taken: 1.294284 ms\n"
     ]
    }
   ],
   "source": [
    "start_p1 = perf_counter_ns()\n",
    "left, right = [], []\n",
    "with open(\"input.txt\", \"r\") as file:\n",
    "    left, right = zip(*(line.split() for line in file))\n",
    "\n",
    "left, right = sorted(left), sorted(right)\n",
    "\n",
    "soma = sum([abs(int(left[i]) - int(right[i])) for i in range(len(left))])\n",
    "\n",
    "print(soma)\n",
    "time_p1 = round((perf_counter_ns() - start_p1),2) / 1e6\n",
    "print(\"Time taken:\", time_p1, \"ms\")"
   ]
  },
  {
   "cell_type": "markdown",
   "metadata": {},
   "source": [
    "## Part 2"
   ]
  },
  {
   "cell_type": "code",
   "execution_count": 63,
   "metadata": {},
   "outputs": [
    {
     "name": "stdout",
     "output_type": "stream",
     "text": [
      "27267728\n",
      "Time taken: 0.376746 ms\n"
     ]
    }
   ],
   "source": [
    "start_p2 = perf_counter_ns()\n",
    "\n",
    "ocurrences = {}; soma = 0\n",
    "for value in right:\n",
    "    ocurrences[value] = ocurrences.get(value, 0) + 1\n",
    "\n",
    "soma = sum([int(value) * ocurrences.get(value, 0) for value in left])\n",
    "\n",
    "print(soma)\n",
    "time_p2 = round((perf_counter_ns() - start_p2),2) / 1e6\n",
    "print(\"Time taken:\", time_p2, \"ms\")"
   ]
  }
 ],
 "metadata": {
  "kernelspec": {
   "display_name": ".venv",
   "language": "python",
   "name": "python3"
  },
  "language_info": {
   "codemirror_mode": {
    "name": "ipython",
    "version": 3
   },
   "file_extension": ".py",
   "mimetype": "text/x-python",
   "name": "python",
   "nbconvert_exporter": "python",
   "pygments_lexer": "ipython3",
   "version": "3.12.7"
  }
 },
 "nbformat": 4,
 "nbformat_minor": 2
}
