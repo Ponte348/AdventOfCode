{
 "cells": [
  {
   "cell_type": "markdown",
   "metadata": {},
   "source": [
    "# Day 03"
   ]
  },
  {
   "cell_type": "code",
   "execution_count": 39,
   "metadata": {},
   "outputs": [],
   "source": [
    "from time import perf_counter_ns\n",
    "import re\n",
    "\n",
    "with open(\"input.txt\", \"r\") as file:\n",
    "    data = file.read().splitlines()"
   ]
  },
  {
   "cell_type": "markdown",
   "metadata": {},
   "source": [
    "## Part 1"
   ]
  },
  {
   "cell_type": "code",
   "execution_count": 40,
   "metadata": {},
   "outputs": [
    {
     "name": "stdout",
     "output_type": "stream",
     "text": [
      "Part 1: 157621318\n",
      "Time taken: 0.511336 ms\n"
     ]
    }
   ],
   "source": [
    "start_p1 = perf_counter_ns()\n",
    "    \n",
    "soma = 0\n",
    "for row in range(len(data)):\n",
    "    matches = re.findall(r\"mul\\((\\d+),(\\d+)\\)\", data[row])\n",
    "    for match in matches:\n",
    "        soma += int(match[0]) * int(match[1])\n",
    "        #print(match)\n",
    "    \n",
    "print(\"Part 1:\", soma)\n",
    "time_p1 = round((perf_counter_ns() - start_p1),2) / 1e6\n",
    "print(\"Time taken:\", time_p1, \"ms\")"
   ]
  },
  {
   "cell_type": "markdown",
   "metadata": {},
   "source": [
    "## Part 2"
   ]
  },
  {
   "cell_type": "code",
   "execution_count": 41,
   "metadata": {},
   "outputs": [
    {
     "name": "stdout",
     "output_type": "stream",
     "text": [
      "Part 2: 79845780\n",
      "Time taken: 1.452937 ms\n"
     ]
    }
   ],
   "source": [
    "from collections import deque\n",
    "start_p2 = perf_counter_ns()\n",
    "    \n",
    "soma = 0\n",
    "enabled=1\n",
    "for row in range(len(data)):\n",
    "    # Using named groups (?P<name>pattern) to distinguish between different matches\n",
    "    pattern = r\"(?P<mul>mul\\((\\d+),(\\d+)\\))|(?P<do>do\\(\\))|(?P<dont>don't\\(\\))\"\n",
    "    matches = re.finditer(pattern, data[row])\n",
    "    \n",
    "    matches = deque(matches)\n",
    "    \n",
    "    while matches:\n",
    "        match = matches.popleft()\n",
    "        if match.group('mul') and enabled:\n",
    "            numbers = re.findall(r'\\d+', match.group('mul'))\n",
    "            soma += int(numbers[0]) * int(numbers[1])\n",
    "        elif match.group('do'):\n",
    "            enabled=1\n",
    "        elif match.group('dont'):\n",
    "            enabled=0\n",
    "    \n",
    "print(\"Part 2:\", soma)\n",
    "time_p2 = round((perf_counter_ns() - start_p2),2) / 1e6\n",
    "print(\"Time taken:\", time_p2, \"ms\")"
   ]
  }
 ],
 "metadata": {
  "kernelspec": {
   "display_name": ".venv",
   "language": "python",
   "name": "python3"
  },
  "language_info": {
   "codemirror_mode": {
    "name": "ipython",
    "version": 3
   },
   "file_extension": ".py",
   "mimetype": "text/x-python",
   "name": "python",
   "nbconvert_exporter": "python",
   "pygments_lexer": "ipython3",
   "version": "3.12.7"
  }
 },
 "nbformat": 4,
 "nbformat_minor": 2
}
