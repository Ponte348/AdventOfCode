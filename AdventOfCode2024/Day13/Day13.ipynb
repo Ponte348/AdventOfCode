{
 "cells": [
  {
   "cell_type": "markdown",
   "metadata": {},
   "source": [
    "# Day 13"
   ]
  },
  {
   "cell_type": "code",
   "execution_count": 45,
   "metadata": {},
   "outputs": [],
   "source": [
    "from time import perf_counter_ns\n",
    "\n",
    "with open('input.txt', 'r') as f:\n",
    "    data = f.read().splitlines()\n",
    "\n",
    "#print(data)\n",
    "\n",
    "filtered_data = [line for line in data if line]\n",
    "grouped_data = [filtered_data[i:i+3] for i in range(0, len(filtered_data), 3)]\n",
    "\n",
    "#print(grouped_data)\n",
    "\n",
    "def extract_values(line):\n",
    "    if '+' in line:  # For Button A and B format (X+94, Y+34)\n",
    "        x = int(line.split('X+')[1].split(',')[0])\n",
    "        y = int(line.split('Y+')[1])\n",
    "    else:  # For Prize format (X=8400, Y=5400)\n",
    "        x = int(line.split('X=')[1].split(',')[0])\n",
    "        y = int(line.split('Y=')[1])\n",
    "    return (x, y)\n",
    "\n",
    "processed_data = []\n",
    "for group in grouped_data:\n",
    "    processed_group = [extract_values(line) for line in group]\n",
    "    processed_data.append(processed_group)\n",
    "    \n",
    "#print(processed_data)"
   ]
  },
  {
   "cell_type": "markdown",
   "metadata": {},
   "source": [
    "## Part 1"
   ]
  },
  {
   "cell_type": "code",
   "execution_count": 46,
   "metadata": {},
   "outputs": [
    {
     "name": "stdout",
     "output_type": "stream",
     "text": [
      "Part 1: 39996\n",
      "Time taken: 563.853178 ms\n"
     ]
    }
   ],
   "source": [
    "start_p1 = perf_counter_ns()\n",
    "\n",
    "totalTokens = 0\n",
    "for game in processed_data:\n",
    "    #print(game)\n",
    "    buttonA = game[0]\n",
    "    buttonB = game[1]\n",
    "    prize = game[2]\n",
    "    \n",
    "    #print(\"Button A:\", buttonA, \"Button B:\", buttonB, \"Prize:\", prize)\n",
    "    \n",
    "    bestX, bestY = None, None\n",
    "    bestTokens = 401\n",
    "    solved = False\n",
    "    \n",
    "    multiplicationsA = {i: (buttonA[0] * i, buttonA[1] * i) for i in range(0, 100)}\n",
    "    multiplicationsB = {i: (buttonB[0] * i, buttonB[1] * i) for i in range(0, 100)}\n",
    "    # Button A\n",
    "    for i in range(0, 100):\n",
    "        # Button B\n",
    "        for j in range(0, 100):\n",
    "            x = multiplicationsA[i][0] + multiplicationsB[j][0]\n",
    "            y = multiplicationsA[i][1] + multiplicationsB[j][1]\n",
    "            \n",
    "            if x == prize[0] and y == prize[1]:\n",
    "                solved = True\n",
    "                if i*3 + j < bestTokens:\n",
    "                    bestTokens = i*3 + j\n",
    "                    bestX, bestY = x, y\n",
    "            \n",
    "    if solved:\n",
    "        totalTokens += bestTokens\n",
    "    \n",
    "\n",
    "print(\"Part 1:\", totalTokens)\n",
    "time_p1 = round((perf_counter_ns() - start_p1),2) / 1e6\n",
    "print(\"Time taken:\", time_p1, \"ms\")"
   ]
  },
  {
   "cell_type": "markdown",
   "metadata": {},
   "source": [
    "## Part 2"
   ]
  },
  {
   "cell_type": "code",
   "execution_count": 47,
   "metadata": {},
   "outputs": [
    {
     "name": "stdout",
     "output_type": "stream",
     "text": [
      "Part 2: 73267584326867\n",
      "Time taken: 70.087806 ms\n"
     ]
    }
   ],
   "source": [
    "try:\n",
    "    import sympy as sp\n",
    "except ImportError:\n",
    "    %pip install -U sympy\n",
    "\n",
    "start_p2 = perf_counter_ns()\n",
    "\n",
    "#print(processed_data[0])\n",
    "\n",
    "totalTokens = 0\n",
    "for game in processed_data:\n",
    "    buttonA = game[0]\n",
    "    buttonB = game[1]\n",
    "    prize = game[2]\n",
    "    prize = (prize[0] + 10000000000000, prize[1] + 10000000000000)\n",
    "\n",
    "    # create matrix with button A and B\n",
    "    \"\"\"\n",
    "    buttonA[0] buttonB[0]\n",
    "    buttonA[0] buttonB[1]\n",
    "    \"\"\"\n",
    "    matrix = sp.Matrix([[buttonA[0], buttonB[0]], [buttonA[1], buttonB[1]]])\n",
    "    prize = sp.Matrix([[prize[0]], [prize[1]]])\n",
    "\n",
    "    # now invert matrix\n",
    "    inv_matrix = matrix.inv()\n",
    "\n",
    "    # multiply inv_matrix with prize\n",
    "    result = inv_matrix * prize\n",
    "\n",
    "    if (result[0].is_integer and result[1].is_integer):\n",
    "        totalTokens += int(result[0]) * 3 + int(result[1])\n",
    "\n",
    "print(\"Part 2:\", totalTokens)\n",
    "time_p2 = round((perf_counter_ns() - start_p2),2) / 1e6\n",
    "print(\"Time taken:\", time_p2, \"ms\")"
   ]
  }
 ],
 "metadata": {
  "kernelspec": {
   "display_name": ".venv",
   "language": "python",
   "name": "python3"
  },
  "language_info": {
   "codemirror_mode": {
    "name": "ipython",
    "version": 3
   },
   "file_extension": ".py",
   "mimetype": "text/x-python",
   "name": "python",
   "nbconvert_exporter": "python",
   "pygments_lexer": "ipython3",
   "version": "3.12.7"
  }
 },
 "nbformat": 4,
 "nbformat_minor": 2
}
