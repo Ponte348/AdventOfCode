{
 "cells": [
  {
   "cell_type": "markdown",
   "metadata": {},
   "source": [
    "# Day 18"
   ]
  },
  {
   "cell_type": "code",
   "execution_count": null,
   "metadata": {},
   "outputs": [],
   "source": [
    "from time import perf_counter_ns\n",
    "\n",
    "file = 'input.txt'\n",
    "with open(file, 'r') as f:\n",
    "    data = f.read().splitlines()\n",
    "    \n",
    "data = [tuple(map(int, x.split(','))) for x in data]\n",
    "print(data)"
   ]
  },
  {
   "cell_type": "markdown",
   "metadata": {},
   "source": [
    "## Part 1"
   ]
  },
  {
   "cell_type": "code",
   "execution_count": 38,
   "metadata": {},
   "outputs": [
    {
     "name": "stdout",
     "output_type": "stream",
     "text": [
      "Part 1: 324\n",
      "Time taken: 19.410147 ms\n"
     ]
    }
   ],
   "source": [
    "import networkx as nx\n",
    "\n",
    "start_p1 = perf_counter_ns()\n",
    "\n",
    "n = 71\n",
    "G = nx.grid_2d_graph(n, n)\n",
    "bytes=1024\n",
    "\n",
    "# remove corrupted nodes\n",
    "i=0\n",
    "for x, y in data:\n",
    "    if i == bytes:\n",
    "        break\n",
    "    i+=1\n",
    "    G.remove_node((x, y))\n",
    "    \n",
    "start = (0, 0)\n",
    "end = (n-1, n-1)\n",
    "path = nx.shortest_path(G, start, end)\n",
    "\n",
    "print(\"Part 1:\", len(path)-1)\n",
    "time_p1 = round((perf_counter_ns() - start_p1),2) / 1e6\n",
    "print(\"Time taken:\", time_p1, \"ms\")"
   ]
  },
  {
   "cell_type": "markdown",
   "metadata": {},
   "source": [
    "## Part 2"
   ]
  },
  {
   "cell_type": "code",
   "execution_count": 39,
   "metadata": {},
   "outputs": [
    {
     "name": "stdout",
     "output_type": "stream",
     "text": [
      "Part 2: 46 23\n",
      "Time taken: 6630.4975 ms\n"
     ]
    }
   ],
   "source": [
    "start_p2 = perf_counter_ns()\n",
    "\n",
    "G = nx.grid_2d_graph(n, n)\n",
    "\n",
    "start = (0, 0)\n",
    "end = (n-1, n-1)\n",
    "# remove nodes that are in the data\n",
    "for x, y in data:\n",
    "    G.remove_node((x, y))\n",
    "    try:\n",
    "        path = nx.shortest_path(G, start, end)\n",
    "    except:\n",
    "        break\n",
    "    \n",
    "print(\"Part 2:\", x, y)\n",
    "time_p2 = round((perf_counter_ns() - start_p2),2) / 1e6\n",
    "print(\"Time taken:\", time_p2, \"ms\")"
   ]
  }
 ],
 "metadata": {
  "kernelspec": {
   "display_name": ".venv",
   "language": "python",
   "name": "python3"
  },
  "language_info": {
   "codemirror_mode": {
    "name": "ipython",
    "version": 3
   },
   "file_extension": ".py",
   "mimetype": "text/x-python",
   "name": "python",
   "nbconvert_exporter": "python",
   "pygments_lexer": "ipython3",
   "version": "3.12.7"
  }
 },
 "nbformat": 4,
 "nbformat_minor": 2
}
