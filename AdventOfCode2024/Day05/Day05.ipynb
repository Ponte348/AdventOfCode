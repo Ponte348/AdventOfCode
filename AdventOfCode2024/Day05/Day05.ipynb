{
 "cells": [
  {
   "cell_type": "markdown",
   "metadata": {},
   "source": [
    "# Day 05"
   ]
  },
  {
   "cell_type": "code",
   "execution_count": 13,
   "metadata": {},
   "outputs": [],
   "source": [
    "from time import perf_counter_ns\n",
    "\n",
    "with open('input.txt', 'r') as f:\n",
    "    data = f.read().splitlines()\n",
    "\n",
    "rules = [[int(i) for i in rule.split('|')] for rule in data[:data.index('')]]\n",
    "updates = [[int(i) for i in update.split(',')] for update in data[data.index('')+1:]]\n",
    "#print(rules)\n",
    "#print(updates)\n",
    "#print(data)"
   ]
  },
  {
   "cell_type": "markdown",
   "metadata": {},
   "source": [
    "## Part 1"
   ]
  },
  {
   "cell_type": "code",
   "execution_count": 14,
   "metadata": {},
   "outputs": [
    {
     "name": "stdout",
     "output_type": "stream",
     "text": [
      "Part 1: 5391\n",
      "Time taken: 2.951193 ms\n"
     ]
    }
   ],
   "source": [
    "start_p1 = perf_counter_ns()\n",
    "\n",
    "orders = {}\n",
    "for rule in rules:\n",
    "    if rule[0] not in orders:\n",
    "        orders[rule[0]] = []\n",
    "    orders[rule[0]].append(rule[1])\n",
    "\n",
    "approved=[]\n",
    "for update in updates:\n",
    "    is_approved = True\n",
    "    for i in range(len(update)):\n",
    "        # if any value of update[:i] is in orders[update[i]], then update is not approved\n",
    "        analyse = update[:i]\n",
    "        if any([value in orders.get(update[i], []) for value in analyse]):\n",
    "            is_approved = False\n",
    "            break\n",
    "        \n",
    "    if is_approved:\n",
    "        approved.append(update)\n",
    "\n",
    "result = sum([update[len(update)//2] for update in approved])\n",
    "\n",
    "print(\"Part 1:\", result)\n",
    "time_p1 = round((perf_counter_ns() - start_p1),2) / 1e6\n",
    "print(\"Time taken:\", time_p1, \"ms\")"
   ]
  },
  {
   "cell_type": "markdown",
   "metadata": {},
   "source": [
    "## Part 2"
   ]
  },
  {
   "cell_type": "code",
   "execution_count": null,
   "metadata": {},
   "outputs": [
    {
     "name": "stdout",
     "output_type": "stream",
     "text": [
      "Part 2: 6142\n",
      "Time taken: 32.849321 ms\n"
     ]
    }
   ],
   "source": [
    "from collections import deque\n",
    "start_p2 = perf_counter_ns()\n",
    "\n",
    "orders = {}\n",
    "for rule in rules:\n",
    "    if rule[0] not in orders:\n",
    "        orders[rule[0]] = set()\n",
    "    orders[rule[0]].add(rule[1])\n",
    "\n",
    "not_approved = []\n",
    "for update in updates:\n",
    "    is_approved = True\n",
    "    for i in range(len(update)):\n",
    "        analyse = update[:i]\n",
    "        if any(value in orders.get(update[i], set()) for value in analyse):  # Using set()\n",
    "            is_approved = False\n",
    "            not_approved.append(update)\n",
    "            break\n",
    "        \n",
    "for update in not_approved:\n",
    "    l = len(update)\n",
    "    for _ in range(l):\n",
    "        for i in range(l):\n",
    "            pre = update[:i]\n",
    "            p = len(pre)\n",
    "            for j in range(p):\n",
    "                if update[j] in orders.get(update[i], set()):\n",
    "                    update.insert(l, update.pop(j))\n",
    "                \n",
    "result = sum([update[len(update)//2] for update in not_approved])\n",
    "\n",
    "print(\"Part 2:\", result)\n",
    "time_p2 = round((perf_counter_ns() - start_p2),2) / 1e6\n",
    "print(\"Time taken:\", time_p2, \"ms\")"
   ]
  },
  {
   "cell_type": "code",
   "execution_count": null,
   "metadata": {},
   "outputs": [],
   "source": []
  }
 ],
 "metadata": {
  "kernelspec": {
   "display_name": ".venv",
   "language": "python",
   "name": "python3"
  },
  "language_info": {
   "codemirror_mode": {
    "name": "ipython",
    "version": 3
   },
   "file_extension": ".py",
   "mimetype": "text/x-python",
   "name": "python",
   "nbconvert_exporter": "python",
   "pygments_lexer": "ipython3",
   "version": "3.12.7"
  }
 },
 "nbformat": 4,
 "nbformat_minor": 2
}
