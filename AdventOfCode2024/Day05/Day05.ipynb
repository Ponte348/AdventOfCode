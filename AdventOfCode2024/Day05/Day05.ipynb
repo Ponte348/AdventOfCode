{
 "cells": [
  {
   "cell_type": "markdown",
   "metadata": {},
   "source": [
    "# Day 05"
   ]
  },
  {
   "cell_type": "code",
   "execution_count": 29,
   "metadata": {},
   "outputs": [],
   "source": [
    "from time import perf_counter_ns\n",
    "\n",
    "with open('input.txt', 'r') as f:\n",
    "    data = f.read().splitlines()\n",
    "\n",
    "rules = [[int(i) for i in rule.split('|')] for rule in data[:data.index('')]]\n",
    "updates = [[int(i) for i in update.split(',')] for update in data[data.index('')+1:]]\n",
    "#print(rules)\n",
    "#print(updates)\n",
    "#print(data)"
   ]
  },
  {
   "cell_type": "markdown",
   "metadata": {},
   "source": [
    "## Part 1"
   ]
  },
  {
   "cell_type": "code",
   "execution_count": 49,
   "metadata": {},
   "outputs": [
    {
     "name": "stdout",
     "output_type": "stream",
     "text": [
      "Part 1: 5391\n",
      "Time taken: 2.807995 ms\n"
     ]
    }
   ],
   "source": [
    "start_p1 = perf_counter_ns()\n",
    "\n",
    "orders = {}\n",
    "for rule in rules:\n",
    "    if rule[0] not in orders:\n",
    "        orders[rule[0]] = []\n",
    "    orders[rule[0]].append(rule[1])\n",
    "\n",
    "approved=[]\n",
    "for update in updates:\n",
    "    is_approved = True\n",
    "    for i in range(len(update)):\n",
    "        # if any value of update[:i] is in orders[update[i]], then update is not approved\n",
    "        analyse = update[:i]\n",
    "        if any([value in orders.get(update[i], []) for value in analyse]):\n",
    "            is_approved = False\n",
    "            break\n",
    "        \n",
    "    if is_approved:\n",
    "        approved.append(update)\n",
    "\n",
    "result = sum([update[len(update)//2] for update in approved])\n",
    "\n",
    "print(\"Part 1:\", result)\n",
    "time_p1 = round((perf_counter_ns() - start_p1),2) / 1e6\n",
    "print(\"Time taken:\", time_p1, \"ms\")"
   ]
  },
  {
   "cell_type": "markdown",
   "metadata": {},
   "source": [
    "## Part 2"
   ]
  },
  {
   "cell_type": "code",
   "execution_count": null,
   "metadata": {},
   "outputs": [],
   "source": []
  }
 ],
 "metadata": {
  "kernelspec": {
   "display_name": ".venv",
   "language": "python",
   "name": "python3"
  },
  "language_info": {
   "codemirror_mode": {
    "name": "ipython",
    "version": 3
   },
   "file_extension": ".py",
   "mimetype": "text/x-python",
   "name": "python",
   "nbconvert_exporter": "python",
   "pygments_lexer": "ipython3",
   "version": "3.12.7"
  }
 },
 "nbformat": 4,
 "nbformat_minor": 2
}
