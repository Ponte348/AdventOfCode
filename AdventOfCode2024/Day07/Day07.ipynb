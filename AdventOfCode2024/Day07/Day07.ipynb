{
 "cells": [
  {
   "cell_type": "markdown",
   "metadata": {},
   "source": [
    "# Day07"
   ]
  },
  {
   "cell_type": "code",
   "execution_count": 34,
   "metadata": {},
   "outputs": [],
   "source": [
    "from time import perf_counter_ns\n",
    "\n",
    "with open('input.txt', 'r') as f:\n",
    "    data = f.read().splitlines()\n",
    "\n",
    "data = [(int(x.split(':')[0]), list(map(int, x.split(':')[1].split()))) for x in data]"
   ]
  },
  {
   "cell_type": "markdown",
   "metadata": {},
   "source": [
    "## Part 1"
   ]
  },
  {
   "cell_type": "code",
   "execution_count": 35,
   "metadata": {},
   "outputs": [
    {
     "name": "stdout",
     "output_type": "stream",
     "text": [
      "Part 1: 21572148763543\n",
      "Time taken: 1146.884305 ms\n"
     ]
    }
   ],
   "source": [
    "start_p1 = perf_counter_ns()\n",
    "\n",
    "operators = [\"+\", \"*\"]\n",
    "\n",
    "def evaluate_left_to_right(equation):\n",
    "    elements = equation.split()\n",
    "    result = int(elements[0])\n",
    "    i = 1\n",
    "    while i < len(elements):\n",
    "        operator = elements[i]\n",
    "        next_number = int(elements[i + 1])\n",
    "        if operator == \"+\":\n",
    "            result += next_number\n",
    "        elif operator == \"*\":\n",
    "            result *= next_number\n",
    "        i += 2\n",
    "    return result\n",
    "\n",
    "soma = 0\n",
    "for result, numbers in data:\n",
    "    solved = 0\n",
    "    for i in range(2**(len(numbers) - 1)):\n",
    "        equation = str(numbers[0])\n",
    "        for j in range(1, len(numbers)):\n",
    "            equation += \" \" + operators[(i >> (j - 1)) & 1] + \" \" + str(numbers[j])\n",
    "        calculated_result = evaluate_left_to_right(equation)\n",
    "        if calculated_result == result:\n",
    "            soma += result\n",
    "            break\n",
    "              \n",
    "print(\"Part 1:\", soma)\n",
    "time_p1 = round((perf_counter_ns() - start_p1),2) / 1e6\n",
    "print(\"Time taken:\", time_p1, \"ms\")"
   ]
  },
  {
   "cell_type": "markdown",
   "metadata": {},
   "source": [
    "## Part 2"
   ]
  },
  {
   "cell_type": "code",
   "execution_count": 36,
   "metadata": {},
   "outputs": [
    {
     "name": "stdout",
     "output_type": "stream",
     "text": [
      "Part 2: 581941094529163\n",
      "Time taken: 80375.830422 ms\n"
     ]
    }
   ],
   "source": [
    "start_p2 = perf_counter_ns()\n",
    "\n",
    "operators = [\"||\", \"+\", \"*\"]\n",
    "\n",
    "def evaluate_left_to_right(equation):\n",
    "    elements = equation.split()\n",
    "    result = int(elements[0])\n",
    "    i = 1\n",
    "    while i < len(elements):\n",
    "        operator = elements[i]\n",
    "        next_number = elements[i + 1]\n",
    "        if operator == \"||\":\n",
    "            result = int(str(result) + next_number)\n",
    "        else:\n",
    "            next_number = int(next_number)\n",
    "            if operator == \"+\":\n",
    "                result += next_number\n",
    "            elif operator == \"*\":\n",
    "                result *= next_number\n",
    "        i += 2\n",
    "    return result\n",
    "\n",
    "soma = 0\n",
    "for result, numbers in data:\n",
    "    solved = 0\n",
    "    for i in range(3**(len(numbers) - 1)):\n",
    "        equation = str(numbers[0])\n",
    "        for j in range(1, len(numbers)):\n",
    "            equation += \" \" + operators[(i // (3**(j - 1))) % 3] + \" \" + str(numbers[j])\n",
    "        calculated_result = evaluate_left_to_right(equation)\n",
    "        if calculated_result == result:\n",
    "            soma += result\n",
    "            break\n",
    "\n",
    "print(\"Part 2:\", soma)\n",
    "time_p2 = round((perf_counter_ns() - start_p2),2) / 1e6\n",
    "print(\"Time taken:\", time_p2, \"ms\")"
   ]
  }
 ],
 "metadata": {
  "kernelspec": {
   "display_name": ".venv",
   "language": "python",
   "name": "python3"
  },
  "language_info": {
   "codemirror_mode": {
    "name": "ipython",
    "version": 3
   },
   "file_extension": ".py",
   "mimetype": "text/x-python",
   "name": "python",
   "nbconvert_exporter": "python",
   "pygments_lexer": "ipython3",
   "version": "3.12.7"
  }
 },
 "nbformat": 4,
 "nbformat_minor": 2
}
