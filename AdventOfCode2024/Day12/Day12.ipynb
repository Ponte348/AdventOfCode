{
 "cells": [
  {
   "cell_type": "markdown",
   "metadata": {},
   "source": [
    "# Day 12"
   ]
  },
  {
   "cell_type": "code",
   "execution_count": 57,
   "metadata": {},
   "outputs": [],
   "source": [
    "from time import perf_counter_ns\n",
    "\n",
    "with open('input.txt', 'r') as f:\n",
    "    data = f.read().splitlines()\n",
    "    \n",
    "data = [[region for region in line] for line in data]"
   ]
  },
  {
   "cell_type": "markdown",
   "metadata": {},
   "source": [
    "## Part 1"
   ]
  },
  {
   "cell_type": "code",
   "execution_count": 58,
   "metadata": {},
   "outputs": [
    {
     "name": "stdout",
     "output_type": "stream",
     "text": [
      "Part 1: 1465968\n",
      "Time taken: 1429.793071 ms\n"
     ]
    }
   ],
   "source": [
    "start_p1 = perf_counter_ns()\n",
    "\n",
    "def getArea(letter, x, y, area):\n",
    "    if data[x][y] == letter:\n",
    "        area.add((x,y))\n",
    "        for i,j in [(x-1,y), (x+1,y), (x,y-1), (x,y+1)]:\n",
    "            if i >= 0 and j >= 0 and i < len(data) and j < len(data[i]) and (i,j) not in area:\n",
    "                getArea(letter, i, j, area)\n",
    "    return area\n",
    "    \n",
    "\n",
    "def getPerimeter(area):\n",
    "    perimeter=0\n",
    "    for x,y in area:\n",
    "        for i,j in [(x-1,y), (x+1,y), (x,y-1), (x,y+1)]:\n",
    "            if (i,j) not in area:\n",
    "                perimeter += 1\n",
    "    return perimeter\n",
    "\n",
    "total_price = 0\n",
    "areas=[]\n",
    "for x in range(len(data)):\n",
    "    for y in range(len(data[x])):\n",
    "        letter = data[x][y]\n",
    "        regionArea = getArea(letter, x, y, set())\n",
    "        if regionArea in areas:\n",
    "            continue\n",
    "        \n",
    "        total_price += getPerimeter(regionArea) * len(regionArea)\n",
    "        areas.append(regionArea)\n",
    "\n",
    "print(\"Part 1:\", total_price)\n",
    "time_p1 = round((perf_counter_ns() - start_p1),2) / 1e6\n",
    "print(\"Time taken:\", time_p1, \"ms\")"
   ]
  },
  {
   "cell_type": "markdown",
   "metadata": {},
   "source": [
    "## Part 2"
   ]
  },
  {
   "cell_type": "code",
   "execution_count": null,
   "metadata": {},
   "outputs": [],
   "source": []
  },
  {
   "cell_type": "markdown",
   "metadata": {},
   "source": [
    "## Others"
   ]
  },
  {
   "cell_type": "code",
   "execution_count": 59,
   "metadata": {},
   "outputs": [
    {
     "name": "stdout",
     "output_type": "stream",
     "text": [
      "Part 1: 13833418\n",
      "Time taken: 15.949639 ms\n"
     ]
    }
   ],
   "source": [
    "start_p1 = perf_counter_ns()\n",
    "\n",
    "def check_adjacent(x, y):\n",
    "    fences = 0\n",
    "    for i,j in [(x-1,y), (x+1,y), (x,y-1), (x,y+1)]:\n",
    "        if i < 0 or j < 0 or i >= len(data) or j >= len(data[0]):\n",
    "            fences += 1\n",
    "        else:\n",
    "            if data[i][j] == data[x][y]:\n",
    "                continue\n",
    "            else:\n",
    "                fences += 1\n",
    "    return fences\n",
    "\n",
    "total_price = 0\n",
    "areas={}\n",
    "perimeters={}\n",
    "for x in range(len(data)):\n",
    "    for y in range(len(data[0])):\n",
    "        if data[x][y] not in areas:\n",
    "            areas[data[x][y]] = 1\n",
    "        else:\n",
    "            areas[data[x][y]] += 1\n",
    "\n",
    "        fences = check_adjacent(x, y)\n",
    "        if data[x][y] not in perimeters:\n",
    "            perimeters[data[x][y]] = fences\n",
    "        else:\n",
    "            perimeters[data[x][y]] += fences\n",
    "            \n",
    "prices = {}\n",
    "for key in areas:\n",
    "    prices[key] = areas[key] * perimeters[key]\n",
    "total_price = sum(prices.values())\n",
    "\n",
    "print(\"Part 1:\", total_price)\n",
    "time_p1 = round((perf_counter_ns() - start_p1),2) / 1e6\n",
    "print(\"Time taken:\", time_p1, \"ms\")"
   ]
  }
 ],
 "metadata": {
  "kernelspec": {
   "display_name": ".venv",
   "language": "python",
   "name": "python3"
  },
  "language_info": {
   "codemirror_mode": {
    "name": "ipython",
    "version": 3
   },
   "file_extension": ".py",
   "mimetype": "text/x-python",
   "name": "python",
   "nbconvert_exporter": "python",
   "pygments_lexer": "ipython3",
   "version": "3.12.7"
  }
 },
 "nbformat": 4,
 "nbformat_minor": 2
}
