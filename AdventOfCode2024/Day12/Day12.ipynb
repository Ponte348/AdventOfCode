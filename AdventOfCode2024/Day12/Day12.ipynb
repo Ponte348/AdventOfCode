{
 "cells": [
  {
   "cell_type": "markdown",
   "metadata": {},
   "source": [
    "# Day 12"
   ]
  },
  {
   "cell_type": "code",
   "execution_count": 74,
   "metadata": {},
   "outputs": [],
   "source": [
    "from time import perf_counter_ns\n",
    "\n",
    "with open('input.txt', 'r') as f:\n",
    "    data = f.read().splitlines()\n",
    "    \n",
    "data = [[region for region in line] for line in data]"
   ]
  },
  {
   "cell_type": "markdown",
   "metadata": {},
   "source": [
    "## Part 1"
   ]
  },
  {
   "cell_type": "code",
   "execution_count": 75,
   "metadata": {},
   "outputs": [
    {
     "name": "stdout",
     "output_type": "stream",
     "text": [
      "Part 1: 1465968\n",
      "Time taken: 1432.328782 ms\n"
     ]
    }
   ],
   "source": [
    "start_p1 = perf_counter_ns()\n",
    "\n",
    "def getArea(letter, x, y, area):\n",
    "    if data[x][y] == letter:\n",
    "        area.add((x,y))\n",
    "        for i,j in [(x-1,y), (x+1,y), (x,y-1), (x,y+1)]:\n",
    "            if i >= 0 and j >= 0 and i < len(data) and j < len(data[i]) and (i,j) not in area:\n",
    "                getArea(letter, i, j, area)\n",
    "    return area\n",
    "    \n",
    "\n",
    "def getPerimeter(area):\n",
    "    perimeter=0\n",
    "    for x,y in area:\n",
    "        for i,j in [(x-1,y), (x+1,y), (x,y-1), (x,y+1)]:\n",
    "            if (i,j) not in area:\n",
    "                perimeter += 1\n",
    "    return perimeter\n",
    "\n",
    "total_price = 0\n",
    "areas=[]\n",
    "for x in range(len(data)):\n",
    "    for y in range(len(data[x])):\n",
    "        letter = data[x][y]\n",
    "        regionArea = getArea(letter, x, y, set())\n",
    "        if regionArea in areas:\n",
    "            continue\n",
    "        \n",
    "        total_price += getPerimeter(regionArea) * len(regionArea)\n",
    "        areas.append(regionArea)\n",
    "\n",
    "print(\"Part 1:\", total_price)\n",
    "time_p1 = round((perf_counter_ns() - start_p1),2) / 1e6\n",
    "print(\"Time taken:\", time_p1, \"ms\")"
   ]
  },
  {
   "cell_type": "markdown",
   "metadata": {},
   "source": [
    "## Part 2"
   ]
  },
  {
   "cell_type": "code",
   "execution_count": 76,
   "metadata": {},
   "outputs": [
    {
     "name": "stdout",
     "output_type": "stream",
     "text": [
      "Part 2: 897702\n",
      "Time taken: 1441.724958 ms\n"
     ]
    }
   ],
   "source": [
    "start_p2 = perf_counter_ns()\n",
    "\n",
    "def getArea(letter, x, y, area):\n",
    "    if data[x][y] == letter:\n",
    "        area.add((x,y))\n",
    "        for i,j in [(x-1,y), (x+1,y), (x,y-1), (x,y+1)]:\n",
    "            if i >= 0 and j >= 0 and i < len(data) and j < len(data[i]) and (i,j) not in area:\n",
    "                getArea(letter, i, j, area)\n",
    "    return area\n",
    "    \n",
    "\n",
    "def getPerimeter(area):\n",
    "    perimeter=0\n",
    "    for x,y in area:\n",
    "        for i,j in [(x-1,y), (x+1,y), (x,y-1), (x,y+1)]:\n",
    "            if (i,j) not in area:\n",
    "                perimeter += 1\n",
    "    return perimeter\n",
    "\n",
    "def getCorners(region):\n",
    "    sides = 0\n",
    "\n",
    "    edge_coord_corners = set()\n",
    "    for x, y in region:\n",
    "        for dx, dy in [(.5, .5), (.5, -.5), (-.5, .5), (-.5, -.5)]:\n",
    "            edge_coord_corners.add((x + dx, y + dy))\n",
    "    \n",
    "    for x, y in edge_coord_corners:\n",
    "        pattern = \"\"\n",
    "        for dx, dy in [(.5, .5), (.5, -.5), (-.5, .5), (-.5, -.5)]: \n",
    "            pattern += \"X\" if (x+dx, y+dy) in region else \"O\"\n",
    "        if pattern in (\"OXXO\", \"XOOX\"):\n",
    "            sides += 2\n",
    "        elif pattern.count(\"X\") == 3 or pattern.count(\"O\") == 3:\n",
    "            sides += 1\n",
    "\n",
    "    return sides\n",
    "            \n",
    "total_price = 0\n",
    "areas=[]\n",
    "for x in range(len(data)):\n",
    "    for y in range(len(data[x])):\n",
    "        letter = data[x][y]\n",
    "        regionArea = getArea(letter, x, y, set())\n",
    "        if regionArea in areas:\n",
    "            continue\n",
    "        \n",
    "        total_price += getCorners(regionArea) * len(regionArea)\n",
    "        areas.append(regionArea)\n",
    "        \n",
    "#print(areas)\n",
    "\n",
    "print(\"Part 2:\", total_price)\n",
    "time_p2 = round((perf_counter_ns() - start_p2),2) / 1e6\n",
    "print(\"Time taken:\", time_p2, \"ms\")"
   ]
  }
 ],
 "metadata": {
  "kernelspec": {
   "display_name": ".venv",
   "language": "python",
   "name": "python3"
  },
  "language_info": {
   "codemirror_mode": {
    "name": "ipython",
    "version": 3
   },
   "file_extension": ".py",
   "mimetype": "text/x-python",
   "name": "python",
   "nbconvert_exporter": "python",
   "pygments_lexer": "ipython3",
   "version": "3.12.7"
  }
 },
 "nbformat": 4,
 "nbformat_minor": 2
}
