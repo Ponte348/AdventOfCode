{
 "cells": [
  {
   "cell_type": "markdown",
   "metadata": {},
   "source": [
    "# Day09"
   ]
  },
  {
   "cell_type": "code",
   "execution_count": 163,
   "metadata": {},
   "outputs": [],
   "source": [
    "from time import perf_counter_ns\n",
    "from time import sleep\n",
    "from collections import deque\n",
    "\n",
    "with open('input.txt', 'r') as f:\n",
    "    data = f.read()\n",
    "\n",
    "#print(data)\n",
    "#print(\"00...111...2...333.44.5555.6666.777.888899\\n0099.111...2...333.44.5555.6666.777.8888..\\n0099.1117772...333.44.5555.6666.....8888..\\n0099.111777244.333....5555.6666.....8888..\\n00992111777.44.333....5555.6666.....8888..\")"
   ]
  },
  {
   "cell_type": "markdown",
   "metadata": {},
   "source": [
    "## Part 1"
   ]
  },
  {
   "cell_type": "code",
   "execution_count": null,
   "metadata": {},
   "outputs": [
    {
     "name": "stdout",
     "output_type": "stream",
     "text": [
      "Part 1: 6301895872542\n",
      "Time taken: 43.780818 ms\n"
     ]
    }
   ],
   "source": [
    "start_p1 = perf_counter_ns()\n",
    "\n",
    "blocks = deque()\n",
    "for i in range(0, len(data), 2):\n",
    "    blocks.extend(str(i//2) for _ in range(int(data[i])))\n",
    "    blocks.extend('.' for _ in range(int(data[i+1]) if i+1 < len(data) else 0))    \n",
    "\n",
    "nogaps = []\n",
    "dots=0\n",
    "\n",
    "while blocks:\n",
    "    block = blocks.popleft()\n",
    "    \n",
    "    if block != '.':\n",
    "        nogaps.append(block)\n",
    "    else:\n",
    "        dots += 1\n",
    "        while True:\n",
    "            right = blocks.pop()\n",
    "            if right == '.':\n",
    "                dots += 1\n",
    "            else:\n",
    "                nogaps.append(right)\n",
    "                break\n",
    "\n",
    "nogaps = nogaps + ['.' for _ in range(dots)]      \n",
    "\n",
    "checksum = 0\n",
    "for i in range(len(nogaps)):\n",
    "    if nogaps[i] == '.':\n",
    "        break\n",
    "    checksum += int(nogaps[i]) * i\n",
    "    \n",
    "print(\"Part 1:\", checksum)\n",
    "time_p1 = round((perf_counter_ns() - start_p1),2) / 1e6\n",
    "print(\"Time taken:\", time_p1, \"ms\")"
   ]
  },
  {
   "cell_type": "markdown",
   "metadata": {},
   "source": [
    "## Part 2"
   ]
  },
  {
   "cell_type": "code",
   "execution_count": 166,
   "metadata": {},
   "outputs": [
    {
     "name": "stdout",
     "output_type": "stream",
     "text": [
      "Part 2: 6323761685944\n",
      "Time taken: 16141.458343 ms\n"
     ]
    }
   ],
   "source": [
    "start_p2 = perf_counter_ns()\n",
    "\n",
    "blocks = []\n",
    "for i in range(0, len(data), 2):\n",
    "    blocks.extend(str(i//2) for _ in range(int(data[i])))\n",
    "    blocks.extend('.' for _ in range(int(data[i+1]) if i+1 < len(data) else 0))\n",
    "\n",
    "def group_consecutive(lst):\n",
    "    if not lst:\n",
    "        return []\n",
    "        \n",
    "    result = []\n",
    "    current_group = [lst[0]]\n",
    "    \n",
    "    for item in lst[1:]:\n",
    "        if item == current_group[0]:\n",
    "            current_group.append(item)\n",
    "        else:\n",
    "            result.append(current_group)\n",
    "            current_group = [item]\n",
    "            \n",
    "    result.append(current_group)\n",
    "    return result\n",
    "\n",
    "def swap_elements(lst, index1, index2):\n",
    "    if index1 >= len(lst) or index2 >= len(lst) or index1 < 0 or index2 < 0:\n",
    "        return lst\n",
    "    lst[index1], lst[index2] = lst[index2], lst[index1]\n",
    "    return lst\n",
    "\n",
    "def split_sublist(lst, index, diff):\n",
    "    if index >= len(lst):\n",
    "        return lst\n",
    "        \n",
    "    target = lst[index]\n",
    "    if len(target) <= diff:\n",
    "        return lst\n",
    "        \n",
    "    first_part = target[:diff]\n",
    "    second_part = target[diff:]\n",
    "    \n",
    "    lst[index:index+1] = [second_part, first_part]\n",
    "    \n",
    "    return lst\n",
    "\n",
    "def join_dots(lst):\n",
    "    i = 0\n",
    "    while i < len(lst) - 1:\n",
    "        if lst[i][0] == '.' and lst[i+1][0] == '.':\n",
    "            lst[i] = lst[i] + lst[i+1]\n",
    "            lst.pop(i+1)\n",
    "        else:\n",
    "            i += 1\n",
    "    return lst\n",
    "\n",
    "def swap_groups(lst, index1, index2):\n",
    "    len1 = len(lst[index1])\n",
    "    len2 = len(lst[index2])\n",
    "    \n",
    "    if len1 < len2:\n",
    "        return lst\n",
    "    if len1 == len2:\n",
    "        return swap_elements(lst, index1, index2), 0\n",
    "    \n",
    "    diff = len1 - len2\n",
    "    lst = split_sublist(lst, index1, diff)\n",
    "    lst = swap_elements(lst, index1, index2+1)\n",
    "    lst = join_dots(lst)\n",
    "    return lst, 1\n",
    "\n",
    "separated = group_consecutive(blocks)\n",
    "\n",
    "size = len(separated)\n",
    "id = int(separated[-1][0])\n",
    "i=len(separated)-1\n",
    "while id>0:\n",
    "    if separated[i][0] == '.':\n",
    "        i-=1\n",
    "        continue\n",
    "    \n",
    "    for j in range(i):\n",
    "        if separated[j][0] == '.' and len(separated[j]) >= len(separated[i]):\n",
    "            separated,add = swap_groups(separated, j, i)\n",
    "            i+=add\n",
    "            break\n",
    "        \n",
    "    separated = join_dots(separated)\n",
    "    id-=1\n",
    "    i-=1\n",
    "\n",
    "final=[]\n",
    "checksum = 0\n",
    "for i in range(len(separated)):\n",
    "    final.extend(separated[i])\n",
    "\n",
    "for i in range(len(final)):\n",
    "    if final[i] == '.':\n",
    "        continue\n",
    "    checksum += int(final[i]) * i\n",
    "\n",
    "print(\"Part 2:\", checksum)\n",
    "time_p2 = round((perf_counter_ns() - start_p2), 2) / 1e6\n",
    "print(\"Time taken:\", time_p2, \"ms\")"
   ]
  }
 ],
 "metadata": {
  "kernelspec": {
   "display_name": ".venv",
   "language": "python",
   "name": "python3"
  },
  "language_info": {
   "codemirror_mode": {
    "name": "ipython",
    "version": 3
   },
   "file_extension": ".py",
   "mimetype": "text/x-python",
   "name": "python",
   "nbconvert_exporter": "python",
   "pygments_lexer": "ipython3",
   "version": "3.12.7"
  }
 },
 "nbformat": 4,
 "nbformat_minor": 2
}
