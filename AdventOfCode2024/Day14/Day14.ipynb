{
 "cells": [
  {
   "cell_type": "markdown",
   "metadata": {},
   "source": [
    "# Day 14"
   ]
  },
  {
   "cell_type": "code",
   "execution_count": 104,
   "metadata": {},
   "outputs": [],
   "source": [
    "from time import perf_counter_ns\n",
    "\n",
    "file = 'input.txt'\n",
    "with open(file, 'r') as f:\n",
    "    data = f.read().splitlines()\n",
    "\n",
    "#print(data)\n",
    "\n",
    "class Robot:\n",
    "    def __init__(self, info, gridSize):\n",
    "        self.starting_position = info[0]\n",
    "        self.position = info[0]\n",
    "        self.velocity = info[1]\n",
    "        self.gridSize = gridSize\n",
    "        \n",
    "    def move(self):\n",
    "        self.position = (self.position[0] + self.velocity[0], self.position[1] + self.velocity[1])\n",
    "        self.stabilize()\n",
    "    \n",
    "    def stabilize(self):\n",
    "        overflows = (self.position[0] // self.gridSize[0], self.position[1] // self.gridSize[1])\n",
    "        self.position = (self.position[0] - overflows[0] * self.gridSize[0], self.position[1] - overflows[1] * self.gridSize[1])\n",
    "    \n",
    "    def quadrant(self):\n",
    "        \"\"\"\n",
    "        Returns the quadrant of the robot's position, with 1 being the top left, 2 being the top right, 3 being the bottom left, and 4 being the bottom right.\\n\n",
    "        If he's in the middle of the grid, returns 0. The grid sizes are always odd.\n",
    "        \"\"\"\n",
    "        middleY, middleX = self.gridSize[0] // 2, self.gridSize[1] // 2\n",
    "        if self.position[0] == middleY or self.position[1] == middleX:\n",
    "            return 0\n",
    "        if self.position[0] < middleY:\n",
    "            if self.position[1] < middleX:\n",
    "                return 1\n",
    "            else:\n",
    "                return 3\n",
    "        else:\n",
    "            if self.position[1] < middleX:\n",
    "                return 2\n",
    "            else:\n",
    "                return 4\n",
    "    \n",
    "    def __str__(self):\n",
    "        return f'Robot at {self.position} with velocity {self.velocity}'\n",
    "    "
   ]
  },
  {
   "cell_type": "markdown",
   "metadata": {},
   "source": [
    "## Part 1"
   ]
  },
  {
   "cell_type": "code",
   "execution_count": 105,
   "metadata": {},
   "outputs": [
    {
     "name": "stdout",
     "output_type": "stream",
     "text": [
      "Part 1: 228410028\n",
      "Time taken: 14.245331 ms\n"
     ]
    }
   ],
   "source": [
    "start_p1 = perf_counter_ns()\n",
    "\n",
    "quadrants = [0,0,0,0,0]\n",
    "gridSize = (11, 7) if file == 'example.txt' else (101, 103)\n",
    "grid = [['.' for _ in range(gridSize[0])] for _ in range(gridSize[1])]\n",
    "\n",
    "for line in data:\n",
    "    #print(line)\n",
    "    # line is in format: p=0,4 v=3,-3\n",
    "    # the values after p= are the starting position and the values after v= are the velocity\n",
    "    info = line.split(' ')\n",
    "    starting_position = (int(info[0][2:].split(',')[0]), int(info[0][2:].split(',')[1]))\n",
    "    velocity = (int(info[1][2:].split(',')[0]), int(info[1][2:].split(',')[1]))\n",
    "    robot = Robot((starting_position, velocity), gridSize)\n",
    "    \n",
    "    for i in range(100):\n",
    "        robot.move()\n",
    "    #robot.stabilize()\n",
    "    \n",
    "    quadrant = robot.quadrant()\n",
    "    quadrants[quadrant] += 1\n",
    "    \n",
    "    if grid[robot.position[1]][robot.position[0]] == '.':\n",
    "        grid[robot.position[1]][robot.position[0]] = '1'\n",
    "    else:\n",
    "        grid[robot.position[1]][robot.position[0]] = str(int(grid[robot.position[1]][robot.position[0]]) + 1)\n",
    "\n",
    "# to get safety factor multiply all quadrants\n",
    "safetyFactor = 1\n",
    "for q in range(1, 5):\n",
    "    safetyFactor *= quadrants[q]\n",
    "    \n",
    "# replace middle of the grid with \" \"\n",
    "middleY, middleX = gridSize[0] // 2, gridSize[1] // 2\n",
    "for i in range(len(grid)):\n",
    "    for j in range(len(grid[i])):\n",
    "        if i == middleX or j == middleY:\n",
    "            grid[i][j] = \" \"\n",
    "\n",
    "#for i in range(gridSize[1]):\n",
    "#    print(''.join(grid[i]))\n",
    "print(\"Part 1:\", safetyFactor)\n",
    "time_p1 = round((perf_counter_ns() - start_p1),2) / 1e6\n",
    "print(\"Time taken:\", time_p1, \"ms\")"
   ]
  },
  {
   "cell_type": "markdown",
   "metadata": {},
   "source": [
    "## Part 2"
   ]
  },
  {
   "cell_type": "code",
   "execution_count": null,
   "metadata": {},
   "outputs": [],
   "source": []
  }
 ],
 "metadata": {
  "kernelspec": {
   "display_name": ".venv",
   "language": "python",
   "name": "python3"
  },
  "language_info": {
   "codemirror_mode": {
    "name": "ipython",
    "version": 3
   },
   "file_extension": ".py",
   "mimetype": "text/x-python",
   "name": "python",
   "nbconvert_exporter": "python",
   "pygments_lexer": "ipython3",
   "version": "3.12.7"
  }
 },
 "nbformat": 4,
 "nbformat_minor": 2
}
